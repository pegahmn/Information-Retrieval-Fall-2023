{
  "cells": [
    {
      "cell_type": "code",
      "execution_count": 1,
      "metadata": {
        "colab": {
          "base_uri": "https://localhost:8080/"
        },
        "id": "kQbkE05rhRSn",
        "outputId": "e56a0806-475e-44df-d771-1d688879a9cf"
      },
      "outputs": [
        {
          "output_type": "stream",
          "name": "stdout",
          "text": [
            "Requirement already satisfied: hazm in /usr/local/lib/python3.10/dist-packages (0.9.4)\n",
            "Requirement already satisfied: fasttext-wheel<0.10.0,>=0.9.2 in /usr/local/lib/python3.10/dist-packages (from hazm) (0.9.2)\n",
            "Requirement already satisfied: flashtext<3.0,>=2.7 in /usr/local/lib/python3.10/dist-packages (from hazm) (2.7)\n",
            "Requirement already satisfied: gensim<5.0.0,>=4.3.1 in /usr/local/lib/python3.10/dist-packages (from hazm) (4.3.2)\n",
            "Requirement already satisfied: nltk<4.0.0,>=3.8.1 in /usr/local/lib/python3.10/dist-packages (from hazm) (3.8.1)\n",
            "Requirement already satisfied: numpy==1.24.3 in /usr/local/lib/python3.10/dist-packages (from hazm) (1.24.3)\n",
            "Requirement already satisfied: python-crfsuite<0.10.0,>=0.9.9 in /usr/local/lib/python3.10/dist-packages (from hazm) (0.9.9)\n",
            "Requirement already satisfied: scikit-learn<2.0.0,>=1.2.2 in /usr/local/lib/python3.10/dist-packages (from hazm) (1.2.2)\n",
            "Requirement already satisfied: pybind11>=2.2 in /usr/local/lib/python3.10/dist-packages (from fasttext-wheel<0.10.0,>=0.9.2->hazm) (2.11.1)\n",
            "Requirement already satisfied: setuptools>=0.7.0 in /usr/local/lib/python3.10/dist-packages (from fasttext-wheel<0.10.0,>=0.9.2->hazm) (67.7.2)\n",
            "Requirement already satisfied: scipy>=1.7.0 in /usr/local/lib/python3.10/dist-packages (from gensim<5.0.0,>=4.3.1->hazm) (1.11.3)\n",
            "Requirement already satisfied: smart-open>=1.8.1 in /usr/local/lib/python3.10/dist-packages (from gensim<5.0.0,>=4.3.1->hazm) (6.4.0)\n",
            "Requirement already satisfied: click in /usr/local/lib/python3.10/dist-packages (from nltk<4.0.0,>=3.8.1->hazm) (8.1.7)\n",
            "Requirement already satisfied: joblib in /usr/local/lib/python3.10/dist-packages (from nltk<4.0.0,>=3.8.1->hazm) (1.3.2)\n",
            "Requirement already satisfied: regex>=2021.8.3 in /usr/local/lib/python3.10/dist-packages (from nltk<4.0.0,>=3.8.1->hazm) (2023.6.3)\n",
            "Requirement already satisfied: tqdm in /usr/local/lib/python3.10/dist-packages (from nltk<4.0.0,>=3.8.1->hazm) (4.66.1)\n",
            "Requirement already satisfied: threadpoolctl>=2.0.0 in /usr/local/lib/python3.10/dist-packages (from scikit-learn<2.0.0,>=1.2.2->hazm) (3.2.0)\n"
          ]
        }
      ],
      "source": [
        "!pip install hazm"
      ]
    },
    {
      "cell_type": "code",
      "execution_count": 2,
      "metadata": {
        "id": "AYawZtnyhrJK"
      },
      "outputs": [],
      "source": [
        "from hazm import Normalizer, WordTokenizer, Stemmer\n",
        "import nltk\n",
        "import pandas as pd\n",
        "import re\n",
        "from string import punctuation as punctuation_str\n",
        "import csv\n",
        "from nltk.stem import PorterStemmer\n",
        "from nltk.tokenize import word_tokenize\n",
        "from nltk.corpus import stopwords\n",
        "from tqdm import tqdm\n",
        "import math"
      ]
    },
    {
      "cell_type": "code",
      "execution_count": 3,
      "metadata": {
        "colab": {
          "base_uri": "https://localhost:8080/"
        },
        "id": "wNhdZNs5hx6B",
        "outputId": "91681679-0d5a-42bf-c4fc-c11f37df7d6b"
      },
      "outputs": [
        {
          "output_type": "stream",
          "name": "stdout",
          "text": [
            "--2023-11-12 20:26:35--  https://github.com/mohamad-dehghani/persian-pdf-books-dataset/raw/master/final_books.xlsx\n",
            "Resolving github.com (github.com)... 140.82.112.4\n",
            "Connecting to github.com (github.com)|140.82.112.4|:443... connected.\n",
            "HTTP request sent, awaiting response... 302 Found\n",
            "Location: https://raw.githubusercontent.com/mohamad-dehghani/persian-pdf-books-dataset/master/final_books.xlsx [following]\n",
            "--2023-11-12 20:26:36--  https://raw.githubusercontent.com/mohamad-dehghani/persian-pdf-books-dataset/master/final_books.xlsx\n",
            "Resolving raw.githubusercontent.com (raw.githubusercontent.com)... 185.199.108.133, 185.199.109.133, 185.199.110.133, ...\n",
            "Connecting to raw.githubusercontent.com (raw.githubusercontent.com)|185.199.108.133|:443... connected.\n",
            "HTTP request sent, awaiting response... 200 OK\n",
            "Length: 1380625 (1.3M) [application/octet-stream]\n",
            "Saving to: ‘final_books.xlsx.3’\n",
            "\n",
            "final_books.xlsx.3  100%[===================>]   1.32M  --.-KB/s    in 0.07s   \n",
            "\n",
            "2023-11-12 20:26:36 (20.0 MB/s) - ‘final_books.xlsx.3’ saved [1380625/1380625]\n",
            "\n"
          ]
        }
      ],
      "source": [
        "!wget https://github.com/mohamad-dehghani/persian-pdf-books-dataset/raw/master/final_books.xlsx"
      ]
    },
    {
      "cell_type": "markdown",
      "metadata": {
        "id": "k5VBVcrIiFRW"
      },
      "source": [
        "#Persian Dataset"
      ]
    },
    {
      "cell_type": "code",
      "execution_count": 4,
      "metadata": {
        "colab": {
          "base_uri": "https://localhost:8080/"
        },
        "id": "7T0CdE96h1VF",
        "outputId": "159f16b3-a6a6-4f26-9b42-a6497045cd0b"
      },
      "outputs": [
        {
          "output_type": "stream",
          "name": "stdout",
          "text": [
            "<class 'pandas.core.frame.DataFrame'>\n",
            "RangeIndex: 2824 entries, 0 to 2823\n",
            "Data columns (total 6 columns):\n",
            " #   Column    Non-Null Count  Dtype \n",
            "---  ------    --------------  ----- \n",
            " 0   title     2824 non-null   object\n",
            " 1   date      2824 non-null   object\n",
            " 2   content   2441 non-null   object\n",
            " 3   category  2824 non-null   object\n",
            " 4   author    2824 non-null   object\n",
            " 5   comments  2824 non-null   object\n",
            "dtypes: object(6)\n",
            "memory usage: 132.5+ KB\n"
          ]
        }
      ],
      "source": [
        "df = pd.read_excel('/content/final_books.xlsx')\n",
        "df.info()"
      ]
    },
    {
      "cell_type": "code",
      "execution_count": 5,
      "metadata": {
        "colab": {
          "base_uri": "https://localhost:8080/",
          "height": 293
        },
        "id": "icVC4oq2h4BC",
        "outputId": "b8c44223-4f06-4b14-e620-0af046006b68"
      },
      "outputs": [
        {
          "output_type": "execute_result",
          "data": {
            "text/plain": [
              "                             title           date  \\\n",
              "0             بهترین درسهای زندگی‎     ۲ دی ۱۳۹۸    \n",
              "1               از سلاجقه تا صفویه     ۱ دی ۱۳۹۸    \n",
              "2                    سرگذشت رضاشاه   ۲۹ آذر ۱۳۹۸    \n",
              "3   سیری نوین در فرگشت و اسرار مغز   ۲۸ آذر ۱۳۹۸    \n",
              "4                    آسمان پرستاره   ۲۶ آذر ۱۳۹۸    \n",
              "\n",
              "                                             content           category  \\\n",
              "0   تی دی جیکس یک کشیش، نویسنده، سخنران آمریکایی ...          روانشناسی   \n",
              "1   کتاب حاضر که اینک در دسترس خوانندگان محترم قر...        تاریخ ایران   \n",
              "2   دکتر فتح الله بینا تحصیلات خود را در رشته پزش...        تاریخ ایران   \n",
              "3   مجموعه پیش رو مطالبیست که در گروه Evolution ت...         علم و دانش   \n",
              "4   کتاب آسمان پرستاره نوشته‌ی کتی هایدن، به زبان...  کودکان و نوجوانان   \n",
              "\n",
              "                         author     comments  \n",
              "0                  سارا رزولت    بدون دیدگاه  \n",
              "1            نصرت الله مشکوتی    بدون دیدگاه  \n",
              "2               فتح الله بینا    بدون دیدگاه  \n",
              "3                مانی منوچهری    بدون دیدگاه  \n",
              "4                   کتی هایدن    بدون دیدگاه  "
            ],
            "text/html": [
              "\n",
              "  <div id=\"df-fbf09765-c0c7-45fc-a2de-792313f2a625\" class=\"colab-df-container\">\n",
              "    <div>\n",
              "<style scoped>\n",
              "    .dataframe tbody tr th:only-of-type {\n",
              "        vertical-align: middle;\n",
              "    }\n",
              "\n",
              "    .dataframe tbody tr th {\n",
              "        vertical-align: top;\n",
              "    }\n",
              "\n",
              "    .dataframe thead th {\n",
              "        text-align: right;\n",
              "    }\n",
              "</style>\n",
              "<table border=\"1\" class=\"dataframe\">\n",
              "  <thead>\n",
              "    <tr style=\"text-align: right;\">\n",
              "      <th></th>\n",
              "      <th>title</th>\n",
              "      <th>date</th>\n",
              "      <th>content</th>\n",
              "      <th>category</th>\n",
              "      <th>author</th>\n",
              "      <th>comments</th>\n",
              "    </tr>\n",
              "  </thead>\n",
              "  <tbody>\n",
              "    <tr>\n",
              "      <th>0</th>\n",
              "      <td>بهترین درسهای زندگی‎</td>\n",
              "      <td>۲ دی ۱۳۹۸</td>\n",
              "      <td>تی دی جیکس یک کشیش، نویسنده، سخنران آمریکایی ...</td>\n",
              "      <td>روانشناسی</td>\n",
              "      <td>سارا رزولت</td>\n",
              "      <td>بدون دیدگاه</td>\n",
              "    </tr>\n",
              "    <tr>\n",
              "      <th>1</th>\n",
              "      <td>از سلاجقه تا صفویه</td>\n",
              "      <td>۱ دی ۱۳۹۸</td>\n",
              "      <td>کتاب حاضر که اینک در دسترس خوانندگان محترم قر...</td>\n",
              "      <td>تاریخ ایران</td>\n",
              "      <td>نصرت الله مشکوتی</td>\n",
              "      <td>بدون دیدگاه</td>\n",
              "    </tr>\n",
              "    <tr>\n",
              "      <th>2</th>\n",
              "      <td>سرگذشت رضاشاه</td>\n",
              "      <td>۲۹ آذر ۱۳۹۸</td>\n",
              "      <td>دکتر فتح الله بینا تحصیلات خود را در رشته پزش...</td>\n",
              "      <td>تاریخ ایران</td>\n",
              "      <td>فتح الله بینا</td>\n",
              "      <td>بدون دیدگاه</td>\n",
              "    </tr>\n",
              "    <tr>\n",
              "      <th>3</th>\n",
              "      <td>سیری نوین در فرگشت و اسرار مغز</td>\n",
              "      <td>۲۸ آذر ۱۳۹۸</td>\n",
              "      <td>مجموعه پیش رو مطالبیست که در گروه Evolution ت...</td>\n",
              "      <td>علم و دانش</td>\n",
              "      <td>مانی منوچهری</td>\n",
              "      <td>بدون دیدگاه</td>\n",
              "    </tr>\n",
              "    <tr>\n",
              "      <th>4</th>\n",
              "      <td>آسمان پرستاره</td>\n",
              "      <td>۲۶ آذر ۱۳۹۸</td>\n",
              "      <td>کتاب آسمان پرستاره نوشته‌ی کتی هایدن، به زبان...</td>\n",
              "      <td>کودکان و نوجوانان</td>\n",
              "      <td>کتی هایدن</td>\n",
              "      <td>بدون دیدگاه</td>\n",
              "    </tr>\n",
              "  </tbody>\n",
              "</table>\n",
              "</div>\n",
              "    <div class=\"colab-df-buttons\">\n",
              "\n",
              "  <div class=\"colab-df-container\">\n",
              "    <button class=\"colab-df-convert\" onclick=\"convertToInteractive('df-fbf09765-c0c7-45fc-a2de-792313f2a625')\"\n",
              "            title=\"Convert this dataframe to an interactive table.\"\n",
              "            style=\"display:none;\">\n",
              "\n",
              "  <svg xmlns=\"http://www.w3.org/2000/svg\" height=\"24px\" viewBox=\"0 -960 960 960\">\n",
              "    <path d=\"M120-120v-720h720v720H120Zm60-500h600v-160H180v160Zm220 220h160v-160H400v160Zm0 220h160v-160H400v160ZM180-400h160v-160H180v160Zm440 0h160v-160H620v160ZM180-180h160v-160H180v160Zm440 0h160v-160H620v160Z\"/>\n",
              "  </svg>\n",
              "    </button>\n",
              "\n",
              "  <style>\n",
              "    .colab-df-container {\n",
              "      display:flex;\n",
              "      gap: 12px;\n",
              "    }\n",
              "\n",
              "    .colab-df-convert {\n",
              "      background-color: #E8F0FE;\n",
              "      border: none;\n",
              "      border-radius: 50%;\n",
              "      cursor: pointer;\n",
              "      display: none;\n",
              "      fill: #1967D2;\n",
              "      height: 32px;\n",
              "      padding: 0 0 0 0;\n",
              "      width: 32px;\n",
              "    }\n",
              "\n",
              "    .colab-df-convert:hover {\n",
              "      background-color: #E2EBFA;\n",
              "      box-shadow: 0px 1px 2px rgba(60, 64, 67, 0.3), 0px 1px 3px 1px rgba(60, 64, 67, 0.15);\n",
              "      fill: #174EA6;\n",
              "    }\n",
              "\n",
              "    .colab-df-buttons div {\n",
              "      margin-bottom: 4px;\n",
              "    }\n",
              "\n",
              "    [theme=dark] .colab-df-convert {\n",
              "      background-color: #3B4455;\n",
              "      fill: #D2E3FC;\n",
              "    }\n",
              "\n",
              "    [theme=dark] .colab-df-convert:hover {\n",
              "      background-color: #434B5C;\n",
              "      box-shadow: 0px 1px 3px 1px rgba(0, 0, 0, 0.15);\n",
              "      filter: drop-shadow(0px 1px 2px rgba(0, 0, 0, 0.3));\n",
              "      fill: #FFFFFF;\n",
              "    }\n",
              "  </style>\n",
              "\n",
              "    <script>\n",
              "      const buttonEl =\n",
              "        document.querySelector('#df-fbf09765-c0c7-45fc-a2de-792313f2a625 button.colab-df-convert');\n",
              "      buttonEl.style.display =\n",
              "        google.colab.kernel.accessAllowed ? 'block' : 'none';\n",
              "\n",
              "      async function convertToInteractive(key) {\n",
              "        const element = document.querySelector('#df-fbf09765-c0c7-45fc-a2de-792313f2a625');\n",
              "        const dataTable =\n",
              "          await google.colab.kernel.invokeFunction('convertToInteractive',\n",
              "                                                    [key], {});\n",
              "        if (!dataTable) return;\n",
              "\n",
              "        const docLinkHtml = 'Like what you see? Visit the ' +\n",
              "          '<a target=\"_blank\" href=https://colab.research.google.com/notebooks/data_table.ipynb>data table notebook</a>'\n",
              "          + ' to learn more about interactive tables.';\n",
              "        element.innerHTML = '';\n",
              "        dataTable['output_type'] = 'display_data';\n",
              "        await google.colab.output.renderOutput(dataTable, element);\n",
              "        const docLink = document.createElement('div');\n",
              "        docLink.innerHTML = docLinkHtml;\n",
              "        element.appendChild(docLink);\n",
              "      }\n",
              "    </script>\n",
              "  </div>\n",
              "\n",
              "\n",
              "<div id=\"df-13a2c9b4-aa6e-453b-939d-40de95c2eb05\">\n",
              "  <button class=\"colab-df-quickchart\" onclick=\"quickchart('df-13a2c9b4-aa6e-453b-939d-40de95c2eb05')\"\n",
              "            title=\"Suggest charts\"\n",
              "            style=\"display:none;\">\n",
              "\n",
              "<svg xmlns=\"http://www.w3.org/2000/svg\" height=\"24px\"viewBox=\"0 0 24 24\"\n",
              "     width=\"24px\">\n",
              "    <g>\n",
              "        <path d=\"M19 3H5c-1.1 0-2 .9-2 2v14c0 1.1.9 2 2 2h14c1.1 0 2-.9 2-2V5c0-1.1-.9-2-2-2zM9 17H7v-7h2v7zm4 0h-2V7h2v10zm4 0h-2v-4h2v4z\"/>\n",
              "    </g>\n",
              "</svg>\n",
              "  </button>\n",
              "\n",
              "<style>\n",
              "  .colab-df-quickchart {\n",
              "      --bg-color: #E8F0FE;\n",
              "      --fill-color: #1967D2;\n",
              "      --hover-bg-color: #E2EBFA;\n",
              "      --hover-fill-color: #174EA6;\n",
              "      --disabled-fill-color: #AAA;\n",
              "      --disabled-bg-color: #DDD;\n",
              "  }\n",
              "\n",
              "  [theme=dark] .colab-df-quickchart {\n",
              "      --bg-color: #3B4455;\n",
              "      --fill-color: #D2E3FC;\n",
              "      --hover-bg-color: #434B5C;\n",
              "      --hover-fill-color: #FFFFFF;\n",
              "      --disabled-bg-color: #3B4455;\n",
              "      --disabled-fill-color: #666;\n",
              "  }\n",
              "\n",
              "  .colab-df-quickchart {\n",
              "    background-color: var(--bg-color);\n",
              "    border: none;\n",
              "    border-radius: 50%;\n",
              "    cursor: pointer;\n",
              "    display: none;\n",
              "    fill: var(--fill-color);\n",
              "    height: 32px;\n",
              "    padding: 0;\n",
              "    width: 32px;\n",
              "  }\n",
              "\n",
              "  .colab-df-quickchart:hover {\n",
              "    background-color: var(--hover-bg-color);\n",
              "    box-shadow: 0 1px 2px rgba(60, 64, 67, 0.3), 0 1px 3px 1px rgba(60, 64, 67, 0.15);\n",
              "    fill: var(--button-hover-fill-color);\n",
              "  }\n",
              "\n",
              "  .colab-df-quickchart-complete:disabled,\n",
              "  .colab-df-quickchart-complete:disabled:hover {\n",
              "    background-color: var(--disabled-bg-color);\n",
              "    fill: var(--disabled-fill-color);\n",
              "    box-shadow: none;\n",
              "  }\n",
              "\n",
              "  .colab-df-spinner {\n",
              "    border: 2px solid var(--fill-color);\n",
              "    border-color: transparent;\n",
              "    border-bottom-color: var(--fill-color);\n",
              "    animation:\n",
              "      spin 1s steps(1) infinite;\n",
              "  }\n",
              "\n",
              "  @keyframes spin {\n",
              "    0% {\n",
              "      border-color: transparent;\n",
              "      border-bottom-color: var(--fill-color);\n",
              "      border-left-color: var(--fill-color);\n",
              "    }\n",
              "    20% {\n",
              "      border-color: transparent;\n",
              "      border-left-color: var(--fill-color);\n",
              "      border-top-color: var(--fill-color);\n",
              "    }\n",
              "    30% {\n",
              "      border-color: transparent;\n",
              "      border-left-color: var(--fill-color);\n",
              "      border-top-color: var(--fill-color);\n",
              "      border-right-color: var(--fill-color);\n",
              "    }\n",
              "    40% {\n",
              "      border-color: transparent;\n",
              "      border-right-color: var(--fill-color);\n",
              "      border-top-color: var(--fill-color);\n",
              "    }\n",
              "    60% {\n",
              "      border-color: transparent;\n",
              "      border-right-color: var(--fill-color);\n",
              "    }\n",
              "    80% {\n",
              "      border-color: transparent;\n",
              "      border-right-color: var(--fill-color);\n",
              "      border-bottom-color: var(--fill-color);\n",
              "    }\n",
              "    90% {\n",
              "      border-color: transparent;\n",
              "      border-bottom-color: var(--fill-color);\n",
              "    }\n",
              "  }\n",
              "</style>\n",
              "\n",
              "  <script>\n",
              "    async function quickchart(key) {\n",
              "      const quickchartButtonEl =\n",
              "        document.querySelector('#' + key + ' button');\n",
              "      quickchartButtonEl.disabled = true;  // To prevent multiple clicks.\n",
              "      quickchartButtonEl.classList.add('colab-df-spinner');\n",
              "      try {\n",
              "        const charts = await google.colab.kernel.invokeFunction(\n",
              "            'suggestCharts', [key], {});\n",
              "      } catch (error) {\n",
              "        console.error('Error during call to suggestCharts:', error);\n",
              "      }\n",
              "      quickchartButtonEl.classList.remove('colab-df-spinner');\n",
              "      quickchartButtonEl.classList.add('colab-df-quickchart-complete');\n",
              "    }\n",
              "    (() => {\n",
              "      let quickchartButtonEl =\n",
              "        document.querySelector('#df-13a2c9b4-aa6e-453b-939d-40de95c2eb05 button');\n",
              "      quickchartButtonEl.style.display =\n",
              "        google.colab.kernel.accessAllowed ? 'block' : 'none';\n",
              "    })();\n",
              "  </script>\n",
              "</div>\n",
              "    </div>\n",
              "  </div>\n"
            ]
          },
          "metadata": {},
          "execution_count": 5
        }
      ],
      "source": [
        "df.head()"
      ]
    },
    {
      "cell_type": "code",
      "execution_count": 6,
      "metadata": {
        "id": "GaaVLagDqer4"
      },
      "outputs": [],
      "source": [
        "def remove_symbols_and_numbers(content):\n",
        "  content = re.sub(f'[{punctuation_str}؟!،,?،٪×÷»«><:–]', '', content)\n",
        "  return content"
      ]
    },
    {
      "cell_type": "code",
      "execution_count": 7,
      "metadata": {
        "id": "CkP0QsarsgqK"
      },
      "outputs": [],
      "source": [
        "def normalizer(text):\n",
        "  normalizer = Normalizer()\n",
        "  removed_symbol_text = remove_symbols_and_numbers(text)\n",
        "  normalized_text = normalizer.normalize(removed_symbol_text)\n",
        "  normalized_text = normalized_text.replace(\"\\u200c\", \" \")\n",
        "  normalized_text = normalized_text.replace(\"\\u200e\", \" \")\n",
        "  return normalized_text"
      ]
    },
    {
      "cell_type": "code",
      "execution_count": 8,
      "metadata": {
        "id": "6qV7YukEPzG_"
      },
      "outputs": [],
      "source": [
        "def tokenizer(normalized_text):\n",
        "  word_tokenizer = WordTokenizer()\n",
        "  persian_stopwords = pd.read_fwf('https://raw.githubusercontent.com/sobhe/hazm/master/hazm/data/stopwords.dat', header=None)[0].to_list()\n",
        "  tokens = word_tokenizer.tokenize(normalized_text)\n",
        "  tokens = list(filter(lambda t: t not in persian_stopwords, tokens))\n",
        "  return tokens"
      ]
    },
    {
      "cell_type": "code",
      "execution_count": 9,
      "metadata": {
        "id": "f8sU7Bs9Pyt8"
      },
      "outputs": [],
      "source": [
        "def stemmer(tokens):\n",
        "  stemmer = Stemmer()\n",
        "  stems = [stemmer.stem(token) for token in tokens]\n",
        "  stems = list(filter(lambda t: len(t) >= 2, stems))\n",
        "  return stems"
      ]
    },
    {
      "cell_type": "code",
      "execution_count": 10,
      "metadata": {
        "id": "XZx3R7apiUYa"
      },
      "outputs": [],
      "source": [
        "def persian_preprocess(text):\n",
        "  normalized_text = normalizer(text)\n",
        "  tokens = tokenizer(normalized_text)\n",
        "  stems = stemmer(tokens)\n",
        "  return stems"
      ]
    },
    {
      "cell_type": "code",
      "execution_count": 11,
      "metadata": {
        "id": "8zQWis5Is5Pm"
      },
      "outputs": [],
      "source": [
        "def create_posting_list(turn, tokens, postingList):\n",
        "  for j, word in enumerate(tokens):\n",
        "    postingList[\"total\"] += 1\n",
        "    if word in postingList[\"words\"].keys():\n",
        "        if turn not in postingList[\"words\"][word].keys():\n",
        "            postingList[\"words\"][word][\"docs_id\"][turn] = 1\n",
        "            postingList[\"words\"][word][\"count\"] += 1\n",
        "        else:\n",
        "            postingList[\"words\"][word][\"docs_id\"][turn] += 1\n",
        "            postingList[\"words\"][word][\"count\"] += 1\n",
        "    else:\n",
        "        postingList[\"words\"][word] = {\"docs_id\": {}, \"count\": 1}\n",
        "        postingList[\"words\"][word][\"docs_id\"][turn] = 1\n",
        "  return postingList"
      ]
    },
    {
      "cell_type": "code",
      "execution_count": 12,
      "metadata": {
        "id": "uLTzV3eEOoyG"
      },
      "outputs": [],
      "source": [
        "start_doc=0\n",
        "end_doc=10\n",
        "#df.iloc[start_doc:end_doc]"
      ]
    },
    {
      "cell_type": "code",
      "execution_count": 13,
      "metadata": {
        "colab": {
          "base_uri": "https://localhost:8080/"
        },
        "id": "nT51jcGiPAAt",
        "outputId": "6e1824ba-63df-4cba-eb68-af1b3eb369b5"
      },
      "outputs": [
        {
          "output_type": "execute_result",
          "data": {
            "text/plain": [
              "Index(['title', 'date', 'content', 'category', 'author', 'comments'], dtype='object')"
            ]
          },
          "metadata": {},
          "execution_count": 13
        }
      ],
      "source": [
        "columnsName = df.columns\n",
        "columnsName"
      ]
    },
    {
      "cell_type": "code",
      "source": [
        "#Preprocess\n",
        "df['Preprocessed']=list\n",
        "for index, row in tqdm (df.iloc[start_doc:end_doc].iterrows()):\n",
        "  df.at[index, 'Preprocessed'] = []\n",
        "  for column in columnsName:\n",
        "    if pd.isna(row[column]):\n",
        "      continue\n",
        "    df.at[index, 'Preprocessed'].append(persian_preprocess(row[column]))\n",
        "  df.at[index, 'Preprocessed'] = [item for sublist in df.at[index, 'Preprocessed'] for item in sublist]"
      ],
      "metadata": {
        "colab": {
          "base_uri": "https://localhost:8080/"
        },
        "id": "Z148DPXkLuHt",
        "outputId": "989d0d6d-87d1-4b6b-e26b-5ebd702639cb"
      },
      "execution_count": 14,
      "outputs": [
        {
          "output_type": "stream",
          "name": "stderr",
          "text": [
            "10it [00:46,  4.65s/it]\n"
          ]
        }
      ]
    },
    {
      "cell_type": "code",
      "source": [
        "#Check the result of preprocess\n",
        "df.iloc[start_doc:end_doc]"
      ],
      "metadata": {
        "colab": {
          "base_uri": "https://localhost:8080/",
          "height": 537
        },
        "id": "s5d82G7eS2oJ",
        "outputId": "9b69a00c-c3de-4079-87b6-697166b57401"
      },
      "execution_count": 15,
      "outputs": [
        {
          "output_type": "execute_result",
          "data": {
            "text/plain": [
              "                                    title           date  \\\n",
              "0                    بهترین درسهای زندگی‎     ۲ دی ۱۳۹۸    \n",
              "1                      از سلاجقه تا صفویه     ۱ دی ۱۳۹۸    \n",
              "2                           سرگذشت رضاشاه   ۲۹ آذر ۱۳۹۸    \n",
              "3          سیری نوین در فرگشت و اسرار مغز   ۲۸ آذر ۱۳۹۸    \n",
              "4                           آسمان پرستاره   ۲۶ آذر ۱۳۹۸    \n",
              "5                      تاریخ مبارک غازانی   ۲۴ آذر ۱۳۹۸    \n",
              "6             وبلاگ نویسی شیرین با وردپرس   ۲۳ آذر ۱۳۹۸    \n",
              "7   نقش روابط جنسی و راز کامیابی در زندگی   ۲۲ آذر ۱۳۹۸    \n",
              "8                   معرفی کتاب الکترونیکی   ۲۲ آذر ۱۳۹۸    \n",
              "9                 فرهنگ ریشه واژگان فارسی   ۲۰ آذر ۱۳۹۸    \n",
              "\n",
              "                                             content           category  \\\n",
              "0   تی دی جیکس یک کشیش، نویسنده، سخنران آمریکایی ...          روانشناسی   \n",
              "1   کتاب حاضر که اینک در دسترس خوانندگان محترم قر...        تاریخ ایران   \n",
              "2   دکتر فتح الله بینا تحصیلات خود را در رشته پزش...        تاریخ ایران   \n",
              "3   مجموعه پیش رو مطالبیست که در گروه Evolution ت...         علم و دانش   \n",
              "4   کتاب آسمان پرستاره نوشته‌ی کتی هایدن، به زبان...  کودکان و نوجوانان   \n",
              "5   تاریخ مبارک غازانى، اثر فارسی رشیدالدین فضل‌ا...        تاریخ ایران   \n",
              "6   کتاب وبلاگ نویسی شیرین با WordPress به آموزش ...      طراحی وب سایت   \n",
              "7   استاد من پروفسور ویلسون که اینک در بیماریهای ...      پزشکی و سلامت   \n",
              "8   چیست؟ از آغاز تاریخ بشریت تاکنون شکل کتاب ها ...     دسته‌بندی نشده   \n",
              "9   ساختار کتاب چنین است که بر سر هر رویه درآیه‌ی...         آموزش زبان   \n",
              "\n",
              "                            author     comments  \\\n",
              "0                     سارا رزولت    بدون دیدگاه   \n",
              "1               نصرت الله مشکوتی    بدون دیدگاه   \n",
              "2                  فتح الله بینا    بدون دیدگاه   \n",
              "3                   مانی منوچهری    بدون دیدگاه   \n",
              "4                      کتی هایدن    بدون دیدگاه   \n",
              "5            رشید الدین فضل الله    بدون دیدگاه   \n",
              "6                           مایا    بدون دیدگاه   \n",
              "7                   هادی محمدپور    بدون دیدگاه   \n",
              "8                                   بدون دیدگاه   \n",
              "9                دکتر علی نورائی    بدون دیدگاه   \n",
              "\n",
              "                                        Preprocessed  \n",
              "0  [درس, زندگ, ۱۳۹۸, جیکس, کش, نویسنده, سخنر, آمر...  \n",
              "1  [سلاجقه, صفویه, ۱۳۹۸, کتاب, حاضر, اینک, دسترس,...  \n",
              "2  [سرگذ, رضاشاه, ۲۹, آذر, ۱۳۹۸, دک, فتح, الله, ب...  \n",
              "3  [سیر, نوین, فرگ, اسرار, مغز, ۲۸, آذر, ۱۳۹۸, مج...  \n",
              "4  [آس, پرستاره, ۲۶, آذر, ۱۳۹۸, کتاب, آس, پرستاره...  \n",
              "5  [تاریخ, مبارک, غازان, ۲۴, آذر, ۱۳۹۸, تاریخ, مب...  \n",
              "6  [وبلاگ, نویس, شیرین, وردپرس, ۲۳, آذر, ۱۳۹۸, کت...  \n",
              "7  [نق, روابط, جنس, راز, کامیاب, زندگ, ۲۲, آذر, ۱...  \n",
              "8  [معرف, کتاب, الکترونیک, ۲۲, آذر, ۱۳۹۸, چیس, آغ...  \n",
              "9  [فرهنگ, ریشه, واژگ, فارس, ۲۰, آذر, ۱۳۹۸, ساختا...  "
            ],
            "text/html": [
              "\n",
              "  <div id=\"df-f7a7bc23-889b-4332-8f04-b7b3486e834d\" class=\"colab-df-container\">\n",
              "    <div>\n",
              "<style scoped>\n",
              "    .dataframe tbody tr th:only-of-type {\n",
              "        vertical-align: middle;\n",
              "    }\n",
              "\n",
              "    .dataframe tbody tr th {\n",
              "        vertical-align: top;\n",
              "    }\n",
              "\n",
              "    .dataframe thead th {\n",
              "        text-align: right;\n",
              "    }\n",
              "</style>\n",
              "<table border=\"1\" class=\"dataframe\">\n",
              "  <thead>\n",
              "    <tr style=\"text-align: right;\">\n",
              "      <th></th>\n",
              "      <th>title</th>\n",
              "      <th>date</th>\n",
              "      <th>content</th>\n",
              "      <th>category</th>\n",
              "      <th>author</th>\n",
              "      <th>comments</th>\n",
              "      <th>Preprocessed</th>\n",
              "    </tr>\n",
              "  </thead>\n",
              "  <tbody>\n",
              "    <tr>\n",
              "      <th>0</th>\n",
              "      <td>بهترین درسهای زندگی‎</td>\n",
              "      <td>۲ دی ۱۳۹۸</td>\n",
              "      <td>تی دی جیکس یک کشیش، نویسنده، سخنران آمریکایی ...</td>\n",
              "      <td>روانشناسی</td>\n",
              "      <td>سارا رزولت</td>\n",
              "      <td>بدون دیدگاه</td>\n",
              "      <td>[درس, زندگ, ۱۳۹۸, جیکس, کش, نویسنده, سخنر, آمر...</td>\n",
              "    </tr>\n",
              "    <tr>\n",
              "      <th>1</th>\n",
              "      <td>از سلاجقه تا صفویه</td>\n",
              "      <td>۱ دی ۱۳۹۸</td>\n",
              "      <td>کتاب حاضر که اینک در دسترس خوانندگان محترم قر...</td>\n",
              "      <td>تاریخ ایران</td>\n",
              "      <td>نصرت الله مشکوتی</td>\n",
              "      <td>بدون دیدگاه</td>\n",
              "      <td>[سلاجقه, صفویه, ۱۳۹۸, کتاب, حاضر, اینک, دسترس,...</td>\n",
              "    </tr>\n",
              "    <tr>\n",
              "      <th>2</th>\n",
              "      <td>سرگذشت رضاشاه</td>\n",
              "      <td>۲۹ آذر ۱۳۹۸</td>\n",
              "      <td>دکتر فتح الله بینا تحصیلات خود را در رشته پزش...</td>\n",
              "      <td>تاریخ ایران</td>\n",
              "      <td>فتح الله بینا</td>\n",
              "      <td>بدون دیدگاه</td>\n",
              "      <td>[سرگذ, رضاشاه, ۲۹, آذر, ۱۳۹۸, دک, فتح, الله, ب...</td>\n",
              "    </tr>\n",
              "    <tr>\n",
              "      <th>3</th>\n",
              "      <td>سیری نوین در فرگشت و اسرار مغز</td>\n",
              "      <td>۲۸ آذر ۱۳۹۸</td>\n",
              "      <td>مجموعه پیش رو مطالبیست که در گروه Evolution ت...</td>\n",
              "      <td>علم و دانش</td>\n",
              "      <td>مانی منوچهری</td>\n",
              "      <td>بدون دیدگاه</td>\n",
              "      <td>[سیر, نوین, فرگ, اسرار, مغز, ۲۸, آذر, ۱۳۹۸, مج...</td>\n",
              "    </tr>\n",
              "    <tr>\n",
              "      <th>4</th>\n",
              "      <td>آسمان پرستاره</td>\n",
              "      <td>۲۶ آذر ۱۳۹۸</td>\n",
              "      <td>کتاب آسمان پرستاره نوشته‌ی کتی هایدن، به زبان...</td>\n",
              "      <td>کودکان و نوجوانان</td>\n",
              "      <td>کتی هایدن</td>\n",
              "      <td>بدون دیدگاه</td>\n",
              "      <td>[آس, پرستاره, ۲۶, آذر, ۱۳۹۸, کتاب, آس, پرستاره...</td>\n",
              "    </tr>\n",
              "    <tr>\n",
              "      <th>5</th>\n",
              "      <td>تاریخ مبارک غازانی</td>\n",
              "      <td>۲۴ آذر ۱۳۹۸</td>\n",
              "      <td>تاریخ مبارک غازانى، اثر فارسی رشیدالدین فضل‌ا...</td>\n",
              "      <td>تاریخ ایران</td>\n",
              "      <td>رشید الدین فضل الله</td>\n",
              "      <td>بدون دیدگاه</td>\n",
              "      <td>[تاریخ, مبارک, غازان, ۲۴, آذر, ۱۳۹۸, تاریخ, مب...</td>\n",
              "    </tr>\n",
              "    <tr>\n",
              "      <th>6</th>\n",
              "      <td>وبلاگ نویسی شیرین با وردپرس</td>\n",
              "      <td>۲۳ آذر ۱۳۹۸</td>\n",
              "      <td>کتاب وبلاگ نویسی شیرین با WordPress به آموزش ...</td>\n",
              "      <td>طراحی وب سایت</td>\n",
              "      <td>مایا</td>\n",
              "      <td>بدون دیدگاه</td>\n",
              "      <td>[وبلاگ, نویس, شیرین, وردپرس, ۲۳, آذر, ۱۳۹۸, کت...</td>\n",
              "    </tr>\n",
              "    <tr>\n",
              "      <th>7</th>\n",
              "      <td>نقش روابط جنسی و راز کامیابی در زندگی</td>\n",
              "      <td>۲۲ آذر ۱۳۹۸</td>\n",
              "      <td>استاد من پروفسور ویلسون که اینک در بیماریهای ...</td>\n",
              "      <td>پزشکی و سلامت</td>\n",
              "      <td>هادی محمدپور</td>\n",
              "      <td>بدون دیدگاه</td>\n",
              "      <td>[نق, روابط, جنس, راز, کامیاب, زندگ, ۲۲, آذر, ۱...</td>\n",
              "    </tr>\n",
              "    <tr>\n",
              "      <th>8</th>\n",
              "      <td>معرفی کتاب الکترونیکی</td>\n",
              "      <td>۲۲ آذر ۱۳۹۸</td>\n",
              "      <td>چیست؟ از آغاز تاریخ بشریت تاکنون شکل کتاب ها ...</td>\n",
              "      <td>دسته‌بندی نشده</td>\n",
              "      <td></td>\n",
              "      <td>بدون دیدگاه</td>\n",
              "      <td>[معرف, کتاب, الکترونیک, ۲۲, آذر, ۱۳۹۸, چیس, آغ...</td>\n",
              "    </tr>\n",
              "    <tr>\n",
              "      <th>9</th>\n",
              "      <td>فرهنگ ریشه واژگان فارسی</td>\n",
              "      <td>۲۰ آذر ۱۳۹۸</td>\n",
              "      <td>ساختار کتاب چنین است که بر سر هر رویه درآیه‌ی...</td>\n",
              "      <td>آموزش زبان</td>\n",
              "      <td>دکتر علی نورائی</td>\n",
              "      <td>بدون دیدگاه</td>\n",
              "      <td>[فرهنگ, ریشه, واژگ, فارس, ۲۰, آذر, ۱۳۹۸, ساختا...</td>\n",
              "    </tr>\n",
              "  </tbody>\n",
              "</table>\n",
              "</div>\n",
              "    <div class=\"colab-df-buttons\">\n",
              "\n",
              "  <div class=\"colab-df-container\">\n",
              "    <button class=\"colab-df-convert\" onclick=\"convertToInteractive('df-f7a7bc23-889b-4332-8f04-b7b3486e834d')\"\n",
              "            title=\"Convert this dataframe to an interactive table.\"\n",
              "            style=\"display:none;\">\n",
              "\n",
              "  <svg xmlns=\"http://www.w3.org/2000/svg\" height=\"24px\" viewBox=\"0 -960 960 960\">\n",
              "    <path d=\"M120-120v-720h720v720H120Zm60-500h600v-160H180v160Zm220 220h160v-160H400v160Zm0 220h160v-160H400v160ZM180-400h160v-160H180v160Zm440 0h160v-160H620v160ZM180-180h160v-160H180v160Zm440 0h160v-160H620v160Z\"/>\n",
              "  </svg>\n",
              "    </button>\n",
              "\n",
              "  <style>\n",
              "    .colab-df-container {\n",
              "      display:flex;\n",
              "      gap: 12px;\n",
              "    }\n",
              "\n",
              "    .colab-df-convert {\n",
              "      background-color: #E8F0FE;\n",
              "      border: none;\n",
              "      border-radius: 50%;\n",
              "      cursor: pointer;\n",
              "      display: none;\n",
              "      fill: #1967D2;\n",
              "      height: 32px;\n",
              "      padding: 0 0 0 0;\n",
              "      width: 32px;\n",
              "    }\n",
              "\n",
              "    .colab-df-convert:hover {\n",
              "      background-color: #E2EBFA;\n",
              "      box-shadow: 0px 1px 2px rgba(60, 64, 67, 0.3), 0px 1px 3px 1px rgba(60, 64, 67, 0.15);\n",
              "      fill: #174EA6;\n",
              "    }\n",
              "\n",
              "    .colab-df-buttons div {\n",
              "      margin-bottom: 4px;\n",
              "    }\n",
              "\n",
              "    [theme=dark] .colab-df-convert {\n",
              "      background-color: #3B4455;\n",
              "      fill: #D2E3FC;\n",
              "    }\n",
              "\n",
              "    [theme=dark] .colab-df-convert:hover {\n",
              "      background-color: #434B5C;\n",
              "      box-shadow: 0px 1px 3px 1px rgba(0, 0, 0, 0.15);\n",
              "      filter: drop-shadow(0px 1px 2px rgba(0, 0, 0, 0.3));\n",
              "      fill: #FFFFFF;\n",
              "    }\n",
              "  </style>\n",
              "\n",
              "    <script>\n",
              "      const buttonEl =\n",
              "        document.querySelector('#df-f7a7bc23-889b-4332-8f04-b7b3486e834d button.colab-df-convert');\n",
              "      buttonEl.style.display =\n",
              "        google.colab.kernel.accessAllowed ? 'block' : 'none';\n",
              "\n",
              "      async function convertToInteractive(key) {\n",
              "        const element = document.querySelector('#df-f7a7bc23-889b-4332-8f04-b7b3486e834d');\n",
              "        const dataTable =\n",
              "          await google.colab.kernel.invokeFunction('convertToInteractive',\n",
              "                                                    [key], {});\n",
              "        if (!dataTable) return;\n",
              "\n",
              "        const docLinkHtml = 'Like what you see? Visit the ' +\n",
              "          '<a target=\"_blank\" href=https://colab.research.google.com/notebooks/data_table.ipynb>data table notebook</a>'\n",
              "          + ' to learn more about interactive tables.';\n",
              "        element.innerHTML = '';\n",
              "        dataTable['output_type'] = 'display_data';\n",
              "        await google.colab.output.renderOutput(dataTable, element);\n",
              "        const docLink = document.createElement('div');\n",
              "        docLink.innerHTML = docLinkHtml;\n",
              "        element.appendChild(docLink);\n",
              "      }\n",
              "    </script>\n",
              "  </div>\n",
              "\n",
              "\n",
              "<div id=\"df-f939c6b6-80c8-454c-b4a8-8e7d10278a88\">\n",
              "  <button class=\"colab-df-quickchart\" onclick=\"quickchart('df-f939c6b6-80c8-454c-b4a8-8e7d10278a88')\"\n",
              "            title=\"Suggest charts\"\n",
              "            style=\"display:none;\">\n",
              "\n",
              "<svg xmlns=\"http://www.w3.org/2000/svg\" height=\"24px\"viewBox=\"0 0 24 24\"\n",
              "     width=\"24px\">\n",
              "    <g>\n",
              "        <path d=\"M19 3H5c-1.1 0-2 .9-2 2v14c0 1.1.9 2 2 2h14c1.1 0 2-.9 2-2V5c0-1.1-.9-2-2-2zM9 17H7v-7h2v7zm4 0h-2V7h2v10zm4 0h-2v-4h2v4z\"/>\n",
              "    </g>\n",
              "</svg>\n",
              "  </button>\n",
              "\n",
              "<style>\n",
              "  .colab-df-quickchart {\n",
              "      --bg-color: #E8F0FE;\n",
              "      --fill-color: #1967D2;\n",
              "      --hover-bg-color: #E2EBFA;\n",
              "      --hover-fill-color: #174EA6;\n",
              "      --disabled-fill-color: #AAA;\n",
              "      --disabled-bg-color: #DDD;\n",
              "  }\n",
              "\n",
              "  [theme=dark] .colab-df-quickchart {\n",
              "      --bg-color: #3B4455;\n",
              "      --fill-color: #D2E3FC;\n",
              "      --hover-bg-color: #434B5C;\n",
              "      --hover-fill-color: #FFFFFF;\n",
              "      --disabled-bg-color: #3B4455;\n",
              "      --disabled-fill-color: #666;\n",
              "  }\n",
              "\n",
              "  .colab-df-quickchart {\n",
              "    background-color: var(--bg-color);\n",
              "    border: none;\n",
              "    border-radius: 50%;\n",
              "    cursor: pointer;\n",
              "    display: none;\n",
              "    fill: var(--fill-color);\n",
              "    height: 32px;\n",
              "    padding: 0;\n",
              "    width: 32px;\n",
              "  }\n",
              "\n",
              "  .colab-df-quickchart:hover {\n",
              "    background-color: var(--hover-bg-color);\n",
              "    box-shadow: 0 1px 2px rgba(60, 64, 67, 0.3), 0 1px 3px 1px rgba(60, 64, 67, 0.15);\n",
              "    fill: var(--button-hover-fill-color);\n",
              "  }\n",
              "\n",
              "  .colab-df-quickchart-complete:disabled,\n",
              "  .colab-df-quickchart-complete:disabled:hover {\n",
              "    background-color: var(--disabled-bg-color);\n",
              "    fill: var(--disabled-fill-color);\n",
              "    box-shadow: none;\n",
              "  }\n",
              "\n",
              "  .colab-df-spinner {\n",
              "    border: 2px solid var(--fill-color);\n",
              "    border-color: transparent;\n",
              "    border-bottom-color: var(--fill-color);\n",
              "    animation:\n",
              "      spin 1s steps(1) infinite;\n",
              "  }\n",
              "\n",
              "  @keyframes spin {\n",
              "    0% {\n",
              "      border-color: transparent;\n",
              "      border-bottom-color: var(--fill-color);\n",
              "      border-left-color: var(--fill-color);\n",
              "    }\n",
              "    20% {\n",
              "      border-color: transparent;\n",
              "      border-left-color: var(--fill-color);\n",
              "      border-top-color: var(--fill-color);\n",
              "    }\n",
              "    30% {\n",
              "      border-color: transparent;\n",
              "      border-left-color: var(--fill-color);\n",
              "      border-top-color: var(--fill-color);\n",
              "      border-right-color: var(--fill-color);\n",
              "    }\n",
              "    40% {\n",
              "      border-color: transparent;\n",
              "      border-right-color: var(--fill-color);\n",
              "      border-top-color: var(--fill-color);\n",
              "    }\n",
              "    60% {\n",
              "      border-color: transparent;\n",
              "      border-right-color: var(--fill-color);\n",
              "    }\n",
              "    80% {\n",
              "      border-color: transparent;\n",
              "      border-right-color: var(--fill-color);\n",
              "      border-bottom-color: var(--fill-color);\n",
              "    }\n",
              "    90% {\n",
              "      border-color: transparent;\n",
              "      border-bottom-color: var(--fill-color);\n",
              "    }\n",
              "  }\n",
              "</style>\n",
              "\n",
              "  <script>\n",
              "    async function quickchart(key) {\n",
              "      const quickchartButtonEl =\n",
              "        document.querySelector('#' + key + ' button');\n",
              "      quickchartButtonEl.disabled = true;  // To prevent multiple clicks.\n",
              "      quickchartButtonEl.classList.add('colab-df-spinner');\n",
              "      try {\n",
              "        const charts = await google.colab.kernel.invokeFunction(\n",
              "            'suggestCharts', [key], {});\n",
              "      } catch (error) {\n",
              "        console.error('Error during call to suggestCharts:', error);\n",
              "      }\n",
              "      quickchartButtonEl.classList.remove('colab-df-spinner');\n",
              "      quickchartButtonEl.classList.add('colab-df-quickchart-complete');\n",
              "    }\n",
              "    (() => {\n",
              "      let quickchartButtonEl =\n",
              "        document.querySelector('#df-f939c6b6-80c8-454c-b4a8-8e7d10278a88 button');\n",
              "      quickchartButtonEl.style.display =\n",
              "        google.colab.kernel.accessAllowed ? 'block' : 'none';\n",
              "    })();\n",
              "  </script>\n",
              "</div>\n",
              "    </div>\n",
              "  </div>\n"
            ]
          },
          "metadata": {},
          "execution_count": 15
        }
      ]
    },
    {
      "cell_type": "code",
      "execution_count": 16,
      "metadata": {
        "colab": {
          "base_uri": "https://localhost:8080/"
        },
        "id": "-8ay7R5ozBJG",
        "outputId": "3d3dfe21-ea95-45ff-8b80-29f2aaa4bc7b"
      },
      "outputs": [
        {
          "output_type": "stream",
          "name": "stderr",
          "text": [
            "10it [00:00, 2702.34it/s]\n"
          ]
        }
      ],
      "source": [
        "#Create Posting List\n",
        "persianPostingList = {\"words\": {}, \"total\": 0}\n",
        "for index, row in tqdm (df.iloc[start_doc:end_doc].iterrows()):\n",
        "      persianPostingList = create_posting_list(index, row[\"Preprocessed\"], persianPostingList)"
      ]
    },
    {
      "cell_type": "code",
      "execution_count": 17,
      "metadata": {
        "id": "v-jg62fPifHj",
        "colab": {
          "base_uri": "https://localhost:8080/"
        },
        "outputId": "fdb9a680-a9d7-47a8-a8eb-78aca0dd72f7"
      },
      "outputs": [
        {
          "output_type": "stream",
          "name": "stdout",
          "text": [
            "\n",
            "Posting List:\n",
            "{'words': {'درس': {'docs_id': {0: 1}, 'count': 1}, 'زندگ': {'docs_id': {0: 1, 5: 1, 7: 1, 8: 1}, 'count': 6}, '۱۳۹۸': {'docs_id': {0: 1, 1: 1, 2: 1, 3: 1, 4: 1, 5: 1, 6: 1, 7: 1, 8: 1, 9: 1}, 'count': 10}, 'جیکس': {'docs_id': {0: 1}, 'count': 5}, 'کش': {'docs_id': {0: 1}, 'count': 2}, 'نویسنده': {'docs_id': {0: 1, 5: 1, 9: 1}, 'count': 3}, 'سخنر': {'docs_id': {0: 1}, 'count': 3}, 'آمریکا': {'docs_id': {0: 1, 9: 1}, 'count': 3}, 'سمینار': {'docs_id': {0: 1}, 'count': 1}, 'انگیزش': {'docs_id': {0: 1}, 'count': 3}, 'مذهب': {'docs_id': {0: 1, 5: 1}, 'count': 2}, 'دلیل': {'docs_id': {0: 1}, 'count': 1}, 'ایر': {'docs_id': {0: 1, 1: 1, 2: 1, 5: 1}, 'count': 9}, 'سیاه': {'docs_id': {0: 1}, 'count': 1}, 'پوس': {'docs_id': {0: 1}, 'count': 1}, 'لقب': {'docs_id': {0: 1}, 'count': 1}, 'گرفته_اس': {'docs_id': {0: 1}, 'count': 1}, 'زندگینامه': {'docs_id': {0: 1}, 'count': 1}, 'شاهد': {'docs_id': {0: 1, 8: 1}, 'count': 2}, 'فعال': {'docs_id': {0: 1}, 'count': 2}, 'مختلف': {'docs_id': {0: 1, 3: 1, 8: 1}, 'count': 5}, 'خواه': {'docs_id': {0: 1}, 'count': 1}, 'تجربه': {'docs_id': {0: 1}, 'count': 1}, 'تلا': {'docs_id': {0: 1}, 'count': 1}, 'موارد': {'docs_id': {0: 1, 6: 1}, 'count': 2}, 'اعلا': {'docs_id': {0: 1}, 'count': 1}, 'خانه': {'docs_id': {0: 1}, 'count': 1}, 'پا': {'docs_id': {0: 1, 1: 1, 2: 1}, 'count': 5}, 'مخاطب': {'docs_id': {0: 1, 3: 1}, 'count': 2}, 'موعظه': {'docs_id': {0: 1}, 'count': 1}, 'سخنران': {'docs_id': {0: 1}, 'count': 2}, 'کلیسا': {'docs_id': {0: 1}, 'count': 1}, 'شبکه': {'docs_id': {0: 1}, 'count': 1}, 'تلویزیون': {'docs_id': {0: 1}, 'count': 1}, 'رادیو': {'docs_id': {0: 1}, 'count': 1}, 'کتاب': {'docs_id': {0: 1, 1: 1, 2: 1, 3: 1, 4: 1, 5: 1, 6: 1, 8: 1, 9: 1}, 'count': 30}, 'گزیده_ا': {'docs_id': {0: 1}, 'count': 1}, 'جیکز': {'docs_id': {0: 1}, 'count': 1}, 'دنیا': {'docs_id': {0: 1, 8: 1}, 'count': 2}, 'امید': {'docs_id': {0: 1}, 'count': 1}, 'مطالعه': {'docs_id': {0: 1, 5: 1, 8: 1}, 'count': 4}, 'دقیق': {'docs_id': {0: 1}, 'count': 1}, 'باور': {'docs_id': {0: 1}, 'count': 1}, 'عمیق': {'docs_id': {0: 1, 1: 1}, 'count': 2}, 'تغییر': {'docs_id': {0: 1}, 'count': 1}, 'مثب': {'docs_id': {0: 1}, 'count': 1}, 'ایجاد': {'docs_id': {0: 1}, 'count': 1}, 'روانشناس': {'docs_id': {0: 1, 2: 1}, 'count': 2}, 'سارا': {'docs_id': {0: 1}, 'count': 1}, 'رزول': {'docs_id': {0: 1}, 'count': 1}, 'دیدگاه': {'docs_id': {0: 1, 1: 1, 2: 1, 3: 1, 4: 1, 5: 1, 6: 1, 7: 1, 8: 1, 9: 1}, 'count': 12}, 'سلاجقه': {'docs_id': {1: 1}, 'count': 4}, 'صفویه': {'docs_id': {1: 1}, 'count': 2}, 'حاضر': {'docs_id': {1: 1, 2: 1, 8: 1}, 'count': 3}, 'اینک': {'docs_id': {1: 1, 7: 1}, 'count': 2}, 'دسترس': {'docs_id': {1: 1, 3: 1, 8: 1}, 'count': 4}, 'خوانندگ': {'docs_id': {1: 1}, 'count': 1}, 'محتر': {'docs_id': {1: 1}, 'count': 1}, 'قرار': {'docs_id': {1: 1, 4: 1, 8: 1}, 'count': 4}, 'مشتمل': {'docs_id': {1: 1}, 'count': 1}, 'تاریخ': {'docs_id': {1: 1, 2: 1, 5: 1, 8: 1}, 'count': 19}, 'اوضاع': {'docs_id': {1: 1, 5: 1}, 'count': 2}, 'سیاس': {'docs_id': {1: 1, 2: 1}, 'count': 3}, 'اجتماع': {'docs_id': {1: 1, 2: 1}, 'count': 3}, 'صنعت': {'docs_id': {1: 1}, 'count': 1}, 'ادب': {'docs_id': {1: 1, 2: 1}, 'count': 2}, 'قرن': {'docs_id': {1: 1}, 'count': 2}, 'تاسیس': {'docs_id': {1: 1}, 'count': 1}, 'سلسله': {'docs_id': {1: 1}, 'count': 2}, 'آغاز': {'docs_id': {1: 1, 5: 1, 8: 1}, 'count': 4}, 'دوره': {'docs_id': {1: 1, 5: 1}, 'count': 2}, 'کشور': {'docs_id': {1: 1}, 'count': 2}, 'رشته': {'docs_id': {1: 1, 2: 1}, 'count': 2}, 'انقلاب': {'docs_id': {1: 1}, 'count': 1}, 'داخل': {'docs_id': {1: 1}, 'count': 1}, 'تهاج': {'docs_id': {1: 1}, 'count': 1}, 'نتیجه': {'docs_id': {1: 1}, 'count': 1}, 'ظاهر': {'docs_id': {1: 1}, 'count': 1}, 'هرج': {'docs_id': {1: 1}, 'count': 1}, 'مرج': {'docs_id': {1: 1}, 'count': 1}, 'کشتار': {'docs_id': {1: 1, 5: 1}, 'count': 2}, 'فراو': {'docs_id': {1: 1}, 'count': 1}, 'تحول': {'docs_id': {1: 1, 2: 1, 8: 1}, 'count': 3}, 'گردیده': {'docs_id': {1: 1, 3: 1}, 'count': 4}, 'ظهور': {'docs_id': {1: 1}, 'count': 1}, 'منزله': {'docs_id': {1: 1}, 'count': 1}, 'نهض': {'docs_id': {1: 1}, 'count': 1}, 'عظ': {'docs_id': {1: 1}, 'count': 1}, 'رود': {'docs_id': {1: 1, 6: 1}, 'count': 2}, 'وحد': {'docs_id': {1: 1}, 'count': 1}, 'مل': {'docs_id': {1: 1}, 'count': 1}, 'حاکم': {'docs_id': {1: 1}, 'count': 1}, 'ادار': {'docs_id': {1: 1}, 'count': 1}, 'برقرار': {'docs_id': {1: 1}, 'count': 1}, 'گردید': {'docs_id': {1: 1}, 'count': 1}, 'بنا': {'docs_id': {1: 1}, 'count': 1}, 'شرح': {'docs_id': {1: 1, 2: 1}, 'count': 2}, 'فصل': {'docs_id': {1: 1, 3: 1}, 'count': 2}, 'ثب': {'docs_id': {1: 1}, 'count': 1}, 'مدید': {'docs_id': {1: 1}, 'count': 1}, 'حکوم': {'docs_id': {1: 1}, 'count': 1}, 'ملوک': {'docs_id': {1: 1}, 'count': 1}, 'الطوایف': {'docs_id': {1: 1}, 'count': 1}, 'طغ': {'docs_id': {1: 1}, 'count': 1}, 'عط': {'docs_id': {1: 1}, 'count': 1}, 'گردنک': {'docs_id': {1: 1}, 'count': 1}, 'گوشه': {'docs_id': {1: 1}, 'count': 1}, 'مملک': {'docs_id': {1: 1}, 'count': 1}, 'روز': {'docs_id': {1: 1, 7: 1, 8: 1}, 'count': 3}, 'عل': {'docs_id': {1: 1, 3: 1, 9: 1}, 'count': 4}, 'استقلال': {'docs_id': {1: 1}, 'count': 1}, 'برافراشته': {'docs_id': {1: 1}, 'count': 1}, 'داعیه': {'docs_id': {1: 1}, 'count': 1}, 'سلطن': {'docs_id': {1: 1}, 'count': 1}, 'امار': {'docs_id': {1: 1}, 'count': 1}, 'داده_شد': {'docs_id': {1: 1}, 'count': 1}, 'دور': {'docs_id': {1: 1}, 'count': 1}, 'شهریار': {'docs_id': {1: 1}, 'count': 1}, 'سلجوق': {'docs_id': {1: 1}, 'count': 1}, 'توانستند': {'docs_id': {1: 1}, 'count': 1}, 'برخلاف': {'docs_id': {1: 1}, 'count': 1}, 'فرمانروا': {'docs_id': {1: 1}, 'count': 1}, 'آل': {'docs_id': {1: 1, 5: 1}, 'count': 2}, 'بویه': {'docs_id': {1: 1}, 'count': 1}, 'سلاطین': {'docs_id': {1: 1}, 'count': 1}, 'غزنو': {'docs_id': {1: 1}, 'count': 1}, 'حوزه': {'docs_id': {1: 1, 9: 1}, 'count': 2}, 'متصرف': {'docs_id': {1: 1}, 'count': 1}, 'شر': {'docs_id': {1: 1}, 'count': 1}, 'مداخل': {'docs_id': {1: 1}, 'count': 1}, 'نابجا': {'docs_id': {1: 1}, 'count': 1}, 'خلفا': {'docs_id': {1: 1}, 'count': 1}, 'بغداد': {'docs_id': {1: 1}, 'count': 1}, 'دهند…': {'docs_id': {1: 1}, 'count': 1}, 'نصر': {'docs_id': {1: 1}, 'count': 1}, 'الله': {'docs_id': {1: 1, 2: 1, 5: 1}, 'count': 5}, 'مشکوت': {'docs_id': {1: 1}, 'count': 1}, 'سرگذ': {'docs_id': {2: 1}, 'count': 1}, 'رضاشاه': {'docs_id': {2: 1}, 'count': 1}, '۲۹': {'docs_id': {2: 1}, 'count': 1}, 'آذر': {'docs_id': {2: 1, 3: 1, 4: 1, 5: 1, 6: 1, 7: 1, 8: 1, 9: 1}, 'count': 8}, 'دک': {'docs_id': {2: 1, 9: 1}, 'count': 2}, 'فتح': {'docs_id': {2: 1}, 'count': 2}, 'بینا': {'docs_id': {2: 1}, 'count': 2}, 'تحصیل': {'docs_id': {2: 1}, 'count': 1}, 'پزشک': {'docs_id': {2: 1, 7: 1}, 'count': 4}, 'دنبال': {'docs_id': {2: 1}, 'count': 1}, 'مقدمه': {'docs_id': {2: 1, 5: 1}, 'count': 2}, 'نگارنده': {'docs_id': {2: 1}, 'count': 2}, 'دان': {'docs_id': {2: 1, 3: 1}, 'count': 2}, 'دوستدار': {'docs_id': {2: 1}, 'count': 1}, 'ادبیا': {'docs_id': {2: 1}, 'count': 1}, 'فراغ': {'docs_id': {2: 1}, 'count': 1}, 'گلچین': {'docs_id': {2: 1}, 'count': 1}, 'گلزار': {'docs_id': {2: 1}, 'count': 1}, 'فراگرفتن': {'docs_id': {2: 1}, 'count': 1}, 'پند': {'docs_id': {2: 1}, 'count': 1}, 'گذرانم…': {'docs_id': {2: 1}, 'count': 1}, 'دیده': {'docs_id': {2: 1, 9: 1}, 'count': 2}, 'نگریسته': {'docs_id': {2: 1}, 'count': 1}, 'فلسفه': {'docs_id': {2: 1}, 'count': 1}, 'بردن': {'docs_id': {2: 1}, 'count': 1}, 'علل': {'docs_id': {2: 1}, 'count': 1}, 'منجر': {'docs_id': {2: 1}, 'count': 1}, 'حوادث': {'docs_id': {2: 1}, 'count': 1}, 'گشته_اند': {'docs_id': {2: 1}, 'count': 1}, 'نتایج': {'docs_id': {2: 1}, 'count': 1}, 'بررس': {'docs_id': {2: 1}, 'count': 1}, 'حاصل': {'docs_id': {2: 1}, 'count': 1}, 'وقایع': {'docs_id': {2: 1, 5: 1}, 'count': 2}, 'علاقمندم…با': {'docs_id': {2: 1}, 'count': 1}, 'تحلیل': {'docs_id': {2: 1}, 'count': 1}, 'شخص': {'docs_id': {2: 1, 5: 1}, 'count': 2}, 'رضا': {'docs_id': {2: 1}, 'count': 2}, 'شاه': {'docs_id': {2: 1}, 'count': 1}, 'اقدا': {'docs_id': {2: 1}, 'count': 1}, 'پردازد': {'docs_id': {2: 1, 6: 1}, 'count': 2}, 'مقایسه': {'docs_id': {2: 1}, 'count': 1}, 'فرانسه': {'docs_id': {2: 1, 9: 1}, 'count': 2}, 'انجا': {'docs_id': {2: 1, 5: 1}, 'count': 2}, 'داس': {'docs_id': {2: 1}, 'count': 1}, 'تخ': {'docs_id': {2: 1}, 'count': 1}, 'نشستن': {'docs_id': {2: 1}, 'count': 1}, 'افول': {'docs_id': {2: 1}, 'count': 1}, 'اقبال': {'docs_id': {2: 1}, 'count': 1}, 'نظام': {'docs_id': {2: 1}, 'count': 1}, 'سیاستمدار': {'docs_id': {2: 1}, 'count': 1}, 'مقتدر': {'docs_id': {2: 1}, 'count': 1}, 'ناپلئون': {'docs_id': {2: 1}, 'count': 1}, 'بناپار': {'docs_id': {2: 1}, 'count': 1}, 'پهلو': {'docs_id': {2: 1}, 'count': 1}, 'سبک': {'docs_id': {2: 1, 5: 1}, 'count': 2}, 'روا': {'docs_id': {2: 1}, 'count': 1}, 'سیر': {'docs_id': {3: 1}, 'count': 1}, 'نوین': {'docs_id': {3: 1}, 'count': 1}, 'فرگ': {'docs_id': {3: 1}, 'count': 1}, 'اسرار': {'docs_id': {3: 1, 4: 1}, 'count': 2}, 'مغز': {'docs_id': {3: 1}, 'count': 1}, '۲۸': {'docs_id': {3: 1}, 'count': 1}, 'مجموعه': {'docs_id': {3: 1, 5: 1}, 'count': 3}, 'مطالبیس': {'docs_id': {3: 1}, 'count': 1}, 'گروه': {'docs_id': {3: 1}, 'count': 2}, 'Evolution': {'docs_id': {3: 1}, 'count': 1}, 'توسط': {'docs_id': {3: 1}, 'count': 1}, 'اینجانب': {'docs_id': {3: 1}, 'count': 1}, 'کتب': {'docs_id': {3: 1}, 'count': 1}, 'انگلیس': {'docs_id': {3: 1, 9: 1}, 'count': 2}, '۲۰۱۵': {'docs_id': {3: 1}, 'count': 1}, '۲۰۱۷': {'docs_id': {3: 1}, 'count': 1}, 'مقال': {'docs_id': {3: 1}, 'count': 1}, 'میکس': {'docs_id': {3: 1}, 'count': 1}, 'نگارش': {'docs_id': {3: 1}, 'count': 1}, 'ارائه': {'docs_id': {3: 1, 5: 1}, 'count': 3}, 'مطالب': {'docs_id': {3: 1, 4: 1, 5: 1, 8: 1}, 'count': 5}, 'خط': {'docs_id': {3: 1}, 'count': 2}, 'رفرنس': {'docs_id': {3: 1}, 'count': 1}, 'معتبر': {'docs_id': {3: 1}, 'count': 1}, 'بدلیل': {'docs_id': {3: 1}, 'count': 1}, 'آس': {'docs_id': {3: 1, 4: 1, 8: 1}, 'count': 5}, 'موضوع': {'docs_id': {3: 1, 4: 1}, 'count': 2}, 'تنظ': {'docs_id': {3: 1}, 'count': 2}, 'ذکر': {'docs_id': {3: 1, 5: 1}, 'count': 2}, 'منابع': {'docs_id': {3: 1}, 'count': 1}, 'خوددار': {'docs_id': {3: 1}, 'count': 1}, 'ضمنا': {'docs_id': {3: 1}, 'count': 1}, 'مان': {'docs_id': {3: 1}, 'count': 1}, 'منوچهر': {'docs_id': {3: 1}, 'count': 1}, 'پرستاره': {'docs_id': {4: 1}, 'count': 2}, '۲۶': {'docs_id': {4: 1}, 'count': 1}, 'نوشته': {'docs_id': {4: 1, 5: 1, 6: 1}, 'count': 3}, 'کت': {'docs_id': {4: 1}, 'count': 2}, 'هایدن': {'docs_id': {4: 1}, 'count': 2}, 'زبان': {'docs_id': {4: 1}, 'count': 1}, 'ساده': {'docs_id': {4: 1, 5: 1, 6: 1, 8: 1}, 'count': 4}, 'کودک': {'docs_id': {4: 1}, 'count': 2}, 'نوجوان': {'docs_id': {4: 1}, 'count': 2}, 'نگاشته': {'docs_id': {4: 1}, 'count': 1}, 'آموز': {'docs_id': {4: 1, 6: 1, 9: 1}, 'count': 3}, 'مفاه': {'docs_id': {4: 1}, 'count': 1}, 'ستارگ': {'docs_id': {4: 1}, 'count': 2}, 'صور': {'docs_id': {4: 1}, 'count': 1}, 'فلک': {'docs_id': {4: 1}, 'count': 1}, 'کهک': {'docs_id': {4: 1}, 'count': 1}, 'افسانه': {'docs_id': {4: 1}, 'count': 1}, 'باس': {'docs_id': {4: 1}, 'count': 1}, 'تواند': {'docs_id': {4: 1}, 'count': 1}, 'استفاده': {'docs_id': {4: 1, 6: 1, 8: 1}, 'count': 6}, 'علاقمند': {'docs_id': {4: 1}, 'count': 1}, 'نجو': {'docs_id': {4: 1}, 'count': 1}, 'ستاره': {'docs_id': {4: 1, 7: 1}, 'count': 2}, 'شناس': {'docs_id': {4: 1, 7: 1, 9: 1}, 'count': 3}, 'سودمند': {'docs_id': {4: 1}, 'count': 1}, 'تصاویر': {'docs_id': {4: 1}, 'count': 1}, 'زیبا': {'docs_id': {4: 1, 8: 1}, 'count': 2}, 'جذاب': {'docs_id': {4: 1}, 'count': 1}, 'فه': {'docs_id': {4: 1}, 'count': 1}, 'کمک': {'docs_id': {4: 1}, 'count': 1}, 'مبارک': {'docs_id': {5: 1}, 'count': 2}, 'غازان': {'docs_id': {5: 1}, 'count': 2}, '۲۴': {'docs_id': {5: 1}, 'count': 1}, 'فارس': {'docs_id': {5: 1, 9: 1}, 'count': 4}, 'رشیدالدین': {'docs_id': {5: 1}, 'count': 1}, 'فضل': {'docs_id': {5: 1}, 'count': 2}, 'بن': {'docs_id': {5: 1}, 'count': 1}, 'عمادالدوله': {'docs_id': {5: 1}, 'count': 1}, 'ابواخیر': {'docs_id': {5: 1}, 'count': 1}, 'هسته': {'docs_id': {5: 1, 6: 1}, 'count': 2}, 'اصل': {'docs_id': {5: 1}, 'count': 3}, 'جامع': {'docs_id': {5: 1}, 'count': 1}, 'التواریخ': {'docs_id': {5: 1}, 'count': 1}, 'بردارنده': {'docs_id': {5: 1}, 'count': 1}, 'ایلخان': {'docs_id': {5: 1}, 'count': 3}, 'هولاکو': {'docs_id': {5: 1}, 'count': 1}, 'غاز': {'docs_id': {5: 1}, 'count': 7}, 'ظاهرا': {'docs_id': {5: 1}, 'count': 1}, 'فر': {'docs_id': {5: 1}, 'count': 1}, 'دریاف': {'docs_id': {5: 1}, 'count': 1}, 'مبلغ': {'docs_id': {5: 1}, 'count': 1}, 'میلیون': {'docs_id': {5: 1}, 'count': 1}, 'دینار': {'docs_id': {5: 1}, 'count': 1}, 'نوشته_شده_اس': {'docs_id': {5: 1}, 'count': 1}, 'مؤلف': {'docs_id': {5: 1}, 'count': 5}, 'توانسته': {'docs_id': {5: 1}, 'count': 1}, 'وضع': {'docs_id': {5: 1}, 'count': 1}, 'مرد': {'docs_id': {5: 1}, 'count': 1}, 'مشکل': {'docs_id': {5: 1}, 'count': 1}, 'طرز': {'docs_id': {5: 1, 8: 1}, 'count': 3}, 'مع': {'docs_id': {5: 1}, 'count': 1}, 'سلوک': {'docs_id': {5: 1}, 'count': 1}, 'عمال': {'docs_id': {5: 1}, 'count': 1}, 'دول': {'docs_id': {5: 1}, 'count': 1}, 'کارگزار': {'docs_id': {5: 1}, 'count': 2}, 'منعکس': {'docs_id': {5: 1}, 'count': 1}, 'اهم': {'docs_id': {5: 1, 8: 1}, 'count': 2}, 'اشاره': {'docs_id': {5: 1}, 'count': 1}, 'تقس': {'docs_id': {5: 1}, 'count': 1}, 'قسم': {'docs_id': {5: 1}, 'count': 1}, 'استسبک': {'docs_id': {5: 1}, 'count': 1}, 'نگار': {'docs_id': {5: 1, 9: 1}, 'count': 2}, 'خلاف': {'docs_id': {5: 1}, 'count': 1}, 'جهانگشا': {'docs_id': {5: 1}, 'count': 1}, 'جوین': {'docs_id': {5: 1}, 'count': 1}, 'وصاف': {'docs_id': {5: 1}, 'count': 1}, 'رو': {'docs_id': {5: 1}, 'count': 1}, 'مغول': {'docs_id': {5: 1}, 'count': 2}, 'زب': {'docs_id': {5: 1, 6: 1, 9: 1}, 'count': 13}, 'محاوره': {'docs_id': {5: 1}, 'count': 1}, 'روزگار': {'docs_id': {5: 1}, 'count': 1}, 'ترجمه': {'docs_id': {5: 1}, 'count': 1}, 'نو': {'docs_id': {5: 1}, 'count': 1}, 'بان': {'docs_id': {5: 1}, 'count': 1}, 'اصلاح': {'docs_id': {5: 1}, 'count': 3}, 'ایلخ': {'docs_id': {5: 1}, 'count': 1}, 'تو': {'docs_id': {5: 1}, 'count': 1}, 'راهنما': {'docs_id': {5: 1}, 'count': 1}, 'راستا': {'docs_id': {5: 1}, 'count': 1}, 'روابط': {'docs_id': {5: 1, 7: 1}, 'count': 2}, 'نزدیک': {'docs_id': {5: 1}, 'count': 1}, 'اعتماد': {'docs_id': {5: 1}, 'count': 1}, 'قالب': {'docs_id': {5: 1, 8: 1}, 'count': 4}, 'حاک': {'docs_id': {5: 1}, 'count': 1}, 'پادشاه': {'docs_id': {5: 1}, 'count': 1}, 'ایده': {'docs_id': {5: 1}, 'count': 1}, 'ترس': {'docs_id': {5: 1}, 'count': 1}, 'منبع': {'docs_id': {5: 1}, 'count': 1}, 'عصر': {'docs_id': {5: 1}, 'count': 1}, 'یرلیق': {'docs_id': {5: 1}, 'count': 1}, 'فرامین': {'docs_id': {5: 1}, 'count': 1}, 'مال': {'docs_id': {5: 1}, 'count': 1}, 'ناچار': {'docs_id': {5: 1}, 'count': 1}, 'احترا': {'docs_id': {5: 1}, 'count': 1}, 'یاد': {'docs_id': {5: 1}, 'count': 1}, 'گزار': {'docs_id': {5: 1}, 'count': 1}, 'ویرانگر': {'docs_id': {5: 1}, 'count': 1}, 'غار': {'docs_id': {5: 1}, 'count': 1}, 'تفصیل': {'docs_id': {5: 1}, 'count': 1}, 'تأسف': {'docs_id': {5: 1}, 'count': 1}, 'ابراز': {'docs_id': {5: 1}, 'count': 1}, 'مباحث': {'docs_id': {5: 1}, 'count': 1}, 'اطلاع': {'docs_id': {5: 1}, 'count': 1}, 'فشرده_ا': {'docs_id': {5: 1}, 'count': 1}, 'معاصر': {'docs_id': {5: 1}, 'count': 1}, 'ویژگ': {'docs_id': {5: 1, 8: 1}, 'count': 2}, 'آید': {'docs_id': {5: 1, 8: 1}, 'count': 2}, 'رشید': {'docs_id': {5: 1}, 'count': 1}, 'الدین': {'docs_id': {5: 1}, 'count': 1}, 'وبلاگ': {'docs_id': {6: 1}, 'count': 3}, 'نویس': {'docs_id': {6: 1}, 'count': 3}, 'شیرین': {'docs_id': {6: 1}, 'count': 2}, 'وردپرس': {'docs_id': {6: 1}, 'count': 7}, '۲۳': {'docs_id': {6: 1}, 'count': 1}, 'WordPress': {'docs_id': {6: 1}, 'count': 1}, 'سکو': {'docs_id': {6: 1}, 'count': 2}, 'انتشار': {'docs_id': {6: 1}, 'count': 1}, 'مبتن': {'docs_id': {6: 1}, 'count': 1}, 'وب': {'docs_id': {6: 1}, 'count': 3}, 'نر': {'docs_id': {6: 1}, 'count': 3}, 'افزار': {'docs_id': {6: 1}, 'count': 3}, 'عموم': {'docs_id': {6: 1}, 'count': 1}, 'انداز': {'docs_id': {6: 1}, 'count': 1}, 'قدرتمند': {'docs_id': {6: 1}, 'count': 2}, 'پیشرو': {'docs_id': {6: 1}, 'count': 1}, 'زمینه': {'docs_id': {6: 1}, 'count': 1}, 'برنامه': {'docs_id': {6: 1}, 'count': 1}, 'محبوب': {'docs_id': {6: 1}, 'count': 1}, 'PHP': {'docs_id': {6: 1}, 'count': 1}, 'قدر': {'docs_id': {6: 1}, 'count': 1}, 'MySQL': {'docs_id': {6: 1}, 'count': 1}, 'متن': {'docs_id': {6: 1, 8: 1}, 'count': 2}, 'Open': {'docs_id': {6: 1}, 'count': 1}, 'Source': {'docs_id': {6: 1}, 'count': 1}, 'مبنا': {'docs_id': {6: 1}, 'count': 1}, 'اجازه': {'docs_id': {6: 1}, 'count': 2}, 'نامه': {'docs_id': {6: 1}, 'count': 2}, 'GPL': {'docs_id': {6: 1}, 'count': 1}, 'منتشر': {'docs_id': {6: 1}, 'count': 1}, 'رایگ': {'docs_id': {6: 1}, 'count': 1}, 'توانید': {'docs_id': {6: 1}, 'count': 1}, 'خیال': {'docs_id': {6: 1}, 'count': 1}, 'راح': {'docs_id': {6: 1}, 'count': 1}, 'دهید': {'docs_id': {6: 1}, 'count': 1}, 'عنو': {'docs_id': {6: 1, 8: 1}, 'count': 2}, 'پروژه': {'docs_id': {6: 1}, 'count': 1}, 'کار': {'docs_id': {6: 1}, 'count': 1}, 'گیرید': {'docs_id': {6: 1}, 'count': 1}, 'طراح': {'docs_id': {6: 1}, 'count': 1}, 'سا': {'docs_id': {6: 1}, 'count': 1}, 'مایا': {'docs_id': {6: 1}, 'count': 1}, 'نق': {'docs_id': {7: 1, 8: 1}, 'count': 2}, 'جنس': {'docs_id': {7: 1}, 'count': 1}, 'راز': {'docs_id': {7: 1}, 'count': 1}, 'کامیاب': {'docs_id': {7: 1}, 'count': 1}, '۲۲': {'docs_id': {7: 1, 8: 1}, 'count': 2}, 'استاد': {'docs_id': {7: 1}, 'count': 1}, 'پروفسور': {'docs_id': {7: 1}, 'count': 1}, 'ویلسون': {'docs_id': {7: 1}, 'count': 1}, 'بیماری': {'docs_id': {7: 1}, 'count': 1}, 'زن': {'docs_id': {7: 1}, 'count': 1}, 'هورمون': {'docs_id': {7: 1}, 'count': 1}, 'زنانه': {'docs_id': {7: 1}, 'count': 1}, 'امریکا': {'docs_id': {7: 1}, 'count': 1}, 'معروف': {'docs_id': {7: 1}, 'count': 1}, 'جهان': {'docs_id': {7: 1}, 'count': 1}, 'سر': {'docs_id': {7: 1, 9: 1}, 'count': 2}, 'کلاس': {'docs_id': {7: 1}, 'count': 1}, 'تعریف': {'docs_id': {7: 1}, 'count': 1}, 'توانس': {'docs_id': {7: 1}, 'count': 1}, 'موفق': {'docs_id': {7: 1}, 'count': 1}, 'بدس': {'docs_id': {7: 1}, 'count': 1}, 'آورد': {'docs_id': {7: 1}, 'count': 1}, 'خیاب': {'docs_id': {7: 1}, 'count': 1}, 'پارک': {'docs_id': {7: 1}, 'count': 1}, 'محل': {'docs_id': {7: 1}, 'count': 1}, 'میلیوتر': {'docs_id': {7: 1}, 'count': 1}, 'اع': {'docs_id': {7: 1}, 'count': 1}, 'نیویورک': {'docs_id': {7: 1}, 'count': 1}, 'طباب': {'docs_id': {7: 1}, 'count': 1}, 'نما': {'docs_id': {7: 1, 8: 1}, 'count': 3}, 'تدبیر': {'docs_id': {7: 1}, 'count': 1}, 'اندیشید': {'docs_id': {7: 1}, 'count': 1}, 'بررو': {'docs_id': {7: 1}, 'count': 2}, 'پرونده': {'docs_id': {7: 1}, 'count': 2}, 'بعضس': {'docs_id': {7: 1}, 'count': 1}, 'بیماران': {'docs_id': {7: 1}, 'count': 1}, 'علام': {'docs_id': {7: 1}, 'count': 1}, 'قرمز': {'docs_id': {7: 1}, 'count': 1}, 'گذا': {'docs_id': {7: 1}, 'count': 1}, 'تاسف': {'docs_id': {7: 1}, 'count': 1}, 'کلیه': {'docs_id': {7: 1}, 'count': 1}, 'اطبا': {'docs_id': {7: 1}, 'count': 1}, 'گذاشتن': {'docs_id': {7: 1}, 'count': 1}, 'علامت': {'docs_id': {7: 1}, 'count': 1}, 'بیمار': {'docs_id': {7: 1}, 'count': 1}, 'معمول': {'docs_id': {7: 1}, 'count': 1}, 'نکرده_اند': {'docs_id': {7: 1}, 'count': 1}, 'سلام': {'docs_id': {7: 1}, 'count': 1}, 'هاد': {'docs_id': {7: 1}, 'count': 1}, 'محمدپور': {'docs_id': {7: 1}, 'count': 1}, 'معرف': {'docs_id': {8: 1}, 'count': 1}, 'الکترونیک': {'docs_id': {8: 1}, 'count': 5}, 'چیس': {'docs_id': {8: 1}, 'count': 1}, 'بشر': {'docs_id': {8: 1}, 'count': 1}, 'شکل': {'docs_id': {8: 1}, 'count': 1}, 'نوشتن': {'docs_id': {8: 1}, 'count': 1}, 'لوح': {'docs_id': {8: 1}, 'count': 1}, 'گلین': {'docs_id': {8: 1}, 'count': 1}, 'امروز': {'docs_id': {8: 1}, 'count': 1}, 'چاپ': {'docs_id': {8: 1, 9: 1}, 'count': 3}, 'نشر': {'docs_id': {8: 1}, 'count': 2}, 'شیوه': {'docs_id': {8: 1}, 'count': 1}, 'اتفاق': {'docs_id': {8: 1}, 'count': 1}, 'افتاده_اس': {'docs_id': {8: 1}, 'count': 1}, 'سال': {'docs_id': {8: 1, 9: 1}, 'count': 2}, 'پیشرف': {'docs_id': {8: 1}, 'count': 2}, 'تکنولوژ': {'docs_id': {8: 1}, 'count': 1}, 'وسایل': {'docs_id': {8: 1}, 'count': 1}, 'دیجیتال': {'docs_id': {8: 1}, 'count': 3}, 'پررنگ': {'docs_id': {8: 1}, 'count': 1}, 'ایفا': {'docs_id': {8: 1}, 'count': 1}, 'کنددر': {'docs_id': {8: 1}, 'count': 1}, 'کامپیوتر': {'docs_id': {8: 1}, 'count': 1}, 'گوش': {'docs_id': {8: 1}, 'count': 2}, 'تبل': {'docs_id': {8: 1}, 'count': 2}, 'فراگیر': {'docs_id': {8: 1}, 'count': 1}, 'توجه': {'docs_id': {8: 1}, 'count': 1}, 'تولد': {'docs_id': {8: 1}, 'count': 1}, 'مدل': {'docs_id': {8: 1}, 'count': 1}, 'راحت': {'docs_id': {8: 1}, 'count': 1}, 'اسنتفاده': {'docs_id': {8: 1}, 'count': 1}, 'هرمکان': {'docs_id': {8: 1}, 'count': 1}, 'کردکتاب': {'docs_id': {8: 1}, 'count': 1}, 'قابل': {'docs_id': {8: 1}, 'count': 2}, 'صفحه': {'docs_id': {8: 1}, 'count': 1}, 'رایانه': {'docs_id': {8: 1}, 'count': 1}, 'همراه': {'docs_id': {8: 1}, 'count': 1}, 'کتابخو': {'docs_id': {8: 1}, 'count': 1}, 'صرفا': {'docs_id': {8: 1}, 'count': 1}, 'نسخه': {'docs_id': {8: 1}, 'count': 1}, 'مکتوب': {'docs_id': {8: 1}, 'count': 1}, 'نم': {'docs_id': {8: 1}, 'count': 1}, 'تصویر': {'docs_id': {8: 1}, 'count': 1}, 'صو': {'docs_id': {8: 1}, 'count': 1}, 'پدیده': {'docs_id': {8: 1}, 'count': 1}, 'تازه': {'docs_id': {8: 1}, 'count': 1}, 'صنع': {'docs_id': {8: 1}, 'count': 1}, 'دانند': {'docs_id': {8: 1}, 'count': 1}, 'نظا': {'docs_id': {8: 1}, 'count': 1}, 'آموزش': {'docs_id': {8: 1}, 'count': 1}, 'فرهنگ': {'docs_id': {8: 1, 9: 1}, 'count': 8}, 'اساس': {'docs_id': {8: 1}, 'count': 1}, 'کنداین': {'docs_id': {8: 1}, 'count': 1}, 'Word': {'docs_id': {8: 1}, 'count': 1}, 'Text': {'docs_id': {8: 1}, 'count': 1}, 'بوسیله': {'docs_id': {8: 1}, 'count': 1}, 'کامپیو': {'docs_id': {8: 1}, 'count': 1}, 'PDFHTML': {'docs_id': {8: 1}, 'count': 1}, 'اجرا': {'docs_id': {8: 1}, 'count': 1}, 'EXE': {'docs_id': {8: 1}, 'count': 1}, 'سادگ': {'docs_id': {8: 1}, 'count': 1}, 'امک': {'docs_id': {8: 1}, 'count': 1}, 'جستجو': {'docs_id': {8: 1}, 'count': 1}, 'انسجا': {'docs_id': {8: 1}, 'count': 1}, 'اضافه': {'docs_id': {8: 1}, 'count': 1}, 'مالت': {'docs_id': {8: 1}, 'count': 1}, 'مدیا': {'docs_id': {8: 1}, 'count': 1}, 'عرضه': {'docs_id': {8: 1, 9: 1}, 'count': 2}, 'فرو': {'docs_id': {8: 1}, 'count': 1}, 'کاربر': {'docs_id': {8: 1}, 'count': 1}, 'گیرند': {'docs_id': {8: 1}, 'count': 1}, 'رسانه': {'docs_id': {8: 1}, 'count': 1}, 'حائز': {'docs_id': {8: 1}, 'count': 1}, 'نمایشگاه': {'docs_id': {8: 1}, 'count': 1}, 'فرانکفور': {'docs_id': {8: 1}, 'count': 1}, 'اشاعه': {'docs_id': {8: 1}, 'count': 1}, 'سالانه': {'docs_id': {8: 1}, 'count': 1}, 'جایزه': {'docs_id': {8: 1}, 'count': 1}, '۱۰۰': {'docs_id': {8: 1}, 'count': 1}, 'دلار': {'docs_id': {8: 1}, 'count': 1}, 'اختصاص': {'docs_id': {8: 1}, 'count': 1}, 'نشده': {'docs_id': {8: 1}, 'count': 1}, 'ریشه': {'docs_id': {9: 1}, 'count': 5}, 'واژگ': {'docs_id': {9: 1}, 'count': 2}, '۲۰': {'docs_id': {9: 1}, 'count': 1}, 'ساختار': {'docs_id': {9: 1}, 'count': 1}, 'رویه': {'docs_id': {9: 1}, 'count': 1}, 'درآیه': {'docs_id': {9: 1}, 'count': 1}, 'پورواهندواروپا': {'docs_id': {9: 1}, 'count': 1}, 'ProtoIndoEuropean': {'docs_id': {9: 1}, 'count': 1}, 'نمودار': {'docs_id': {9: 1}, 'count': 1}, 'واژه': {'docs_id': {9: 1}, 'count': 11}, 'مشتق': {'docs_id': {9: 1}, 'count': 1}, 'ایران': {'docs_id': {9: 1}, 'count': 2}, 'اروپا': {'docs_id': {9: 1}, 'count': 1}, 'استبر': {'docs_id': {9: 1}, 'count': 1}, 'پایه': {'docs_id': {9: 1}, 'count': 1}, '۹۴۰۰': {'docs_id': {9: 1}, 'count': 1}, 'همخانواده': {'docs_id': {9: 1}, 'count': 1}, 'cognate': {'docs_id': {9: 1}, 'count': 1}, '۵۰': {'docs_id': {9: 1}, 'count': 1}, 'شناسانده': {'docs_id': {9: 1}, 'count': 1}, 'افزون': {'docs_id': {9: 1}, 'count': 1}, 'هندواروپا': {'docs_id': {9: 1}, 'count': 2}, 'ناهندواروپا': {'docs_id': {9: 1}, 'count': 1}, 'عرب': {'docs_id': {9: 1}, 'count': 2}, 'عبر': {'docs_id': {9: 1}, 'count': 2}, 'ترک': {'docs_id': {9: 1}, 'count': 1}, 'آمار': {'docs_id': {9: 1}, 'count': 1}, 'پارس': {'docs_id': {9: 1}, 'count': 1}, '۴۷۰۰': {'docs_id': {9: 1}, 'count': 1}, 'اوستا': {'docs_id': {9: 1}, 'count': 1}, 'سغد': {'docs_id': {9: 1}, 'count': 1}, '۴۳۰۰': {'docs_id': {9: 1}, 'count': 1}, '۱۴۰۰': {'docs_id': {9: 1}, 'count': 1}, '۳۳۰۰': {'docs_id': {9: 1}, 'count': 1}, 'یونان': {'docs_id': {9: 1}, 'count': 1}, 'لاتین': {'docs_id': {9: 1}, 'count': 1}, '۱۵۰۰': {'docs_id': {9: 1}, 'count': 1}, 'سام': {'docs_id': {9: 1}, 'count': 1}, '۸۰۰': {'docs_id': {9: 1}, 'count': 1}, 'آلمان': {'docs_id': {9: 1}, 'count': 1}, 'ایتالیا': {'docs_id': {9: 1}, 'count': 1}, 'اسپانیا': {'docs_id': {9: 1}, 'count': 1}, '۴۰۰': {'docs_id': {9: 1}, 'count': 2}, 'سانسکر': {'docs_id': {9: 1}, 'count': 1}, 'هند': {'docs_id': {9: 1}, 'count': 1}, '۷۰۰': {'docs_id': {9: 1}, 'count': 1}, '۱۲': {'docs_id': {9: 1}, 'count': 1}, 'پژوه': {'docs_id': {9: 1}, 'count': 1}, '۱۱۲': {'docs_id': {9: 1}, 'count': 1}, 'خاستگاه': {'docs_id': {9: 1}, 'count': 1}, 'مقاله': {'docs_id': {9: 1}, 'count': 1}, 'بهره': {'docs_id': {9: 1}, 'count': 1}, 'برده': {'docs_id': {9: 1}, 'count': 1}, 'استکتاب': {'docs_id': {9: 1}, 'count': 1}, 'تالیف': {'docs_id': {9: 1}, 'count': 1}, 'تدوین': {'docs_id': {9: 1}, 'count': 1}, 'نورا': {'docs_id': {9: 1}, 'count': 1}, 'پژوهشگر': {'docs_id': {9: 1}, 'count': 1}, 'ناشر': {'docs_id': {9: 1}, 'count': 1}, 'ایال': {'docs_id': {9: 1}, 'count': 1}, 'متحده': {'docs_id': {9: 1}, 'count': 1}, 'نورائ': {'docs_id': {9: 1}, 'count': 1}}, 'total': 926}\n"
          ]
        }
      ],
      "source": [
        "print(\"\\nPosting List:\")\n",
        "print(persianPostingList)"
      ]
    },
    {
      "cell_type": "code",
      "source": [
        "#Sorting Posting List by count\n",
        "\n",
        "sorted_words = sorted(persianPostingList['words'].items(), key=lambda x: x[1]['count'], reverse=True)\n",
        "sorted_persianPostingList = {'words': dict(sorted_words), 'total': persianPostingList['total']}\n",
        "print(sorted_persianPostingList)"
      ],
      "metadata": {
        "colab": {
          "base_uri": "https://localhost:8080/"
        },
        "id": "y7a4MhNmDrxo",
        "outputId": "3dfc32a1-1f8c-469e-d175-2eafc5a11d24"
      },
      "execution_count": 18,
      "outputs": [
        {
          "output_type": "stream",
          "name": "stdout",
          "text": [
            "{'words': {'کتاب': {'docs_id': {0: 1, 1: 1, 2: 1, 3: 1, 4: 1, 5: 1, 6: 1, 8: 1, 9: 1}, 'count': 30}, 'تاریخ': {'docs_id': {1: 1, 2: 1, 5: 1, 8: 1}, 'count': 19}, 'زب': {'docs_id': {5: 1, 6: 1, 9: 1}, 'count': 13}, 'دیدگاه': {'docs_id': {0: 1, 1: 1, 2: 1, 3: 1, 4: 1, 5: 1, 6: 1, 7: 1, 8: 1, 9: 1}, 'count': 12}, 'واژه': {'docs_id': {9: 1}, 'count': 11}, '۱۳۹۸': {'docs_id': {0: 1, 1: 1, 2: 1, 3: 1, 4: 1, 5: 1, 6: 1, 7: 1, 8: 1, 9: 1}, 'count': 10}, 'ایر': {'docs_id': {0: 1, 1: 1, 2: 1, 5: 1}, 'count': 9}, 'آذر': {'docs_id': {2: 1, 3: 1, 4: 1, 5: 1, 6: 1, 7: 1, 8: 1, 9: 1}, 'count': 8}, 'فرهنگ': {'docs_id': {8: 1, 9: 1}, 'count': 8}, 'غاز': {'docs_id': {5: 1}, 'count': 7}, 'وردپرس': {'docs_id': {6: 1}, 'count': 7}, 'زندگ': {'docs_id': {0: 1, 5: 1, 7: 1, 8: 1}, 'count': 6}, 'استفاده': {'docs_id': {4: 1, 6: 1, 8: 1}, 'count': 6}, 'جیکس': {'docs_id': {0: 1}, 'count': 5}, 'مختلف': {'docs_id': {0: 1, 3: 1, 8: 1}, 'count': 5}, 'پا': {'docs_id': {0: 1, 1: 1, 2: 1}, 'count': 5}, 'الله': {'docs_id': {1: 1, 2: 1, 5: 1}, 'count': 5}, 'مطالب': {'docs_id': {3: 1, 4: 1, 5: 1, 8: 1}, 'count': 5}, 'آس': {'docs_id': {3: 1, 4: 1, 8: 1}, 'count': 5}, 'مؤلف': {'docs_id': {5: 1}, 'count': 5}, 'الکترونیک': {'docs_id': {8: 1}, 'count': 5}, 'ریشه': {'docs_id': {9: 1}, 'count': 5}, 'مطالعه': {'docs_id': {0: 1, 5: 1, 8: 1}, 'count': 4}, 'سلاجقه': {'docs_id': {1: 1}, 'count': 4}, 'دسترس': {'docs_id': {1: 1, 3: 1, 8: 1}, 'count': 4}, 'قرار': {'docs_id': {1: 1, 4: 1, 8: 1}, 'count': 4}, 'آغاز': {'docs_id': {1: 1, 5: 1, 8: 1}, 'count': 4}, 'گردیده': {'docs_id': {1: 1, 3: 1}, 'count': 4}, 'عل': {'docs_id': {1: 1, 3: 1, 9: 1}, 'count': 4}, 'پزشک': {'docs_id': {2: 1, 7: 1}, 'count': 4}, 'ساده': {'docs_id': {4: 1, 5: 1, 6: 1, 8: 1}, 'count': 4}, 'فارس': {'docs_id': {5: 1, 9: 1}, 'count': 4}, 'قالب': {'docs_id': {5: 1, 8: 1}, 'count': 4}, 'نویسنده': {'docs_id': {0: 1, 5: 1, 9: 1}, 'count': 3}, 'سخنر': {'docs_id': {0: 1}, 'count': 3}, 'آمریکا': {'docs_id': {0: 1, 9: 1}, 'count': 3}, 'انگیزش': {'docs_id': {0: 1}, 'count': 3}, 'حاضر': {'docs_id': {1: 1, 2: 1, 8: 1}, 'count': 3}, 'سیاس': {'docs_id': {1: 1, 2: 1}, 'count': 3}, 'اجتماع': {'docs_id': {1: 1, 2: 1}, 'count': 3}, 'تحول': {'docs_id': {1: 1, 2: 1, 8: 1}, 'count': 3}, 'روز': {'docs_id': {1: 1, 7: 1, 8: 1}, 'count': 3}, 'مجموعه': {'docs_id': {3: 1, 5: 1}, 'count': 3}, 'ارائه': {'docs_id': {3: 1, 5: 1}, 'count': 3}, 'نوشته': {'docs_id': {4: 1, 5: 1, 6: 1}, 'count': 3}, 'آموز': {'docs_id': {4: 1, 6: 1, 9: 1}, 'count': 3}, 'شناس': {'docs_id': {4: 1, 7: 1, 9: 1}, 'count': 3}, 'اصل': {'docs_id': {5: 1}, 'count': 3}, 'ایلخان': {'docs_id': {5: 1}, 'count': 3}, 'طرز': {'docs_id': {5: 1, 8: 1}, 'count': 3}, 'اصلاح': {'docs_id': {5: 1}, 'count': 3}, 'وبلاگ': {'docs_id': {6: 1}, 'count': 3}, 'نویس': {'docs_id': {6: 1}, 'count': 3}, 'وب': {'docs_id': {6: 1}, 'count': 3}, 'نر': {'docs_id': {6: 1}, 'count': 3}, 'افزار': {'docs_id': {6: 1}, 'count': 3}, 'نما': {'docs_id': {7: 1, 8: 1}, 'count': 3}, 'چاپ': {'docs_id': {8: 1, 9: 1}, 'count': 3}, 'دیجیتال': {'docs_id': {8: 1}, 'count': 3}, 'کش': {'docs_id': {0: 1}, 'count': 2}, 'مذهب': {'docs_id': {0: 1, 5: 1}, 'count': 2}, 'شاهد': {'docs_id': {0: 1, 8: 1}, 'count': 2}, 'فعال': {'docs_id': {0: 1}, 'count': 2}, 'موارد': {'docs_id': {0: 1, 6: 1}, 'count': 2}, 'مخاطب': {'docs_id': {0: 1, 3: 1}, 'count': 2}, 'سخنران': {'docs_id': {0: 1}, 'count': 2}, 'دنیا': {'docs_id': {0: 1, 8: 1}, 'count': 2}, 'عمیق': {'docs_id': {0: 1, 1: 1}, 'count': 2}, 'روانشناس': {'docs_id': {0: 1, 2: 1}, 'count': 2}, 'صفویه': {'docs_id': {1: 1}, 'count': 2}, 'اینک': {'docs_id': {1: 1, 7: 1}, 'count': 2}, 'اوضاع': {'docs_id': {1: 1, 5: 1}, 'count': 2}, 'ادب': {'docs_id': {1: 1, 2: 1}, 'count': 2}, 'قرن': {'docs_id': {1: 1}, 'count': 2}, 'سلسله': {'docs_id': {1: 1}, 'count': 2}, 'دوره': {'docs_id': {1: 1, 5: 1}, 'count': 2}, 'کشور': {'docs_id': {1: 1}, 'count': 2}, 'رشته': {'docs_id': {1: 1, 2: 1}, 'count': 2}, 'کشتار': {'docs_id': {1: 1, 5: 1}, 'count': 2}, 'رود': {'docs_id': {1: 1, 6: 1}, 'count': 2}, 'شرح': {'docs_id': {1: 1, 2: 1}, 'count': 2}, 'فصل': {'docs_id': {1: 1, 3: 1}, 'count': 2}, 'آل': {'docs_id': {1: 1, 5: 1}, 'count': 2}, 'حوزه': {'docs_id': {1: 1, 9: 1}, 'count': 2}, 'دک': {'docs_id': {2: 1, 9: 1}, 'count': 2}, 'فتح': {'docs_id': {2: 1}, 'count': 2}, 'بینا': {'docs_id': {2: 1}, 'count': 2}, 'مقدمه': {'docs_id': {2: 1, 5: 1}, 'count': 2}, 'نگارنده': {'docs_id': {2: 1}, 'count': 2}, 'دان': {'docs_id': {2: 1, 3: 1}, 'count': 2}, 'دیده': {'docs_id': {2: 1, 9: 1}, 'count': 2}, 'وقایع': {'docs_id': {2: 1, 5: 1}, 'count': 2}, 'شخص': {'docs_id': {2: 1, 5: 1}, 'count': 2}, 'رضا': {'docs_id': {2: 1}, 'count': 2}, 'پردازد': {'docs_id': {2: 1, 6: 1}, 'count': 2}, 'فرانسه': {'docs_id': {2: 1, 9: 1}, 'count': 2}, 'انجا': {'docs_id': {2: 1, 5: 1}, 'count': 2}, 'سبک': {'docs_id': {2: 1, 5: 1}, 'count': 2}, 'اسرار': {'docs_id': {3: 1, 4: 1}, 'count': 2}, 'گروه': {'docs_id': {3: 1}, 'count': 2}, 'انگلیس': {'docs_id': {3: 1, 9: 1}, 'count': 2}, 'خط': {'docs_id': {3: 1}, 'count': 2}, 'موضوع': {'docs_id': {3: 1, 4: 1}, 'count': 2}, 'تنظ': {'docs_id': {3: 1}, 'count': 2}, 'ذکر': {'docs_id': {3: 1, 5: 1}, 'count': 2}, 'پرستاره': {'docs_id': {4: 1}, 'count': 2}, 'کت': {'docs_id': {4: 1}, 'count': 2}, 'هایدن': {'docs_id': {4: 1}, 'count': 2}, 'کودک': {'docs_id': {4: 1}, 'count': 2}, 'نوجوان': {'docs_id': {4: 1}, 'count': 2}, 'ستارگ': {'docs_id': {4: 1}, 'count': 2}, 'ستاره': {'docs_id': {4: 1, 7: 1}, 'count': 2}, 'زیبا': {'docs_id': {4: 1, 8: 1}, 'count': 2}, 'مبارک': {'docs_id': {5: 1}, 'count': 2}, 'غازان': {'docs_id': {5: 1}, 'count': 2}, 'فضل': {'docs_id': {5: 1}, 'count': 2}, 'هسته': {'docs_id': {5: 1, 6: 1}, 'count': 2}, 'کارگزار': {'docs_id': {5: 1}, 'count': 2}, 'اهم': {'docs_id': {5: 1, 8: 1}, 'count': 2}, 'نگار': {'docs_id': {5: 1, 9: 1}, 'count': 2}, 'مغول': {'docs_id': {5: 1}, 'count': 2}, 'روابط': {'docs_id': {5: 1, 7: 1}, 'count': 2}, 'ویژگ': {'docs_id': {5: 1, 8: 1}, 'count': 2}, 'آید': {'docs_id': {5: 1, 8: 1}, 'count': 2}, 'شیرین': {'docs_id': {6: 1}, 'count': 2}, 'سکو': {'docs_id': {6: 1}, 'count': 2}, 'قدرتمند': {'docs_id': {6: 1}, 'count': 2}, 'متن': {'docs_id': {6: 1, 8: 1}, 'count': 2}, 'اجازه': {'docs_id': {6: 1}, 'count': 2}, 'نامه': {'docs_id': {6: 1}, 'count': 2}, 'عنو': {'docs_id': {6: 1, 8: 1}, 'count': 2}, 'نق': {'docs_id': {7: 1, 8: 1}, 'count': 2}, '۲۲': {'docs_id': {7: 1, 8: 1}, 'count': 2}, 'سر': {'docs_id': {7: 1, 9: 1}, 'count': 2}, 'بررو': {'docs_id': {7: 1}, 'count': 2}, 'پرونده': {'docs_id': {7: 1}, 'count': 2}, 'نشر': {'docs_id': {8: 1}, 'count': 2}, 'سال': {'docs_id': {8: 1, 9: 1}, 'count': 2}, 'پیشرف': {'docs_id': {8: 1}, 'count': 2}, 'گوش': {'docs_id': {8: 1}, 'count': 2}, 'تبل': {'docs_id': {8: 1}, 'count': 2}, 'قابل': {'docs_id': {8: 1}, 'count': 2}, 'عرضه': {'docs_id': {8: 1, 9: 1}, 'count': 2}, 'واژگ': {'docs_id': {9: 1}, 'count': 2}, 'ایران': {'docs_id': {9: 1}, 'count': 2}, 'هندواروپا': {'docs_id': {9: 1}, 'count': 2}, 'عرب': {'docs_id': {9: 1}, 'count': 2}, 'عبر': {'docs_id': {9: 1}, 'count': 2}, '۴۰۰': {'docs_id': {9: 1}, 'count': 2}, 'درس': {'docs_id': {0: 1}, 'count': 1}, 'سمینار': {'docs_id': {0: 1}, 'count': 1}, 'دلیل': {'docs_id': {0: 1}, 'count': 1}, 'سیاه': {'docs_id': {0: 1}, 'count': 1}, 'پوس': {'docs_id': {0: 1}, 'count': 1}, 'لقب': {'docs_id': {0: 1}, 'count': 1}, 'گرفته_اس': {'docs_id': {0: 1}, 'count': 1}, 'زندگینامه': {'docs_id': {0: 1}, 'count': 1}, 'خواه': {'docs_id': {0: 1}, 'count': 1}, 'تجربه': {'docs_id': {0: 1}, 'count': 1}, 'تلا': {'docs_id': {0: 1}, 'count': 1}, 'اعلا': {'docs_id': {0: 1}, 'count': 1}, 'خانه': {'docs_id': {0: 1}, 'count': 1}, 'موعظه': {'docs_id': {0: 1}, 'count': 1}, 'کلیسا': {'docs_id': {0: 1}, 'count': 1}, 'شبکه': {'docs_id': {0: 1}, 'count': 1}, 'تلویزیون': {'docs_id': {0: 1}, 'count': 1}, 'رادیو': {'docs_id': {0: 1}, 'count': 1}, 'گزیده_ا': {'docs_id': {0: 1}, 'count': 1}, 'جیکز': {'docs_id': {0: 1}, 'count': 1}, 'امید': {'docs_id': {0: 1}, 'count': 1}, 'دقیق': {'docs_id': {0: 1}, 'count': 1}, 'باور': {'docs_id': {0: 1}, 'count': 1}, 'تغییر': {'docs_id': {0: 1}, 'count': 1}, 'مثب': {'docs_id': {0: 1}, 'count': 1}, 'ایجاد': {'docs_id': {0: 1}, 'count': 1}, 'سارا': {'docs_id': {0: 1}, 'count': 1}, 'رزول': {'docs_id': {0: 1}, 'count': 1}, 'خوانندگ': {'docs_id': {1: 1}, 'count': 1}, 'محتر': {'docs_id': {1: 1}, 'count': 1}, 'مشتمل': {'docs_id': {1: 1}, 'count': 1}, 'صنعت': {'docs_id': {1: 1}, 'count': 1}, 'تاسیس': {'docs_id': {1: 1}, 'count': 1}, 'انقلاب': {'docs_id': {1: 1}, 'count': 1}, 'داخل': {'docs_id': {1: 1}, 'count': 1}, 'تهاج': {'docs_id': {1: 1}, 'count': 1}, 'نتیجه': {'docs_id': {1: 1}, 'count': 1}, 'ظاهر': {'docs_id': {1: 1}, 'count': 1}, 'هرج': {'docs_id': {1: 1}, 'count': 1}, 'مرج': {'docs_id': {1: 1}, 'count': 1}, 'فراو': {'docs_id': {1: 1}, 'count': 1}, 'ظهور': {'docs_id': {1: 1}, 'count': 1}, 'منزله': {'docs_id': {1: 1}, 'count': 1}, 'نهض': {'docs_id': {1: 1}, 'count': 1}, 'عظ': {'docs_id': {1: 1}, 'count': 1}, 'وحد': {'docs_id': {1: 1}, 'count': 1}, 'مل': {'docs_id': {1: 1}, 'count': 1}, 'حاکم': {'docs_id': {1: 1}, 'count': 1}, 'ادار': {'docs_id': {1: 1}, 'count': 1}, 'برقرار': {'docs_id': {1: 1}, 'count': 1}, 'گردید': {'docs_id': {1: 1}, 'count': 1}, 'بنا': {'docs_id': {1: 1}, 'count': 1}, 'ثب': {'docs_id': {1: 1}, 'count': 1}, 'مدید': {'docs_id': {1: 1}, 'count': 1}, 'حکوم': {'docs_id': {1: 1}, 'count': 1}, 'ملوک': {'docs_id': {1: 1}, 'count': 1}, 'الطوایف': {'docs_id': {1: 1}, 'count': 1}, 'طغ': {'docs_id': {1: 1}, 'count': 1}, 'عط': {'docs_id': {1: 1}, 'count': 1}, 'گردنک': {'docs_id': {1: 1}, 'count': 1}, 'گوشه': {'docs_id': {1: 1}, 'count': 1}, 'مملک': {'docs_id': {1: 1}, 'count': 1}, 'استقلال': {'docs_id': {1: 1}, 'count': 1}, 'برافراشته': {'docs_id': {1: 1}, 'count': 1}, 'داعیه': {'docs_id': {1: 1}, 'count': 1}, 'سلطن': {'docs_id': {1: 1}, 'count': 1}, 'امار': {'docs_id': {1: 1}, 'count': 1}, 'داده_شد': {'docs_id': {1: 1}, 'count': 1}, 'دور': {'docs_id': {1: 1}, 'count': 1}, 'شهریار': {'docs_id': {1: 1}, 'count': 1}, 'سلجوق': {'docs_id': {1: 1}, 'count': 1}, 'توانستند': {'docs_id': {1: 1}, 'count': 1}, 'برخلاف': {'docs_id': {1: 1}, 'count': 1}, 'فرمانروا': {'docs_id': {1: 1}, 'count': 1}, 'بویه': {'docs_id': {1: 1}, 'count': 1}, 'سلاطین': {'docs_id': {1: 1}, 'count': 1}, 'غزنو': {'docs_id': {1: 1}, 'count': 1}, 'متصرف': {'docs_id': {1: 1}, 'count': 1}, 'شر': {'docs_id': {1: 1}, 'count': 1}, 'مداخل': {'docs_id': {1: 1}, 'count': 1}, 'نابجا': {'docs_id': {1: 1}, 'count': 1}, 'خلفا': {'docs_id': {1: 1}, 'count': 1}, 'بغداد': {'docs_id': {1: 1}, 'count': 1}, 'دهند…': {'docs_id': {1: 1}, 'count': 1}, 'نصر': {'docs_id': {1: 1}, 'count': 1}, 'مشکوت': {'docs_id': {1: 1}, 'count': 1}, 'سرگذ': {'docs_id': {2: 1}, 'count': 1}, 'رضاشاه': {'docs_id': {2: 1}, 'count': 1}, '۲۹': {'docs_id': {2: 1}, 'count': 1}, 'تحصیل': {'docs_id': {2: 1}, 'count': 1}, 'دنبال': {'docs_id': {2: 1}, 'count': 1}, 'دوستدار': {'docs_id': {2: 1}, 'count': 1}, 'ادبیا': {'docs_id': {2: 1}, 'count': 1}, 'فراغ': {'docs_id': {2: 1}, 'count': 1}, 'گلچین': {'docs_id': {2: 1}, 'count': 1}, 'گلزار': {'docs_id': {2: 1}, 'count': 1}, 'فراگرفتن': {'docs_id': {2: 1}, 'count': 1}, 'پند': {'docs_id': {2: 1}, 'count': 1}, 'گذرانم…': {'docs_id': {2: 1}, 'count': 1}, 'نگریسته': {'docs_id': {2: 1}, 'count': 1}, 'فلسفه': {'docs_id': {2: 1}, 'count': 1}, 'بردن': {'docs_id': {2: 1}, 'count': 1}, 'علل': {'docs_id': {2: 1}, 'count': 1}, 'منجر': {'docs_id': {2: 1}, 'count': 1}, 'حوادث': {'docs_id': {2: 1}, 'count': 1}, 'گشته_اند': {'docs_id': {2: 1}, 'count': 1}, 'نتایج': {'docs_id': {2: 1}, 'count': 1}, 'بررس': {'docs_id': {2: 1}, 'count': 1}, 'حاصل': {'docs_id': {2: 1}, 'count': 1}, 'علاقمندم…با': {'docs_id': {2: 1}, 'count': 1}, 'تحلیل': {'docs_id': {2: 1}, 'count': 1}, 'شاه': {'docs_id': {2: 1}, 'count': 1}, 'اقدا': {'docs_id': {2: 1}, 'count': 1}, 'مقایسه': {'docs_id': {2: 1}, 'count': 1}, 'داس': {'docs_id': {2: 1}, 'count': 1}, 'تخ': {'docs_id': {2: 1}, 'count': 1}, 'نشستن': {'docs_id': {2: 1}, 'count': 1}, 'افول': {'docs_id': {2: 1}, 'count': 1}, 'اقبال': {'docs_id': {2: 1}, 'count': 1}, 'نظام': {'docs_id': {2: 1}, 'count': 1}, 'سیاستمدار': {'docs_id': {2: 1}, 'count': 1}, 'مقتدر': {'docs_id': {2: 1}, 'count': 1}, 'ناپلئون': {'docs_id': {2: 1}, 'count': 1}, 'بناپار': {'docs_id': {2: 1}, 'count': 1}, 'پهلو': {'docs_id': {2: 1}, 'count': 1}, 'روا': {'docs_id': {2: 1}, 'count': 1}, 'سیر': {'docs_id': {3: 1}, 'count': 1}, 'نوین': {'docs_id': {3: 1}, 'count': 1}, 'فرگ': {'docs_id': {3: 1}, 'count': 1}, 'مغز': {'docs_id': {3: 1}, 'count': 1}, '۲۸': {'docs_id': {3: 1}, 'count': 1}, 'مطالبیس': {'docs_id': {3: 1}, 'count': 1}, 'Evolution': {'docs_id': {3: 1}, 'count': 1}, 'توسط': {'docs_id': {3: 1}, 'count': 1}, 'اینجانب': {'docs_id': {3: 1}, 'count': 1}, 'کتب': {'docs_id': {3: 1}, 'count': 1}, '۲۰۱۵': {'docs_id': {3: 1}, 'count': 1}, '۲۰۱۷': {'docs_id': {3: 1}, 'count': 1}, 'مقال': {'docs_id': {3: 1}, 'count': 1}, 'میکس': {'docs_id': {3: 1}, 'count': 1}, 'نگارش': {'docs_id': {3: 1}, 'count': 1}, 'رفرنس': {'docs_id': {3: 1}, 'count': 1}, 'معتبر': {'docs_id': {3: 1}, 'count': 1}, 'بدلیل': {'docs_id': {3: 1}, 'count': 1}, 'منابع': {'docs_id': {3: 1}, 'count': 1}, 'خوددار': {'docs_id': {3: 1}, 'count': 1}, 'ضمنا': {'docs_id': {3: 1}, 'count': 1}, 'مان': {'docs_id': {3: 1}, 'count': 1}, 'منوچهر': {'docs_id': {3: 1}, 'count': 1}, '۲۶': {'docs_id': {4: 1}, 'count': 1}, 'زبان': {'docs_id': {4: 1}, 'count': 1}, 'نگاشته': {'docs_id': {4: 1}, 'count': 1}, 'مفاه': {'docs_id': {4: 1}, 'count': 1}, 'صور': {'docs_id': {4: 1}, 'count': 1}, 'فلک': {'docs_id': {4: 1}, 'count': 1}, 'کهک': {'docs_id': {4: 1}, 'count': 1}, 'افسانه': {'docs_id': {4: 1}, 'count': 1}, 'باس': {'docs_id': {4: 1}, 'count': 1}, 'تواند': {'docs_id': {4: 1}, 'count': 1}, 'علاقمند': {'docs_id': {4: 1}, 'count': 1}, 'نجو': {'docs_id': {4: 1}, 'count': 1}, 'سودمند': {'docs_id': {4: 1}, 'count': 1}, 'تصاویر': {'docs_id': {4: 1}, 'count': 1}, 'جذاب': {'docs_id': {4: 1}, 'count': 1}, 'فه': {'docs_id': {4: 1}, 'count': 1}, 'کمک': {'docs_id': {4: 1}, 'count': 1}, '۲۴': {'docs_id': {5: 1}, 'count': 1}, 'رشیدالدین': {'docs_id': {5: 1}, 'count': 1}, 'بن': {'docs_id': {5: 1}, 'count': 1}, 'عمادالدوله': {'docs_id': {5: 1}, 'count': 1}, 'ابواخیر': {'docs_id': {5: 1}, 'count': 1}, 'جامع': {'docs_id': {5: 1}, 'count': 1}, 'التواریخ': {'docs_id': {5: 1}, 'count': 1}, 'بردارنده': {'docs_id': {5: 1}, 'count': 1}, 'هولاکو': {'docs_id': {5: 1}, 'count': 1}, 'ظاهرا': {'docs_id': {5: 1}, 'count': 1}, 'فر': {'docs_id': {5: 1}, 'count': 1}, 'دریاف': {'docs_id': {5: 1}, 'count': 1}, 'مبلغ': {'docs_id': {5: 1}, 'count': 1}, 'میلیون': {'docs_id': {5: 1}, 'count': 1}, 'دینار': {'docs_id': {5: 1}, 'count': 1}, 'نوشته_شده_اس': {'docs_id': {5: 1}, 'count': 1}, 'توانسته': {'docs_id': {5: 1}, 'count': 1}, 'وضع': {'docs_id': {5: 1}, 'count': 1}, 'مرد': {'docs_id': {5: 1}, 'count': 1}, 'مشکل': {'docs_id': {5: 1}, 'count': 1}, 'مع': {'docs_id': {5: 1}, 'count': 1}, 'سلوک': {'docs_id': {5: 1}, 'count': 1}, 'عمال': {'docs_id': {5: 1}, 'count': 1}, 'دول': {'docs_id': {5: 1}, 'count': 1}, 'منعکس': {'docs_id': {5: 1}, 'count': 1}, 'اشاره': {'docs_id': {5: 1}, 'count': 1}, 'تقس': {'docs_id': {5: 1}, 'count': 1}, 'قسم': {'docs_id': {5: 1}, 'count': 1}, 'استسبک': {'docs_id': {5: 1}, 'count': 1}, 'خلاف': {'docs_id': {5: 1}, 'count': 1}, 'جهانگشا': {'docs_id': {5: 1}, 'count': 1}, 'جوین': {'docs_id': {5: 1}, 'count': 1}, 'وصاف': {'docs_id': {5: 1}, 'count': 1}, 'رو': {'docs_id': {5: 1}, 'count': 1}, 'محاوره': {'docs_id': {5: 1}, 'count': 1}, 'روزگار': {'docs_id': {5: 1}, 'count': 1}, 'ترجمه': {'docs_id': {5: 1}, 'count': 1}, 'نو': {'docs_id': {5: 1}, 'count': 1}, 'بان': {'docs_id': {5: 1}, 'count': 1}, 'ایلخ': {'docs_id': {5: 1}, 'count': 1}, 'تو': {'docs_id': {5: 1}, 'count': 1}, 'راهنما': {'docs_id': {5: 1}, 'count': 1}, 'راستا': {'docs_id': {5: 1}, 'count': 1}, 'نزدیک': {'docs_id': {5: 1}, 'count': 1}, 'اعتماد': {'docs_id': {5: 1}, 'count': 1}, 'حاک': {'docs_id': {5: 1}, 'count': 1}, 'پادشاه': {'docs_id': {5: 1}, 'count': 1}, 'ایده': {'docs_id': {5: 1}, 'count': 1}, 'ترس': {'docs_id': {5: 1}, 'count': 1}, 'منبع': {'docs_id': {5: 1}, 'count': 1}, 'عصر': {'docs_id': {5: 1}, 'count': 1}, 'یرلیق': {'docs_id': {5: 1}, 'count': 1}, 'فرامین': {'docs_id': {5: 1}, 'count': 1}, 'مال': {'docs_id': {5: 1}, 'count': 1}, 'ناچار': {'docs_id': {5: 1}, 'count': 1}, 'احترا': {'docs_id': {5: 1}, 'count': 1}, 'یاد': {'docs_id': {5: 1}, 'count': 1}, 'گزار': {'docs_id': {5: 1}, 'count': 1}, 'ویرانگر': {'docs_id': {5: 1}, 'count': 1}, 'غار': {'docs_id': {5: 1}, 'count': 1}, 'تفصیل': {'docs_id': {5: 1}, 'count': 1}, 'تأسف': {'docs_id': {5: 1}, 'count': 1}, 'ابراز': {'docs_id': {5: 1}, 'count': 1}, 'مباحث': {'docs_id': {5: 1}, 'count': 1}, 'اطلاع': {'docs_id': {5: 1}, 'count': 1}, 'فشرده_ا': {'docs_id': {5: 1}, 'count': 1}, 'معاصر': {'docs_id': {5: 1}, 'count': 1}, 'رشید': {'docs_id': {5: 1}, 'count': 1}, 'الدین': {'docs_id': {5: 1}, 'count': 1}, '۲۳': {'docs_id': {6: 1}, 'count': 1}, 'WordPress': {'docs_id': {6: 1}, 'count': 1}, 'انتشار': {'docs_id': {6: 1}, 'count': 1}, 'مبتن': {'docs_id': {6: 1}, 'count': 1}, 'عموم': {'docs_id': {6: 1}, 'count': 1}, 'انداز': {'docs_id': {6: 1}, 'count': 1}, 'پیشرو': {'docs_id': {6: 1}, 'count': 1}, 'زمینه': {'docs_id': {6: 1}, 'count': 1}, 'برنامه': {'docs_id': {6: 1}, 'count': 1}, 'محبوب': {'docs_id': {6: 1}, 'count': 1}, 'PHP': {'docs_id': {6: 1}, 'count': 1}, 'قدر': {'docs_id': {6: 1}, 'count': 1}, 'MySQL': {'docs_id': {6: 1}, 'count': 1}, 'Open': {'docs_id': {6: 1}, 'count': 1}, 'Source': {'docs_id': {6: 1}, 'count': 1}, 'مبنا': {'docs_id': {6: 1}, 'count': 1}, 'GPL': {'docs_id': {6: 1}, 'count': 1}, 'منتشر': {'docs_id': {6: 1}, 'count': 1}, 'رایگ': {'docs_id': {6: 1}, 'count': 1}, 'توانید': {'docs_id': {6: 1}, 'count': 1}, 'خیال': {'docs_id': {6: 1}, 'count': 1}, 'راح': {'docs_id': {6: 1}, 'count': 1}, 'دهید': {'docs_id': {6: 1}, 'count': 1}, 'پروژه': {'docs_id': {6: 1}, 'count': 1}, 'کار': {'docs_id': {6: 1}, 'count': 1}, 'گیرید': {'docs_id': {6: 1}, 'count': 1}, 'طراح': {'docs_id': {6: 1}, 'count': 1}, 'سا': {'docs_id': {6: 1}, 'count': 1}, 'مایا': {'docs_id': {6: 1}, 'count': 1}, 'جنس': {'docs_id': {7: 1}, 'count': 1}, 'راز': {'docs_id': {7: 1}, 'count': 1}, 'کامیاب': {'docs_id': {7: 1}, 'count': 1}, 'استاد': {'docs_id': {7: 1}, 'count': 1}, 'پروفسور': {'docs_id': {7: 1}, 'count': 1}, 'ویلسون': {'docs_id': {7: 1}, 'count': 1}, 'بیماری': {'docs_id': {7: 1}, 'count': 1}, 'زن': {'docs_id': {7: 1}, 'count': 1}, 'هورمون': {'docs_id': {7: 1}, 'count': 1}, 'زنانه': {'docs_id': {7: 1}, 'count': 1}, 'امریکا': {'docs_id': {7: 1}, 'count': 1}, 'معروف': {'docs_id': {7: 1}, 'count': 1}, 'جهان': {'docs_id': {7: 1}, 'count': 1}, 'کلاس': {'docs_id': {7: 1}, 'count': 1}, 'تعریف': {'docs_id': {7: 1}, 'count': 1}, 'توانس': {'docs_id': {7: 1}, 'count': 1}, 'موفق': {'docs_id': {7: 1}, 'count': 1}, 'بدس': {'docs_id': {7: 1}, 'count': 1}, 'آورد': {'docs_id': {7: 1}, 'count': 1}, 'خیاب': {'docs_id': {7: 1}, 'count': 1}, 'پارک': {'docs_id': {7: 1}, 'count': 1}, 'محل': {'docs_id': {7: 1}, 'count': 1}, 'میلیوتر': {'docs_id': {7: 1}, 'count': 1}, 'اع': {'docs_id': {7: 1}, 'count': 1}, 'نیویورک': {'docs_id': {7: 1}, 'count': 1}, 'طباب': {'docs_id': {7: 1}, 'count': 1}, 'تدبیر': {'docs_id': {7: 1}, 'count': 1}, 'اندیشید': {'docs_id': {7: 1}, 'count': 1}, 'بعضس': {'docs_id': {7: 1}, 'count': 1}, 'بیماران': {'docs_id': {7: 1}, 'count': 1}, 'علام': {'docs_id': {7: 1}, 'count': 1}, 'قرمز': {'docs_id': {7: 1}, 'count': 1}, 'گذا': {'docs_id': {7: 1}, 'count': 1}, 'تاسف': {'docs_id': {7: 1}, 'count': 1}, 'کلیه': {'docs_id': {7: 1}, 'count': 1}, 'اطبا': {'docs_id': {7: 1}, 'count': 1}, 'گذاشتن': {'docs_id': {7: 1}, 'count': 1}, 'علامت': {'docs_id': {7: 1}, 'count': 1}, 'بیمار': {'docs_id': {7: 1}, 'count': 1}, 'معمول': {'docs_id': {7: 1}, 'count': 1}, 'نکرده_اند': {'docs_id': {7: 1}, 'count': 1}, 'سلام': {'docs_id': {7: 1}, 'count': 1}, 'هاد': {'docs_id': {7: 1}, 'count': 1}, 'محمدپور': {'docs_id': {7: 1}, 'count': 1}, 'معرف': {'docs_id': {8: 1}, 'count': 1}, 'چیس': {'docs_id': {8: 1}, 'count': 1}, 'بشر': {'docs_id': {8: 1}, 'count': 1}, 'شکل': {'docs_id': {8: 1}, 'count': 1}, 'نوشتن': {'docs_id': {8: 1}, 'count': 1}, 'لوح': {'docs_id': {8: 1}, 'count': 1}, 'گلین': {'docs_id': {8: 1}, 'count': 1}, 'امروز': {'docs_id': {8: 1}, 'count': 1}, 'شیوه': {'docs_id': {8: 1}, 'count': 1}, 'اتفاق': {'docs_id': {8: 1}, 'count': 1}, 'افتاده_اس': {'docs_id': {8: 1}, 'count': 1}, 'تکنولوژ': {'docs_id': {8: 1}, 'count': 1}, 'وسایل': {'docs_id': {8: 1}, 'count': 1}, 'پررنگ': {'docs_id': {8: 1}, 'count': 1}, 'ایفا': {'docs_id': {8: 1}, 'count': 1}, 'کنددر': {'docs_id': {8: 1}, 'count': 1}, 'کامپیوتر': {'docs_id': {8: 1}, 'count': 1}, 'فراگیر': {'docs_id': {8: 1}, 'count': 1}, 'توجه': {'docs_id': {8: 1}, 'count': 1}, 'تولد': {'docs_id': {8: 1}, 'count': 1}, 'مدل': {'docs_id': {8: 1}, 'count': 1}, 'راحت': {'docs_id': {8: 1}, 'count': 1}, 'اسنتفاده': {'docs_id': {8: 1}, 'count': 1}, 'هرمکان': {'docs_id': {8: 1}, 'count': 1}, 'کردکتاب': {'docs_id': {8: 1}, 'count': 1}, 'صفحه': {'docs_id': {8: 1}, 'count': 1}, 'رایانه': {'docs_id': {8: 1}, 'count': 1}, 'همراه': {'docs_id': {8: 1}, 'count': 1}, 'کتابخو': {'docs_id': {8: 1}, 'count': 1}, 'صرفا': {'docs_id': {8: 1}, 'count': 1}, 'نسخه': {'docs_id': {8: 1}, 'count': 1}, 'مکتوب': {'docs_id': {8: 1}, 'count': 1}, 'نم': {'docs_id': {8: 1}, 'count': 1}, 'تصویر': {'docs_id': {8: 1}, 'count': 1}, 'صو': {'docs_id': {8: 1}, 'count': 1}, 'پدیده': {'docs_id': {8: 1}, 'count': 1}, 'تازه': {'docs_id': {8: 1}, 'count': 1}, 'صنع': {'docs_id': {8: 1}, 'count': 1}, 'دانند': {'docs_id': {8: 1}, 'count': 1}, 'نظا': {'docs_id': {8: 1}, 'count': 1}, 'آموزش': {'docs_id': {8: 1}, 'count': 1}, 'اساس': {'docs_id': {8: 1}, 'count': 1}, 'کنداین': {'docs_id': {8: 1}, 'count': 1}, 'Word': {'docs_id': {8: 1}, 'count': 1}, 'Text': {'docs_id': {8: 1}, 'count': 1}, 'بوسیله': {'docs_id': {8: 1}, 'count': 1}, 'کامپیو': {'docs_id': {8: 1}, 'count': 1}, 'PDFHTML': {'docs_id': {8: 1}, 'count': 1}, 'اجرا': {'docs_id': {8: 1}, 'count': 1}, 'EXE': {'docs_id': {8: 1}, 'count': 1}, 'سادگ': {'docs_id': {8: 1}, 'count': 1}, 'امک': {'docs_id': {8: 1}, 'count': 1}, 'جستجو': {'docs_id': {8: 1}, 'count': 1}, 'انسجا': {'docs_id': {8: 1}, 'count': 1}, 'اضافه': {'docs_id': {8: 1}, 'count': 1}, 'مالت': {'docs_id': {8: 1}, 'count': 1}, 'مدیا': {'docs_id': {8: 1}, 'count': 1}, 'فرو': {'docs_id': {8: 1}, 'count': 1}, 'کاربر': {'docs_id': {8: 1}, 'count': 1}, 'گیرند': {'docs_id': {8: 1}, 'count': 1}, 'رسانه': {'docs_id': {8: 1}, 'count': 1}, 'حائز': {'docs_id': {8: 1}, 'count': 1}, 'نمایشگاه': {'docs_id': {8: 1}, 'count': 1}, 'فرانکفور': {'docs_id': {8: 1}, 'count': 1}, 'اشاعه': {'docs_id': {8: 1}, 'count': 1}, 'سالانه': {'docs_id': {8: 1}, 'count': 1}, 'جایزه': {'docs_id': {8: 1}, 'count': 1}, '۱۰۰': {'docs_id': {8: 1}, 'count': 1}, 'دلار': {'docs_id': {8: 1}, 'count': 1}, 'اختصاص': {'docs_id': {8: 1}, 'count': 1}, 'نشده': {'docs_id': {8: 1}, 'count': 1}, '۲۰': {'docs_id': {9: 1}, 'count': 1}, 'ساختار': {'docs_id': {9: 1}, 'count': 1}, 'رویه': {'docs_id': {9: 1}, 'count': 1}, 'درآیه': {'docs_id': {9: 1}, 'count': 1}, 'پورواهندواروپا': {'docs_id': {9: 1}, 'count': 1}, 'ProtoIndoEuropean': {'docs_id': {9: 1}, 'count': 1}, 'نمودار': {'docs_id': {9: 1}, 'count': 1}, 'مشتق': {'docs_id': {9: 1}, 'count': 1}, 'اروپا': {'docs_id': {9: 1}, 'count': 1}, 'استبر': {'docs_id': {9: 1}, 'count': 1}, 'پایه': {'docs_id': {9: 1}, 'count': 1}, '۹۴۰۰': {'docs_id': {9: 1}, 'count': 1}, 'همخانواده': {'docs_id': {9: 1}, 'count': 1}, 'cognate': {'docs_id': {9: 1}, 'count': 1}, '۵۰': {'docs_id': {9: 1}, 'count': 1}, 'شناسانده': {'docs_id': {9: 1}, 'count': 1}, 'افزون': {'docs_id': {9: 1}, 'count': 1}, 'ناهندواروپا': {'docs_id': {9: 1}, 'count': 1}, 'ترک': {'docs_id': {9: 1}, 'count': 1}, 'آمار': {'docs_id': {9: 1}, 'count': 1}, 'پارس': {'docs_id': {9: 1}, 'count': 1}, '۴۷۰۰': {'docs_id': {9: 1}, 'count': 1}, 'اوستا': {'docs_id': {9: 1}, 'count': 1}, 'سغد': {'docs_id': {9: 1}, 'count': 1}, '۴۳۰۰': {'docs_id': {9: 1}, 'count': 1}, '۱۴۰۰': {'docs_id': {9: 1}, 'count': 1}, '۳۳۰۰': {'docs_id': {9: 1}, 'count': 1}, 'یونان': {'docs_id': {9: 1}, 'count': 1}, 'لاتین': {'docs_id': {9: 1}, 'count': 1}, '۱۵۰۰': {'docs_id': {9: 1}, 'count': 1}, 'سام': {'docs_id': {9: 1}, 'count': 1}, '۸۰۰': {'docs_id': {9: 1}, 'count': 1}, 'آلمان': {'docs_id': {9: 1}, 'count': 1}, 'ایتالیا': {'docs_id': {9: 1}, 'count': 1}, 'اسپانیا': {'docs_id': {9: 1}, 'count': 1}, 'سانسکر': {'docs_id': {9: 1}, 'count': 1}, 'هند': {'docs_id': {9: 1}, 'count': 1}, '۷۰۰': {'docs_id': {9: 1}, 'count': 1}, '۱۲': {'docs_id': {9: 1}, 'count': 1}, 'پژوه': {'docs_id': {9: 1}, 'count': 1}, '۱۱۲': {'docs_id': {9: 1}, 'count': 1}, 'خاستگاه': {'docs_id': {9: 1}, 'count': 1}, 'مقاله': {'docs_id': {9: 1}, 'count': 1}, 'بهره': {'docs_id': {9: 1}, 'count': 1}, 'برده': {'docs_id': {9: 1}, 'count': 1}, 'استکتاب': {'docs_id': {9: 1}, 'count': 1}, 'تالیف': {'docs_id': {9: 1}, 'count': 1}, 'تدوین': {'docs_id': {9: 1}, 'count': 1}, 'نورا': {'docs_id': {9: 1}, 'count': 1}, 'پژوهشگر': {'docs_id': {9: 1}, 'count': 1}, 'ناشر': {'docs_id': {9: 1}, 'count': 1}, 'ایال': {'docs_id': {9: 1}, 'count': 1}, 'متحده': {'docs_id': {9: 1}, 'count': 1}, 'نورائ': {'docs_id': {9: 1}, 'count': 1}}, 'total': 926}\n"
          ]
        }
      ]
    },
    {
      "cell_type": "code",
      "source": [
        "#Save Persian data frame after the preprocess\n",
        "df.to_csv('persian.csv')"
      ],
      "metadata": {
        "id": "gEhN-5f18Am6"
      },
      "execution_count": 19,
      "outputs": []
    },
    {
      "cell_type": "code",
      "source": [
        "#Save Posting List\n",
        "with open(\"/content/persian_outputPosting.txt\", \"w\") as txt_file:\n",
        "        txt_file.write(str(sorted_persianPostingList))"
      ],
      "metadata": {
        "id": "WVMB6ZNx-9Aj"
      },
      "execution_count": 20,
      "outputs": []
    },
    {
      "cell_type": "code",
      "source": [
        "#Size of files\n",
        "!ls -l --block-size=MB"
      ],
      "metadata": {
        "colab": {
          "base_uri": "https://localhost:8080/"
        },
        "outputId": "67e7e99b-c39f-4d1b-e970-ff202808ea64",
        "id": "ALRLL5Zy8AnD"
      },
      "execution_count": 21,
      "outputs": [
        {
          "output_type": "stream",
          "name": "stdout",
          "text": [
            "total 58MB\n",
            "-rw-r--r-- 1 root  root   2MB Nov 12 17:57 final_books.xlsx\n",
            "-rw-r--r-- 1 root  root   2MB Nov 12 19:43 final_books.xlsx.1\n",
            "-rw-r--r-- 1 root  root   2MB Nov 12 20:25 final_books.xlsx.2\n",
            "-rw-r--r-- 1 root  root   2MB Nov 12 20:26 final_books.xlsx.3\n",
            "drwxrwxr-x 2 14584 14584  1MB May  6  2013 MovieSummaries\n",
            "-rw-r--r-- 1 root  root  49MB Jun 11  2015 MovieSummaries.tar.gz\n",
            "-rw-r--r-- 1 root  root   4MB Nov 12 20:27 persian.csv\n",
            "-rw-r--r-- 1 root  root   1MB Nov 12 20:27 persian_outputPosting.txt\n",
            "drwxr-xr-x 1 root  root   1MB Nov  9 14:25 sample_data\n"
          ]
        }
      ]
    },
    {
      "cell_type": "markdown",
      "metadata": {
        "id": "Rh1S9MaMh_Ii"
      },
      "source": [
        "#English Dataset"
      ]
    },
    {
      "cell_type": "code",
      "execution_count": 22,
      "metadata": {
        "id": "zQddm0Nch-8h",
        "colab": {
          "base_uri": "https://localhost:8080/"
        },
        "outputId": "8811759b-9e0d-4676-e17f-967ed20db978"
      },
      "outputs": [
        {
          "output_type": "stream",
          "name": "stdout",
          "text": [
            "--2023-11-12 20:27:23--  http://www.cs.cmu.edu/~ark/personas/data/MovieSummaries.tar.gz\n",
            "Resolving www.cs.cmu.edu (www.cs.cmu.edu)... 128.2.42.95\n",
            "Connecting to www.cs.cmu.edu (www.cs.cmu.edu)|128.2.42.95|:80... connected.\n",
            "HTTP request sent, awaiting response... 200 OK\n",
            "Length: 48002242 (46M) [application/x-gzip]\n",
            "Saving to: ‘MovieSummaries.tar.gz.1’\n",
            "\n",
            "MovieSummaries.tar. 100%[===================>]  45.78M  3.19MB/s    in 15s     \n",
            "\n",
            "2023-11-12 20:27:38 (3.11 MB/s) - ‘MovieSummaries.tar.gz.1’ saved [48002242/48002242]\n",
            "\n"
          ]
        }
      ],
      "source": [
        "!wget http://www.cs.cmu.edu/~ark/personas/data/MovieSummaries.tar.gz\n",
        "!tar -xf MovieSummaries.tar.gz"
      ]
    },
    {
      "cell_type": "code",
      "execution_count": 23,
      "metadata": {
        "id": "p7wuFr77iK1L",
        "colab": {
          "base_uri": "https://localhost:8080/"
        },
        "outputId": "263e3e77-9c8b-464d-9938-5d28aaef7aae"
      },
      "outputs": [
        {
          "output_type": "stream",
          "name": "stdout",
          "text": [
            "<class 'pandas.core.frame.DataFrame'>\n",
            "RangeIndex: 42303 entries, 0 to 42302\n",
            "Data columns (total 2 columns):\n",
            " #   Column  Non-Null Count  Dtype \n",
            "---  ------  --------------  ----- \n",
            " 0   id      42303 non-null  int64 \n",
            " 1   text    42303 non-null  object\n",
            "dtypes: int64(1), object(1)\n",
            "memory usage: 661.1+ KB\n"
          ]
        }
      ],
      "source": [
        "df2 = pd.read_csv(\"/content/MovieSummaries/plot_summaries.txt\", delimiter = \"\\t\",names=[\"id\",\"text\"])\n",
        "df2.info()"
      ]
    },
    {
      "cell_type": "code",
      "execution_count": 24,
      "metadata": {
        "id": "6bbqdWNViMpA",
        "colab": {
          "base_uri": "https://localhost:8080/",
          "height": 206
        },
        "outputId": "6430cd85-d083-4e7c-997a-e83037e13624"
      },
      "outputs": [
        {
          "output_type": "execute_result",
          "data": {
            "text/plain": [
              "         id                                               text\n",
              "0  23890098  Shlykov, a hard-working taxi driver and Lyosha...\n",
              "1  31186339  The nation of Panem consists of a wealthy Capi...\n",
              "2  20663735  Poovalli Induchoodan  is sentenced for six yea...\n",
              "3   2231378  The Lemon Drop Kid , a New York City swindler,...\n",
              "4    595909  Seventh-day Adventist Church pastor Michael Ch..."
            ],
            "text/html": [
              "\n",
              "  <div id=\"df-dc3a3d73-f34a-41a9-b955-ae66398b9e3c\" class=\"colab-df-container\">\n",
              "    <div>\n",
              "<style scoped>\n",
              "    .dataframe tbody tr th:only-of-type {\n",
              "        vertical-align: middle;\n",
              "    }\n",
              "\n",
              "    .dataframe tbody tr th {\n",
              "        vertical-align: top;\n",
              "    }\n",
              "\n",
              "    .dataframe thead th {\n",
              "        text-align: right;\n",
              "    }\n",
              "</style>\n",
              "<table border=\"1\" class=\"dataframe\">\n",
              "  <thead>\n",
              "    <tr style=\"text-align: right;\">\n",
              "      <th></th>\n",
              "      <th>id</th>\n",
              "      <th>text</th>\n",
              "    </tr>\n",
              "  </thead>\n",
              "  <tbody>\n",
              "    <tr>\n",
              "      <th>0</th>\n",
              "      <td>23890098</td>\n",
              "      <td>Shlykov, a hard-working taxi driver and Lyosha...</td>\n",
              "    </tr>\n",
              "    <tr>\n",
              "      <th>1</th>\n",
              "      <td>31186339</td>\n",
              "      <td>The nation of Panem consists of a wealthy Capi...</td>\n",
              "    </tr>\n",
              "    <tr>\n",
              "      <th>2</th>\n",
              "      <td>20663735</td>\n",
              "      <td>Poovalli Induchoodan  is sentenced for six yea...</td>\n",
              "    </tr>\n",
              "    <tr>\n",
              "      <th>3</th>\n",
              "      <td>2231378</td>\n",
              "      <td>The Lemon Drop Kid , a New York City swindler,...</td>\n",
              "    </tr>\n",
              "    <tr>\n",
              "      <th>4</th>\n",
              "      <td>595909</td>\n",
              "      <td>Seventh-day Adventist Church pastor Michael Ch...</td>\n",
              "    </tr>\n",
              "  </tbody>\n",
              "</table>\n",
              "</div>\n",
              "    <div class=\"colab-df-buttons\">\n",
              "\n",
              "  <div class=\"colab-df-container\">\n",
              "    <button class=\"colab-df-convert\" onclick=\"convertToInteractive('df-dc3a3d73-f34a-41a9-b955-ae66398b9e3c')\"\n",
              "            title=\"Convert this dataframe to an interactive table.\"\n",
              "            style=\"display:none;\">\n",
              "\n",
              "  <svg xmlns=\"http://www.w3.org/2000/svg\" height=\"24px\" viewBox=\"0 -960 960 960\">\n",
              "    <path d=\"M120-120v-720h720v720H120Zm60-500h600v-160H180v160Zm220 220h160v-160H400v160Zm0 220h160v-160H400v160ZM180-400h160v-160H180v160Zm440 0h160v-160H620v160ZM180-180h160v-160H180v160Zm440 0h160v-160H620v160Z\"/>\n",
              "  </svg>\n",
              "    </button>\n",
              "\n",
              "  <style>\n",
              "    .colab-df-container {\n",
              "      display:flex;\n",
              "      gap: 12px;\n",
              "    }\n",
              "\n",
              "    .colab-df-convert {\n",
              "      background-color: #E8F0FE;\n",
              "      border: none;\n",
              "      border-radius: 50%;\n",
              "      cursor: pointer;\n",
              "      display: none;\n",
              "      fill: #1967D2;\n",
              "      height: 32px;\n",
              "      padding: 0 0 0 0;\n",
              "      width: 32px;\n",
              "    }\n",
              "\n",
              "    .colab-df-convert:hover {\n",
              "      background-color: #E2EBFA;\n",
              "      box-shadow: 0px 1px 2px rgba(60, 64, 67, 0.3), 0px 1px 3px 1px rgba(60, 64, 67, 0.15);\n",
              "      fill: #174EA6;\n",
              "    }\n",
              "\n",
              "    .colab-df-buttons div {\n",
              "      margin-bottom: 4px;\n",
              "    }\n",
              "\n",
              "    [theme=dark] .colab-df-convert {\n",
              "      background-color: #3B4455;\n",
              "      fill: #D2E3FC;\n",
              "    }\n",
              "\n",
              "    [theme=dark] .colab-df-convert:hover {\n",
              "      background-color: #434B5C;\n",
              "      box-shadow: 0px 1px 3px 1px rgba(0, 0, 0, 0.15);\n",
              "      filter: drop-shadow(0px 1px 2px rgba(0, 0, 0, 0.3));\n",
              "      fill: #FFFFFF;\n",
              "    }\n",
              "  </style>\n",
              "\n",
              "    <script>\n",
              "      const buttonEl =\n",
              "        document.querySelector('#df-dc3a3d73-f34a-41a9-b955-ae66398b9e3c button.colab-df-convert');\n",
              "      buttonEl.style.display =\n",
              "        google.colab.kernel.accessAllowed ? 'block' : 'none';\n",
              "\n",
              "      async function convertToInteractive(key) {\n",
              "        const element = document.querySelector('#df-dc3a3d73-f34a-41a9-b955-ae66398b9e3c');\n",
              "        const dataTable =\n",
              "          await google.colab.kernel.invokeFunction('convertToInteractive',\n",
              "                                                    [key], {});\n",
              "        if (!dataTable) return;\n",
              "\n",
              "        const docLinkHtml = 'Like what you see? Visit the ' +\n",
              "          '<a target=\"_blank\" href=https://colab.research.google.com/notebooks/data_table.ipynb>data table notebook</a>'\n",
              "          + ' to learn more about interactive tables.';\n",
              "        element.innerHTML = '';\n",
              "        dataTable['output_type'] = 'display_data';\n",
              "        await google.colab.output.renderOutput(dataTable, element);\n",
              "        const docLink = document.createElement('div');\n",
              "        docLink.innerHTML = docLinkHtml;\n",
              "        element.appendChild(docLink);\n",
              "      }\n",
              "    </script>\n",
              "  </div>\n",
              "\n",
              "\n",
              "<div id=\"df-b30cab51-cbc5-485c-9949-d539a871b472\">\n",
              "  <button class=\"colab-df-quickchart\" onclick=\"quickchart('df-b30cab51-cbc5-485c-9949-d539a871b472')\"\n",
              "            title=\"Suggest charts\"\n",
              "            style=\"display:none;\">\n",
              "\n",
              "<svg xmlns=\"http://www.w3.org/2000/svg\" height=\"24px\"viewBox=\"0 0 24 24\"\n",
              "     width=\"24px\">\n",
              "    <g>\n",
              "        <path d=\"M19 3H5c-1.1 0-2 .9-2 2v14c0 1.1.9 2 2 2h14c1.1 0 2-.9 2-2V5c0-1.1-.9-2-2-2zM9 17H7v-7h2v7zm4 0h-2V7h2v10zm4 0h-2v-4h2v4z\"/>\n",
              "    </g>\n",
              "</svg>\n",
              "  </button>\n",
              "\n",
              "<style>\n",
              "  .colab-df-quickchart {\n",
              "      --bg-color: #E8F0FE;\n",
              "      --fill-color: #1967D2;\n",
              "      --hover-bg-color: #E2EBFA;\n",
              "      --hover-fill-color: #174EA6;\n",
              "      --disabled-fill-color: #AAA;\n",
              "      --disabled-bg-color: #DDD;\n",
              "  }\n",
              "\n",
              "  [theme=dark] .colab-df-quickchart {\n",
              "      --bg-color: #3B4455;\n",
              "      --fill-color: #D2E3FC;\n",
              "      --hover-bg-color: #434B5C;\n",
              "      --hover-fill-color: #FFFFFF;\n",
              "      --disabled-bg-color: #3B4455;\n",
              "      --disabled-fill-color: #666;\n",
              "  }\n",
              "\n",
              "  .colab-df-quickchart {\n",
              "    background-color: var(--bg-color);\n",
              "    border: none;\n",
              "    border-radius: 50%;\n",
              "    cursor: pointer;\n",
              "    display: none;\n",
              "    fill: var(--fill-color);\n",
              "    height: 32px;\n",
              "    padding: 0;\n",
              "    width: 32px;\n",
              "  }\n",
              "\n",
              "  .colab-df-quickchart:hover {\n",
              "    background-color: var(--hover-bg-color);\n",
              "    box-shadow: 0 1px 2px rgba(60, 64, 67, 0.3), 0 1px 3px 1px rgba(60, 64, 67, 0.15);\n",
              "    fill: var(--button-hover-fill-color);\n",
              "  }\n",
              "\n",
              "  .colab-df-quickchart-complete:disabled,\n",
              "  .colab-df-quickchart-complete:disabled:hover {\n",
              "    background-color: var(--disabled-bg-color);\n",
              "    fill: var(--disabled-fill-color);\n",
              "    box-shadow: none;\n",
              "  }\n",
              "\n",
              "  .colab-df-spinner {\n",
              "    border: 2px solid var(--fill-color);\n",
              "    border-color: transparent;\n",
              "    border-bottom-color: var(--fill-color);\n",
              "    animation:\n",
              "      spin 1s steps(1) infinite;\n",
              "  }\n",
              "\n",
              "  @keyframes spin {\n",
              "    0% {\n",
              "      border-color: transparent;\n",
              "      border-bottom-color: var(--fill-color);\n",
              "      border-left-color: var(--fill-color);\n",
              "    }\n",
              "    20% {\n",
              "      border-color: transparent;\n",
              "      border-left-color: var(--fill-color);\n",
              "      border-top-color: var(--fill-color);\n",
              "    }\n",
              "    30% {\n",
              "      border-color: transparent;\n",
              "      border-left-color: var(--fill-color);\n",
              "      border-top-color: var(--fill-color);\n",
              "      border-right-color: var(--fill-color);\n",
              "    }\n",
              "    40% {\n",
              "      border-color: transparent;\n",
              "      border-right-color: var(--fill-color);\n",
              "      border-top-color: var(--fill-color);\n",
              "    }\n",
              "    60% {\n",
              "      border-color: transparent;\n",
              "      border-right-color: var(--fill-color);\n",
              "    }\n",
              "    80% {\n",
              "      border-color: transparent;\n",
              "      border-right-color: var(--fill-color);\n",
              "      border-bottom-color: var(--fill-color);\n",
              "    }\n",
              "    90% {\n",
              "      border-color: transparent;\n",
              "      border-bottom-color: var(--fill-color);\n",
              "    }\n",
              "  }\n",
              "</style>\n",
              "\n",
              "  <script>\n",
              "    async function quickchart(key) {\n",
              "      const quickchartButtonEl =\n",
              "        document.querySelector('#' + key + ' button');\n",
              "      quickchartButtonEl.disabled = true;  // To prevent multiple clicks.\n",
              "      quickchartButtonEl.classList.add('colab-df-spinner');\n",
              "      try {\n",
              "        const charts = await google.colab.kernel.invokeFunction(\n",
              "            'suggestCharts', [key], {});\n",
              "      } catch (error) {\n",
              "        console.error('Error during call to suggestCharts:', error);\n",
              "      }\n",
              "      quickchartButtonEl.classList.remove('colab-df-spinner');\n",
              "      quickchartButtonEl.classList.add('colab-df-quickchart-complete');\n",
              "    }\n",
              "    (() => {\n",
              "      let quickchartButtonEl =\n",
              "        document.querySelector('#df-b30cab51-cbc5-485c-9949-d539a871b472 button');\n",
              "      quickchartButtonEl.style.display =\n",
              "        google.colab.kernel.accessAllowed ? 'block' : 'none';\n",
              "    })();\n",
              "  </script>\n",
              "</div>\n",
              "    </div>\n",
              "  </div>\n"
            ]
          },
          "metadata": {},
          "execution_count": 24
        }
      ],
      "source": [
        "df2.head()"
      ]
    },
    {
      "cell_type": "code",
      "execution_count": 25,
      "metadata": {
        "id": "P0EqKfPWkQpD",
        "colab": {
          "base_uri": "https://localhost:8080/"
        },
        "outputId": "a5beb2d5-4305-4fb7-d05d-c0998926a93c"
      },
      "outputs": [
        {
          "output_type": "stream",
          "name": "stderr",
          "text": [
            "[nltk_data] Downloading package stopwords to /root/nltk_data...\n",
            "[nltk_data]   Package stopwords is already up-to-date!\n"
          ]
        },
        {
          "output_type": "execute_result",
          "data": {
            "text/plain": [
              "True"
            ]
          },
          "metadata": {},
          "execution_count": 25
        }
      ],
      "source": [
        "nltk.download('stopwords')"
      ]
    },
    {
      "cell_type": "code",
      "execution_count": 26,
      "metadata": {
        "id": "dlbCqZPX2ypC",
        "colab": {
          "base_uri": "https://localhost:8080/"
        },
        "outputId": "69a9e746-18d8-405c-aaa1-3480e28f07e6"
      },
      "outputs": [
        {
          "output_type": "stream",
          "name": "stderr",
          "text": [
            "[nltk_data] Downloading package punkt to /root/nltk_data...\n",
            "[nltk_data]   Package punkt is already up-to-date!\n",
            "[nltk_data] Downloading package wordnet to /root/nltk_data...\n",
            "[nltk_data]   Package wordnet is already up-to-date!\n",
            "[nltk_data] Downloading package omw-1.4 to /root/nltk_data...\n",
            "[nltk_data]   Package omw-1.4 is already up-to-date!\n"
          ]
        },
        {
          "output_type": "execute_result",
          "data": {
            "text/plain": [
              "True"
            ]
          },
          "metadata": {},
          "execution_count": 26
        }
      ],
      "source": [
        "nltk.download('punkt')\n",
        "nltk.download('wordnet')\n",
        "nltk.download('omw-1.4')"
      ]
    },
    {
      "cell_type": "code",
      "execution_count": 27,
      "metadata": {
        "id": "Ko6srzgHeYeK"
      },
      "outputs": [],
      "source": [
        "def convertToLowerCase(row):\n",
        "    return row.lower()"
      ]
    },
    {
      "cell_type": "code",
      "execution_count": 28,
      "metadata": {
        "id": "sU9-bQWHeYQx"
      },
      "outputs": [],
      "source": [
        "# def deleteNumbers(row):\n",
        "#     return re.sub(r'\\d+', '', row)"
      ]
    },
    {
      "cell_type": "code",
      "execution_count": 29,
      "metadata": {
        "id": "-ZLZjiYieYEl"
      },
      "outputs": [],
      "source": [
        "def deletePunctuation(row):\n",
        "    return re.sub(r'[^\\w\\s]', '', row)"
      ]
    },
    {
      "cell_type": "code",
      "execution_count": 30,
      "metadata": {
        "id": "VfjlE7bGeX2N"
      },
      "outputs": [],
      "source": [
        "def deleteWhiteSpace(row):\n",
        "    return row.strip()"
      ]
    },
    {
      "cell_type": "code",
      "execution_count": 31,
      "metadata": {
        "id": "9SvUU4vJfAsd"
      },
      "outputs": [],
      "source": [
        "def english_normalizer(text):\n",
        "  to_lower_case_text = convertToLowerCase(text)\n",
        "  deleted_punct_words = deletePunctuation(to_lower_case_text)\n",
        "  deleted_white_space = deleteWhiteSpace(deleted_punct_words)\n",
        "  return deleted_white_space"
      ]
    },
    {
      "cell_type": "code",
      "execution_count": 32,
      "metadata": {
        "id": "HwyInJAdfAGd"
      },
      "outputs": [],
      "source": [
        "def english_tokenizer(normalized_text):\n",
        "  english_stopwords = set(stopwords.words('english'))\n",
        "  tokens = word_tokenize(normalized_text)\n",
        "  tokens = list(filter(lambda t: t not in english_stopwords, tokens))\n",
        "  return tokens\n"
      ]
    },
    {
      "cell_type": "code",
      "execution_count": 33,
      "metadata": {
        "id": "TfhBzO7Ue9Bc"
      },
      "outputs": [],
      "source": [
        "def english_stemmer(tokens):\n",
        "  stems = [PorterStemmer().stem(token) for token in tokens]\n",
        "  return stems"
      ]
    },
    {
      "cell_type": "code",
      "execution_count": 34,
      "metadata": {
        "id": "D21OBgcEfqBF"
      },
      "outputs": [],
      "source": [
        "def english_preprocess(text):\n",
        "  normalized_text = english_normalizer(text)\n",
        "  tokens = english_tokenizer(normalized_text)\n",
        "  stems = english_stemmer(tokens)\n",
        "  return stems"
      ]
    },
    {
      "cell_type": "code",
      "execution_count": 35,
      "metadata": {
        "id": "dL_hoQcgeP-3"
      },
      "outputs": [],
      "source": [
        "#df2.iloc[start_doc:end_doc]"
      ]
    },
    {
      "cell_type": "code",
      "execution_count": 36,
      "metadata": {
        "id": "z9g3DHpA1WKP",
        "colab": {
          "base_uri": "https://localhost:8080/"
        },
        "outputId": "7a1ee122-f870-46c0-ab79-cce18948193a"
      },
      "outputs": [
        {
          "output_type": "stream",
          "name": "stderr",
          "text": [
            "10it [00:00, 139.23it/s]\n"
          ]
        }
      ],
      "source": [
        "#Preprocess\n",
        "df2['Preprocessed'] = list\n",
        "\n",
        "for index, row in tqdm(df2.iloc[start_doc:end_doc].iterrows()):\n",
        "  df.at[index, 'Preprocessed'] = []\n",
        "  df2.at[index, 'Preprocessed'] = english_preprocess(row[\"text\"])"
      ]
    },
    {
      "cell_type": "code",
      "source": [
        "df2.iloc[start_doc:end_doc]"
      ],
      "metadata": {
        "id": "41T61RhSsD0P",
        "colab": {
          "base_uri": "https://localhost:8080/",
          "height": 363
        },
        "outputId": "c351b09a-943f-4015-9786-029f4bc21122"
      },
      "execution_count": 37,
      "outputs": [
        {
          "output_type": "execute_result",
          "data": {
            "text/plain": [
              "         id                                               text  \\\n",
              "0  23890098  Shlykov, a hard-working taxi driver and Lyosha...   \n",
              "1  31186339  The nation of Panem consists of a wealthy Capi...   \n",
              "2  20663735  Poovalli Induchoodan  is sentenced for six yea...   \n",
              "3   2231378  The Lemon Drop Kid , a New York City swindler,...   \n",
              "4    595909  Seventh-day Adventist Church pastor Michael Ch...   \n",
              "5   5272176  The president is on his way to give a speech. ...   \n",
              "6   1952976  {{plot}} The film opens in 1974, as a young gi...   \n",
              "7  24225279  The story begins with Hannah, a young Jewish t...   \n",
              "8   2462689  Infuriated at being told to write one final co...   \n",
              "9  20532852  A line of people  drool at the window of the s...   \n",
              "\n",
              "                                        Preprocessed  \n",
              "0  [shlykov, hardwork, taxi, driver, lyosha, saxo...  \n",
              "1  [nation, panem, consist, wealthi, capitol, twe...  \n",
              "2  [pooval, induchoodan, sentenc, six, year, pris...  \n",
              "3  [lemon, drop, kid, new, york, citi, swindler, ...  \n",
              "4  [seventhday, adventist, church, pastor, michae...  \n",
              "5  [presid, way, give, speech, travel, man, show,...  \n",
              "6  [plot, film, open, 1974, young, girl, dahlia, ...  \n",
              "7  [stori, begin, hannah, young, jewish, teen, co...  \n",
              "8  [infuri, told, write, one, final, column, laid...  \n",
              "9  [line, peopl, drool, window, shop, market, but...  "
            ],
            "text/html": [
              "\n",
              "  <div id=\"df-49420b46-eede-4dd7-9b68-339076f8d89f\" class=\"colab-df-container\">\n",
              "    <div>\n",
              "<style scoped>\n",
              "    .dataframe tbody tr th:only-of-type {\n",
              "        vertical-align: middle;\n",
              "    }\n",
              "\n",
              "    .dataframe tbody tr th {\n",
              "        vertical-align: top;\n",
              "    }\n",
              "\n",
              "    .dataframe thead th {\n",
              "        text-align: right;\n",
              "    }\n",
              "</style>\n",
              "<table border=\"1\" class=\"dataframe\">\n",
              "  <thead>\n",
              "    <tr style=\"text-align: right;\">\n",
              "      <th></th>\n",
              "      <th>id</th>\n",
              "      <th>text</th>\n",
              "      <th>Preprocessed</th>\n",
              "    </tr>\n",
              "  </thead>\n",
              "  <tbody>\n",
              "    <tr>\n",
              "      <th>0</th>\n",
              "      <td>23890098</td>\n",
              "      <td>Shlykov, a hard-working taxi driver and Lyosha...</td>\n",
              "      <td>[shlykov, hardwork, taxi, driver, lyosha, saxo...</td>\n",
              "    </tr>\n",
              "    <tr>\n",
              "      <th>1</th>\n",
              "      <td>31186339</td>\n",
              "      <td>The nation of Panem consists of a wealthy Capi...</td>\n",
              "      <td>[nation, panem, consist, wealthi, capitol, twe...</td>\n",
              "    </tr>\n",
              "    <tr>\n",
              "      <th>2</th>\n",
              "      <td>20663735</td>\n",
              "      <td>Poovalli Induchoodan  is sentenced for six yea...</td>\n",
              "      <td>[pooval, induchoodan, sentenc, six, year, pris...</td>\n",
              "    </tr>\n",
              "    <tr>\n",
              "      <th>3</th>\n",
              "      <td>2231378</td>\n",
              "      <td>The Lemon Drop Kid , a New York City swindler,...</td>\n",
              "      <td>[lemon, drop, kid, new, york, citi, swindler, ...</td>\n",
              "    </tr>\n",
              "    <tr>\n",
              "      <th>4</th>\n",
              "      <td>595909</td>\n",
              "      <td>Seventh-day Adventist Church pastor Michael Ch...</td>\n",
              "      <td>[seventhday, adventist, church, pastor, michae...</td>\n",
              "    </tr>\n",
              "    <tr>\n",
              "      <th>5</th>\n",
              "      <td>5272176</td>\n",
              "      <td>The president is on his way to give a speech. ...</td>\n",
              "      <td>[presid, way, give, speech, travel, man, show,...</td>\n",
              "    </tr>\n",
              "    <tr>\n",
              "      <th>6</th>\n",
              "      <td>1952976</td>\n",
              "      <td>{{plot}} The film opens in 1974, as a young gi...</td>\n",
              "      <td>[plot, film, open, 1974, young, girl, dahlia, ...</td>\n",
              "    </tr>\n",
              "    <tr>\n",
              "      <th>7</th>\n",
              "      <td>24225279</td>\n",
              "      <td>The story begins with Hannah, a young Jewish t...</td>\n",
              "      <td>[stori, begin, hannah, young, jewish, teen, co...</td>\n",
              "    </tr>\n",
              "    <tr>\n",
              "      <th>8</th>\n",
              "      <td>2462689</td>\n",
              "      <td>Infuriated at being told to write one final co...</td>\n",
              "      <td>[infuri, told, write, one, final, column, laid...</td>\n",
              "    </tr>\n",
              "    <tr>\n",
              "      <th>9</th>\n",
              "      <td>20532852</td>\n",
              "      <td>A line of people  drool at the window of the s...</td>\n",
              "      <td>[line, peopl, drool, window, shop, market, but...</td>\n",
              "    </tr>\n",
              "  </tbody>\n",
              "</table>\n",
              "</div>\n",
              "    <div class=\"colab-df-buttons\">\n",
              "\n",
              "  <div class=\"colab-df-container\">\n",
              "    <button class=\"colab-df-convert\" onclick=\"convertToInteractive('df-49420b46-eede-4dd7-9b68-339076f8d89f')\"\n",
              "            title=\"Convert this dataframe to an interactive table.\"\n",
              "            style=\"display:none;\">\n",
              "\n",
              "  <svg xmlns=\"http://www.w3.org/2000/svg\" height=\"24px\" viewBox=\"0 -960 960 960\">\n",
              "    <path d=\"M120-120v-720h720v720H120Zm60-500h600v-160H180v160Zm220 220h160v-160H400v160Zm0 220h160v-160H400v160ZM180-400h160v-160H180v160Zm440 0h160v-160H620v160ZM180-180h160v-160H180v160Zm440 0h160v-160H620v160Z\"/>\n",
              "  </svg>\n",
              "    </button>\n",
              "\n",
              "  <style>\n",
              "    .colab-df-container {\n",
              "      display:flex;\n",
              "      gap: 12px;\n",
              "    }\n",
              "\n",
              "    .colab-df-convert {\n",
              "      background-color: #E8F0FE;\n",
              "      border: none;\n",
              "      border-radius: 50%;\n",
              "      cursor: pointer;\n",
              "      display: none;\n",
              "      fill: #1967D2;\n",
              "      height: 32px;\n",
              "      padding: 0 0 0 0;\n",
              "      width: 32px;\n",
              "    }\n",
              "\n",
              "    .colab-df-convert:hover {\n",
              "      background-color: #E2EBFA;\n",
              "      box-shadow: 0px 1px 2px rgba(60, 64, 67, 0.3), 0px 1px 3px 1px rgba(60, 64, 67, 0.15);\n",
              "      fill: #174EA6;\n",
              "    }\n",
              "\n",
              "    .colab-df-buttons div {\n",
              "      margin-bottom: 4px;\n",
              "    }\n",
              "\n",
              "    [theme=dark] .colab-df-convert {\n",
              "      background-color: #3B4455;\n",
              "      fill: #D2E3FC;\n",
              "    }\n",
              "\n",
              "    [theme=dark] .colab-df-convert:hover {\n",
              "      background-color: #434B5C;\n",
              "      box-shadow: 0px 1px 3px 1px rgba(0, 0, 0, 0.15);\n",
              "      filter: drop-shadow(0px 1px 2px rgba(0, 0, 0, 0.3));\n",
              "      fill: #FFFFFF;\n",
              "    }\n",
              "  </style>\n",
              "\n",
              "    <script>\n",
              "      const buttonEl =\n",
              "        document.querySelector('#df-49420b46-eede-4dd7-9b68-339076f8d89f button.colab-df-convert');\n",
              "      buttonEl.style.display =\n",
              "        google.colab.kernel.accessAllowed ? 'block' : 'none';\n",
              "\n",
              "      async function convertToInteractive(key) {\n",
              "        const element = document.querySelector('#df-49420b46-eede-4dd7-9b68-339076f8d89f');\n",
              "        const dataTable =\n",
              "          await google.colab.kernel.invokeFunction('convertToInteractive',\n",
              "                                                    [key], {});\n",
              "        if (!dataTable) return;\n",
              "\n",
              "        const docLinkHtml = 'Like what you see? Visit the ' +\n",
              "          '<a target=\"_blank\" href=https://colab.research.google.com/notebooks/data_table.ipynb>data table notebook</a>'\n",
              "          + ' to learn more about interactive tables.';\n",
              "        element.innerHTML = '';\n",
              "        dataTable['output_type'] = 'display_data';\n",
              "        await google.colab.output.renderOutput(dataTable, element);\n",
              "        const docLink = document.createElement('div');\n",
              "        docLink.innerHTML = docLinkHtml;\n",
              "        element.appendChild(docLink);\n",
              "      }\n",
              "    </script>\n",
              "  </div>\n",
              "\n",
              "\n",
              "<div id=\"df-21916d82-be36-49f7-987b-406aa3841340\">\n",
              "  <button class=\"colab-df-quickchart\" onclick=\"quickchart('df-21916d82-be36-49f7-987b-406aa3841340')\"\n",
              "            title=\"Suggest charts\"\n",
              "            style=\"display:none;\">\n",
              "\n",
              "<svg xmlns=\"http://www.w3.org/2000/svg\" height=\"24px\"viewBox=\"0 0 24 24\"\n",
              "     width=\"24px\">\n",
              "    <g>\n",
              "        <path d=\"M19 3H5c-1.1 0-2 .9-2 2v14c0 1.1.9 2 2 2h14c1.1 0 2-.9 2-2V5c0-1.1-.9-2-2-2zM9 17H7v-7h2v7zm4 0h-2V7h2v10zm4 0h-2v-4h2v4z\"/>\n",
              "    </g>\n",
              "</svg>\n",
              "  </button>\n",
              "\n",
              "<style>\n",
              "  .colab-df-quickchart {\n",
              "      --bg-color: #E8F0FE;\n",
              "      --fill-color: #1967D2;\n",
              "      --hover-bg-color: #E2EBFA;\n",
              "      --hover-fill-color: #174EA6;\n",
              "      --disabled-fill-color: #AAA;\n",
              "      --disabled-bg-color: #DDD;\n",
              "  }\n",
              "\n",
              "  [theme=dark] .colab-df-quickchart {\n",
              "      --bg-color: #3B4455;\n",
              "      --fill-color: #D2E3FC;\n",
              "      --hover-bg-color: #434B5C;\n",
              "      --hover-fill-color: #FFFFFF;\n",
              "      --disabled-bg-color: #3B4455;\n",
              "      --disabled-fill-color: #666;\n",
              "  }\n",
              "\n",
              "  .colab-df-quickchart {\n",
              "    background-color: var(--bg-color);\n",
              "    border: none;\n",
              "    border-radius: 50%;\n",
              "    cursor: pointer;\n",
              "    display: none;\n",
              "    fill: var(--fill-color);\n",
              "    height: 32px;\n",
              "    padding: 0;\n",
              "    width: 32px;\n",
              "  }\n",
              "\n",
              "  .colab-df-quickchart:hover {\n",
              "    background-color: var(--hover-bg-color);\n",
              "    box-shadow: 0 1px 2px rgba(60, 64, 67, 0.3), 0 1px 3px 1px rgba(60, 64, 67, 0.15);\n",
              "    fill: var(--button-hover-fill-color);\n",
              "  }\n",
              "\n",
              "  .colab-df-quickchart-complete:disabled,\n",
              "  .colab-df-quickchart-complete:disabled:hover {\n",
              "    background-color: var(--disabled-bg-color);\n",
              "    fill: var(--disabled-fill-color);\n",
              "    box-shadow: none;\n",
              "  }\n",
              "\n",
              "  .colab-df-spinner {\n",
              "    border: 2px solid var(--fill-color);\n",
              "    border-color: transparent;\n",
              "    border-bottom-color: var(--fill-color);\n",
              "    animation:\n",
              "      spin 1s steps(1) infinite;\n",
              "  }\n",
              "\n",
              "  @keyframes spin {\n",
              "    0% {\n",
              "      border-color: transparent;\n",
              "      border-bottom-color: var(--fill-color);\n",
              "      border-left-color: var(--fill-color);\n",
              "    }\n",
              "    20% {\n",
              "      border-color: transparent;\n",
              "      border-left-color: var(--fill-color);\n",
              "      border-top-color: var(--fill-color);\n",
              "    }\n",
              "    30% {\n",
              "      border-color: transparent;\n",
              "      border-left-color: var(--fill-color);\n",
              "      border-top-color: var(--fill-color);\n",
              "      border-right-color: var(--fill-color);\n",
              "    }\n",
              "    40% {\n",
              "      border-color: transparent;\n",
              "      border-right-color: var(--fill-color);\n",
              "      border-top-color: var(--fill-color);\n",
              "    }\n",
              "    60% {\n",
              "      border-color: transparent;\n",
              "      border-right-color: var(--fill-color);\n",
              "    }\n",
              "    80% {\n",
              "      border-color: transparent;\n",
              "      border-right-color: var(--fill-color);\n",
              "      border-bottom-color: var(--fill-color);\n",
              "    }\n",
              "    90% {\n",
              "      border-color: transparent;\n",
              "      border-bottom-color: var(--fill-color);\n",
              "    }\n",
              "  }\n",
              "</style>\n",
              "\n",
              "  <script>\n",
              "    async function quickchart(key) {\n",
              "      const quickchartButtonEl =\n",
              "        document.querySelector('#' + key + ' button');\n",
              "      quickchartButtonEl.disabled = true;  // To prevent multiple clicks.\n",
              "      quickchartButtonEl.classList.add('colab-df-spinner');\n",
              "      try {\n",
              "        const charts = await google.colab.kernel.invokeFunction(\n",
              "            'suggestCharts', [key], {});\n",
              "      } catch (error) {\n",
              "        console.error('Error during call to suggestCharts:', error);\n",
              "      }\n",
              "      quickchartButtonEl.classList.remove('colab-df-spinner');\n",
              "      quickchartButtonEl.classList.add('colab-df-quickchart-complete');\n",
              "    }\n",
              "    (() => {\n",
              "      let quickchartButtonEl =\n",
              "        document.querySelector('#df-21916d82-be36-49f7-987b-406aa3841340 button');\n",
              "      quickchartButtonEl.style.display =\n",
              "        google.colab.kernel.accessAllowed ? 'block' : 'none';\n",
              "    })();\n",
              "  </script>\n",
              "</div>\n",
              "    </div>\n",
              "  </div>\n"
            ]
          },
          "metadata": {},
          "execution_count": 37
        }
      ]
    },
    {
      "cell_type": "code",
      "source": [
        "#Create Posting List\n",
        "\n",
        "englishPostingList = {\"words\": {}, \"total\": 0}\n",
        "for index, row in tqdm (df2.iloc[start_doc:end_doc].iterrows()):\n",
        "      englishPostingList = create_posting_list(index, row[\"Preprocessed\"], englishPostingList)"
      ],
      "metadata": {
        "id": "nsO3F4yZtpJR",
        "colab": {
          "base_uri": "https://localhost:8080/"
        },
        "outputId": "a344c3f8-0e80-4d5b-e4f5-f9582e2959b8"
      },
      "execution_count": 38,
      "outputs": [
        {
          "output_type": "stream",
          "name": "stderr",
          "text": [
            "10it [00:00, 2338.35it/s]\n"
          ]
        }
      ]
    },
    {
      "cell_type": "code",
      "source": [
        "#Sorting Posting List by count\n",
        "en_sorted_words = sorted(englishPostingList['words'].items(), key=lambda x: x[1]['count'], reverse=True)\n",
        "sorted_englishPostingList = {'words': dict(en_sorted_words), 'total': englishPostingList['total']}\n",
        "print(sorted_englishPostingList)"
      ],
      "metadata": {
        "colab": {
          "base_uri": "https://localhost:8080/"
        },
        "id": "-854MLKW8G8U",
        "outputId": "9abb5c31-3f2d-4475-f2eb-4a8982f7bb78"
      },
      "execution_count": 39,
      "outputs": [
        {
          "output_type": "stream",
          "name": "stdout",
          "text": [
            "{'words': {'kid': {'docs_id': {3: 1, 7: 1}, 'count': 36}, 'katniss': {'docs_id': {1: 1}, 'count': 24}, 'dahlia': {'docs_id': {6: 1}, 'count': 21}, 'cecilia': {'docs_id': {6: 1}, 'count': 19}, 'induchoodan': {'docs_id': {2: 1}, 'count': 18}, 'charley': {'docs_id': {3: 1}, 'count': 18}, 'peeta': {'docs_id': {1: 1}, 'count': 16}, 'thoma': {'docs_id': {5: 1}, 'count': 15}, 'hannah': {'docs_id': {7: 1}, 'count': 15}, 'kill': {'docs_id': {1: 1, 2: 1, 5: 1, 8: 1}, 'count': 14}, 'find': {'docs_id': {1: 1, 3: 1, 4: 1, 5: 1, 6: 1}, 'count': 14}, 'home': {'docs_id': {3: 1, 5: 1, 6: 1, 7: 1}, 'count': 14}, 'domin': {'docs_id': {7: 1}, 'count': 14}, 'girl': {'docs_id': {1: 1, 2: 1, 6: 1}, 'count': 13}, 'menon': {'docs_id': {2: 1}, 'count': 12}, 'school': {'docs_id': {6: 1, 7: 1}, 'count': 12}, 'natasha': {'docs_id': {6: 1}, 'count': 12}, 'rue': {'docs_id': {1: 1}, 'count': 11}, 'return': {'docs_id': {1: 1, 2: 1, 3: 1, 4: 1, 6: 1, 7: 1}, 'count': 11}, 'money': {'docs_id': {3: 1, 7: 1, 8: 1}, 'count': 11}, 'john': {'docs_id': {8: 1}, 'count': 11}, 'doe': {'docs_id': {8: 1}, 'count': 11}, 'district': {'docs_id': {1: 1}, 'count': 10}, 'presid': {'docs_id': {1: 1, 5: 1}, 'count': 10}, 'water': {'docs_id': {5: 1, 6: 1}, 'count': 10}, 'first': {'docs_id': {1: 1, 2: 1, 3: 1, 5: 1, 7: 1, 8: 1}, 'count': 9}, 'get': {'docs_id': {1: 1, 6: 1, 7: 1, 8: 1, 9: 1}, 'count': 9}, 'new': {'docs_id': {3: 1, 4: 1, 6: 1, 8: 1}, 'count': 9}, 'see': {'docs_id': {3: 1, 4: 1, 5: 1, 6: 1, 7: 1, 9: 1}, 'count': 9}, 'apart': {'docs_id': {6: 1, 7: 1}, 'count': 9}, 'howev': {'docs_id': {1: 1, 3: 1, 7: 1, 8: 1}, 'count': 8}, 'day': {'docs_id': {1: 1, 2: 1, 3: 1, 7: 1}, 'count': 8}, 'manap': {'docs_id': {2: 1}, 'count': 8}, 'appear': {'docs_id': {2: 1, 3: 1, 4: 1, 6: 1}, 'count': 8}, 'claim': {'docs_id': {2: 1, 6: 1, 8: 1}, 'count': 8}, 'father': {'docs_id': {2: 1, 6: 1}, 'count': 8}, 'arriv': {'docs_id': {2: 1, 3: 1, 5: 1, 6: 1, 7: 1}, 'count': 8}, 'moran': {'docs_id': {3: 1}, 'count': 8}, 'leav': {'docs_id': {3: 1, 5: 1, 6: 1, 7: 1}, 'count': 8}, 'start': {'docs_id': {5: 1, 6: 1, 7: 1, 8: 1}, 'count': 8}, 'mother': {'docs_id': {6: 1, 7: 1}, 'count': 8}, 'mitchel': {'docs_id': {8: 1}, 'count': 8}, 'tribut': {'docs_id': {1: 1}, 'count': 7}, 'discov': {'docs_id': {1: 1, 4: 1, 5: 1, 6: 1}, 'count': 7}, 'later': {'docs_id': {1: 1, 3: 1, 4: 1, 5: 1, 6: 1}, 'count': 7}, 'name': {'docs_id': {1: 1, 2: 1, 4: 1, 6: 1, 7: 1, 8: 1}, 'count': 7}, 'make': {'docs_id': {1: 1, 3: 1, 7: 1}, 'count': 7}, 'promis': {'docs_id': {1: 1, 2: 1, 6: 1, 7: 1, 8: 1}, 'count': 7}, 'two': {'docs_id': {1: 1, 4: 1, 5: 1, 6: 1, 7: 1}, 'count': 7}, 'daughter': {'docs_id': {2: 1, 4: 1, 6: 1}, 'count': 7}, 'come': {'docs_id': {2: 1, 3: 1, 6: 1, 7: 1, 8: 1}, 'count': 7}, 'citi': {'docs_id': {3: 1, 6: 1, 8: 1}, 'count': 7}, 'braini': {'docs_id': {3: 1}, 'count': 7}, 'nelli': {'docs_id': {3: 1}, 'count': 7}, 'neighborhood': {'docs_id': {3: 1, 7: 1}, 'count': 7}, 'move': {'docs_id': {3: 1, 6: 1, 7: 1}, 'count': 7}, 'lindi': {'docs_id': {4: 1}, 'count': 7}, 'speech': {'docs_id': {5: 1, 7: 1, 8: 1}, 'count': 7}, 'baldwin': {'docs_id': {5: 1}, 'count': 7}, 'want': {'docs_id': {5: 1, 6: 1, 7: 1}, 'count': 7}, 'kyle': {'docs_id': {6: 1}, 'count': 7}, 'veeck': {'docs_id': {6: 1}, 'count': 7}, 'sing': {'docs_id': {7: 1}, 'count': 7}, 'willoughbi': {'docs_id': {8: 1}, 'count': 7}, 'norton': {'docs_id': {8: 1}, 'count': 7}, 'begin': {'docs_id': {1: 1, 3: 1, 4: 1, 6: 1, 7: 1}, 'count': 6}, 'away': {'docs_id': {1: 1, 2: 1, 3: 1, 5: 1, 6: 1}, 'count': 6}, 'dead': {'docs_id': {1: 1, 2: 1, 3: 1, 5: 1}, 'count': 6}, 'turn': {'docs_id': {1: 1, 3: 1, 4: 1, 8: 1, 9: 1}, 'count': 6}, 'time': {'docs_id': {1: 1, 3: 1, 6: 1, 7: 1}, 'count': 6}, 'night': {'docs_id': {1: 1, 3: 1, 7: 1}, 'count': 6}, 'give': {'docs_id': {1: 1, 3: 1, 5: 1, 8: 1}, 'count': 6}, 'sentenc': {'docs_id': {2: 1, 3: 1, 4: 1}, 'count': 6}, 'year': {'docs_id': {2: 1, 3: 1, 4: 1, 7: 1}, 'count': 6}, 'pavithran': {'docs_id': {2: 1}, 'count': 6}, 'confront': {'docs_id': {2: 1, 3: 1, 7: 1}, 'count': 6}, 'back': {'docs_id': {2: 1, 3: 1, 6: 1, 7: 1}, 'count': 6}, 'indulekha': {'docs_id': {2: 1}, 'count': 6}, 'decid': {'docs_id': {2: 1, 3: 1, 7: 1}, 'count': 6}, 'friend': {'docs_id': {2: 1, 3: 1, 6: 1, 8: 1}, 'count': 6}, 'plan': {'docs_id': {2: 1, 3: 1, 7: 1, 8: 1}, 'count': 6}, 'court': {'docs_id': {2: 1, 3: 1}, 'count': 6}, 'show': {'docs_id': {2: 1, 5: 1, 7: 1, 8: 1}, 'count': 6}, 'tri': {'docs_id': {2: 1, 3: 1, 5: 1, 8: 1}, 'count': 6}, 'escap': {'docs_id': {3: 1, 5: 1}, 'count': 6}, 'miss': {'docs_id': {4: 1, 7: 1}, 'count': 6}, 'take': {'docs_id': {1: 1, 2: 1, 6: 1}, 'count': 5}, 'son': {'docs_id': {1: 1, 2: 1, 4: 1}, 'count': 5}, 'run': {'docs_id': {1: 1, 4: 1, 7: 1}, 'count': 5}, 'die': {'docs_id': {1: 1, 5: 1, 6: 1, 8: 1}, 'count': 5}, 'bodi': {'docs_id': {1: 1, 4: 1, 6: 1, 9: 1}, 'count': 5}, 'way': {'docs_id': {1: 1, 2: 1, 5: 1, 7: 1, 9: 1}, 'count': 5}, 'need': {'docs_id': {1: 1, 3: 1, 7: 1, 8: 1}, 'count': 5}, 'go': {'docs_id': {1: 1, 3: 1, 6: 1}, 'count': 5}, 'fall': {'docs_id': {1: 1, 2: 1, 3: 1, 7: 1}, 'count': 5}, 'life': {'docs_id': {2: 1, 4: 1}, 'count': 5}, 'servic': {'docs_id': {2: 1, 5: 1}, 'count': 5}, 'enter': {'docs_id': {2: 1, 3: 1, 5: 1, 6: 1}, 'count': 5}, 'accept': {'docs_id': {2: 1, 4: 1}, 'count': 5}, 'crime': {'docs_id': {2: 1, 3: 1, 4: 1, 7: 1}, 'count': 5}, 'christma': {'docs_id': {3: 1, 7: 1, 8: 1}, 'count': 5}, 'end': {'docs_id': {3: 1, 7: 1, 8: 1}, 'count': 5}, 'thursday': {'docs_id': {3: 1}, 'count': 5}, 'look': {'docs_id': {3: 1, 6: 1, 7: 1}, 'count': 5}, 'use': {'docs_id': {3: 1, 4: 1, 7: 1, 8: 1}, 'count': 5}, 'kate': {'docs_id': {5: 1}, 'count': 5}, 'hous': {'docs_id': {5: 1}, 'count': 5}, 'steven': {'docs_id': {5: 1}, 'count': 5}, 'one': {'docs_id': {6: 1, 7: 1, 8: 1}, 'count': 5}, 'lombardo': {'docs_id': {7: 1}, 'count': 5}, 'newspap': {'docs_id': {8: 1}, 'count': 5}, 'letter': {'docs_id': {8: 1}, 'count': 5}, 'despit': {'docs_id': {0: 1, 6: 1, 7: 1}, 'count': 4}, 'realiz': {'docs_id': {0: 1, 6: 1, 8: 1, 9: 1}, 'count': 4}, 'past': {'docs_id': {1: 1, 3: 1}, 'count': 4}, 'provid': {'docs_id': {1: 1, 3: 1}, 'count': 4}, '12': {'docs_id': {1: 1}, 'count': 4}, 'game': {'docs_id': {1: 1}, 'count': 4}, 'accompani': {'docs_id': {1: 1, 7: 1}, 'count': 4}, 'haymitch': {'docs_id': {1: 1}, 'count': 4}, 'warn': {'docs_id': {1: 1, 3: 1}, 'count': 4}, 'believ': {'docs_id': {1: 1, 2: 1, 4: 1, 8: 1}, 'count': 4}, 'call': {'docs_id': {1: 1, 5: 1}, 'count': 4}, 'due': {'docs_id': {1: 1, 5: 1, 7: 1}, 'count': 4}, 'cato': {'docs_id': {1: 1}, 'count': 4}, 'releas': {'docs_id': {1: 1, 2: 1, 4: 1, 7: 1}, 'count': 4}, 'caus': {'docs_id': {1: 1, 6: 1, 8: 1}, 'count': 4}, 'crane': {'docs_id': {1: 1}, 'count': 4}, 'public': {'docs_id': {1: 1, 4: 1, 8: 1}, 'count': 4}, 'chang': {'docs_id': {1: 1, 6: 1}, 'count': 4}, 'thing': {'docs_id': {1: 1, 7: 1, 8: 1}, 'count': 4}, 'keep': {'docs_id': {1: 1, 3: 1, 7: 1}, 'count': 4}, 'forc': {'docs_id': {1: 1, 2: 1, 4: 1}, 'count': 4}, 'roof': {'docs_id': {1: 1, 6: 1, 8: 1}, 'count': 4}, 'suicid': {'docs_id': {1: 1, 8: 1}, 'count': 4}, 'murder': {'docs_id': {2: 1, 4: 1}, 'count': 4}, 'pass': {'docs_id': {2: 1, 3: 1, 6: 1}, 'count': 4}, 'former': {'docs_id': {2: 1, 6: 1, 8: 1}, 'count': 4}, 'wife': {'docs_id': {2: 1, 3: 1, 4: 1}, 'count': 4}, 'found': {'docs_id': {2: 1, 4: 1, 6: 1}, 'count': 4}, 'success': {'docs_id': {3: 1, 4: 1, 7: 1}, 'count': 4}, 'santa': {'docs_id': {3: 1}, 'count': 4}, 'scheme': {'docs_id': {3: 1, 8: 1}, 'count': 4}, 'small': {'docs_id': {3: 1, 4: 1, 7: 1}, 'count': 4}, 'complet': {'docs_id': {3: 1, 7: 1}, 'count': 4}, 'inform': {'docs_id': {3: 1, 5: 1, 7: 1}, 'count': 4}, 'polic': {'docs_id': {3: 1, 4: 1, 6: 1}, 'count': 4}, 'michael': {'docs_id': {4: 1}, 'count': 4}, 'azaria': {'docs_id': {4: 1}, 'count': 4}, 'investig': {'docs_id': {4: 1, 5: 1, 8: 1}, 'count': 4}, 'man': {'docs_id': {5: 1, 7: 1}, 'count': 4}, 'question': {'docs_id': {5: 1, 6: 1}, 'count': 4}, 'hand': {'docs_id': {5: 1, 6: 1, 7: 1}, 'count': 4}, 'murray': {'docs_id': {6: 1}, 'count': 4}, 'bathroom': {'docs_id': {6: 1}, 'count': 4}, 'senior': {'docs_id': {7: 1}, 'count': 4}, 'leader': {'docs_id': {7: 1}, 'count': 4}, 'diner': {'docs_id': {7: 1, 8: 1}, 'count': 4}, 'buzz': {'docs_id': {9: 1}, 'count': 4}, 'woodi': {'docs_id': {9: 1}, 'count': 4}, 'death': {'docs_id': {1: 1, 2: 1}, 'count': 3}, 'alway': {'docs_id': {1: 1, 6: 1, 7: 1}, 'count': 3}, 'reveal': {'docs_id': {1: 1, 3: 1}, 'count': 3}, 'love': {'docs_id': {1: 1, 2: 1}, 'count': 3}, 'audienc': {'docs_id': {1: 1, 7: 1, 8: 1}, 'count': 3}, 'support': {'docs_id': {1: 1, 8: 1}, 'count': 3}, 'medicin': {'docs_id': {1: 1}, 'count': 3}, 'ignor': {'docs_id': {1: 1, 4: 1, 6: 1}, 'count': 3}, 'hide': {'docs_id': {1: 1, 5: 1, 8: 1}, 'count': 3}, 'recov': {'docs_id': {1: 1, 3: 1, 4: 1}, 'count': 3}, 'hear': {'docs_id': {1: 1, 6: 1}, 'count': 3}, 'instead': {'docs_id': {1: 1, 8: 1}, 'count': 3}, 'shoot': {'docs_id': {1: 1}, 'count': 3}, 'snow': {'docs_id': {1: 1, 3: 1}, 'count': 3}, 'abl': {'docs_id': {1: 1, 3: 1, 5: 1}, 'count': 3}, 'convinc': {'docs_id': {1: 1, 3: 1, 4: 1}, 'count': 3}, 'rule': {'docs_id': {1: 1, 4: 1}, 'count': 3}, 'announc': {'docs_id': {1: 1, 8: 1}, 'count': 3}, 'search': {'docs_id': {1: 1, 4: 1}, 'count': 3}, 'clove': {'docs_id': {1: 1}, 'count': 3}, 'work': {'docs_id': {1: 1, 7: 1}, 'count': 3}, 'nightlock': {'docs_id': {1: 1}, 'count': 3}, 'pack': {'docs_id': {1: 1, 4: 1, 6: 1}, 'count': 3}, 'tell': {'docs_id': {1: 1, 5: 1, 6: 1}, 'count': 3}, 'commit': {'docs_id': {1: 1, 3: 1, 8: 1}, 'count': 3}, 'prison': {'docs_id': {2: 1, 4: 1}, 'count': 3}, 'classmat': {'docs_id': {2: 1, 7: 1}, 'count': 3}, 'justic': {'docs_id': {2: 1}, 'count': 3}, 'case': {'docs_id': {2: 1, 4: 1}, 'count': 3}, 'nambiar': {'docs_id': {2: 1}, 'count': 3}, 'judg': {'docs_id': {2: 1, 3: 1}, 'count': 3}, 'jail': {'docs_id': {2: 1, 3: 1}, 'count': 3}, 'learn': {'docs_id': {2: 1, 3: 1}, 'count': 3}, 'nair': {'docs_id': {2: 1}, 'count': 3}, 'perform': {'docs_id': {2: 1, 7: 1}, 'count': 3}, 'ritual': {'docs_id': {2: 1}, 'count': 3}, 'also': {'docs_id': {2: 1, 6: 1}, 'count': 3}, 'stay': {'docs_id': {2: 1, 3: 1, 5: 1}, 'count': 3}, 'open': {'docs_id': {2: 1, 6: 1}, 'count': 3}, 'brother': {'docs_id': {2: 1, 7: 1}, 'count': 3}, 'manag': {'docs_id': {2: 1, 3: 1, 6: 1}, 'count': 3}, 'plot': {'docs_id': {2: 1, 6: 1, 8: 1}, 'count': 3}, 'parti': {'docs_id': {2: 1, 7: 1, 8: 1}, 'count': 3}, 'york': {'docs_id': {3: 1}, 'count': 3}, 'woman': {'docs_id': {3: 1}, 'count': 3}, 'lot': {'docs_id': {3: 1, 4: 1, 8: 1}, 'count': 3}, 'moos': {'docs_id': {3: 1}, 'count': 3}, 'demand': {'docs_id': {3: 1, 8: 1}, 'count': 3}, 'eve': {'docs_id': {3: 1, 8: 1}, 'count': 3}, 'quickli': {'docs_id': {3: 1, 7: 1}, 'count': 3}, 'visit': {'docs_id': {3: 1, 6: 1}, 'count': 3}, 'local': {'docs_id': {3: 1, 7: 1, 8: 1}, 'count': 3}, 'boss': {'docs_id': {3: 1, 5: 1}, 'count': 3}, 'oxford': {'docs_id': {3: 1}, 'count': 3}, 'suit': {'docs_id': {3: 1, 8: 1}, 'count': 3}, 'collect': {'docs_id': {3: 1}, 'count': 3}, 'recogn': {'docs_id': {3: 1, 7: 1, 8: 1}, 'count': 3}, 'rememb': {'docs_id': {3: 1, 7: 1}, 'count': 3}, 'licens': {'docs_id': {3: 1}, 'count': 3}, 'receiv': {'docs_id': {3: 1, 5: 1}, 'count': 3}, 'husband': {'docs_id': {3: 1, 5: 1}, 'count': 3}, 'other': {'docs_id': {3: 1, 8: 1}, 'count': 3}, 'pay': {'docs_id': {3: 1, 8: 1}, 'count': 3}, 'outsid': {'docs_id': {3: 1, 6: 1, 7: 1}, 'count': 3}, 'meet': {'docs_id': {3: 1, 6: 1}, 'count': 3}, 'sneak': {'docs_id': {3: 1, 6: 1, 9: 1}, 'count': 3}, 'origin': {'docs_id': {3: 1, 8: 1}, 'count': 3}, 'littl': {'docs_id': {3: 1, 6: 1}, 'count': 3}, 'main': {'docs_id': {3: 1, 5: 1, 7: 1}, 'count': 3}, 'event': {'docs_id': {3: 1, 4: 1, 7: 1}, 'count': 3}, 'chamberlain': {'docs_id': {4: 1}, 'count': 3}, 'famili': {'docs_id': {4: 1, 6: 1}, 'count': 3}, 'saw': {'docs_id': {4: 1, 7: 1}, 'count': 3}, 'soon': {'docs_id': {4: 1, 6: 1}, 'count': 3}, 'month': {'docs_id': {4: 1, 6: 1, 8: 1}, 'count': 3}, 'play': {'docs_id': {4: 1, 8: 1}, 'count': 3}, 'stand': {'docs_id': {4: 1, 6: 1, 7: 1}, 'count': 3}, 'guilti': {'docs_id': {4: 1}, 'count': 3}, 'secret': {'docs_id': {5: 1}, 'count': 3}, 'alex': {'docs_id': {5: 1}, 'count': 3}, 'agent': {'docs_id': {5: 1}, 'count': 3}, 'assassin': {'docs_id': {5: 1}, 'count': 3}, 'happen': {'docs_id': {5: 1, 9: 1}, 'count': 3}, 'jack': {'docs_id': {5: 1, 9: 1}, 'count': 3}, 'film': {'docs_id': {5: 1, 6: 1, 8: 1}, 'count': 3}, 'left': {'docs_id': {5: 1, 6: 1}, 'count': 3}, 'week': {'docs_id': {5: 1, 6: 1, 8: 1}, 'count': 3}, 'young': {'docs_id': {6: 1, 7: 1}, 'count': 3}, 'custodi': {'docs_id': {6: 1}, 'count': 3}, 'live': {'docs_id': {6: 1}, 'count': 3}, 'backpack': {'docs_id': {6: 1}, 'count': 3}, 'tank': {'docs_id': {6: 1}, 'count': 3}, 'agre': {'docs_id': {6: 1, 7: 1}, 'count': 3}, 'dark': {'docs_id': {6: 1}, 'count': 3}, '10f': {'docs_id': {6: 1}, 'count': 3}, 'elev': {'docs_id': {6: 1}, 'count': 3}, 'read': {'docs_id': {6: 1, 8: 1}, 'count': 3}, 'pick': {'docs_id': {6: 1}, 'count': 3}, 'final': {'docs_id': {6: 1, 7: 1, 8: 1}, 'count': 3}, 'along': {'docs_id': {7: 1}, 'count': 3}, 'club': {'docs_id': {7: 1, 8: 1}, 'count': 3}, 'write': {'docs_id': {8: 1}, 'count': 3}, 'peopl': {'docs_id': {8: 1, 9: 1}, 'count': 3}, 'he': {'docs_id': {8: 1, 9: 1}, 'count': 3}, 'driver': {'docs_id': {0: 1, 7: 1}, 'count': 2}, 'develop': {'docs_id': {0: 1, 8: 1}, 'count': 2}, 'bizarr': {'docs_id': {0: 1, 4: 1}, 'count': 2}, 'differ': {'docs_id': {0: 1, 7: 1}, 'count': 2}, 'nation': {'docs_id': {1: 1, 8: 1}, 'count': 2}, 'capitol': {'docs_id': {1: 1}, 'count': 2}, 'must': {'docs_id': {1: 1}, 'count': 2}, 'boy': {'docs_id': {1: 1}, 'count': 2}, 'age': {'docs_id': {1: 1, 6: 1}, 'count': 2}, 'hunger': {'docs_id': {1: 1}, 'count': 2}, 'fight': {'docs_id': {1: 1, 6: 1}, 'count': 2}, 'arena': {'docs_id': {1: 1}, 'count': 2}, 'sole': {'docs_id': {1: 1, 7: 1}, 'count': 2}, 'survivor': {'docs_id': {1: 1}, 'count': 2}, 'sister': {'docs_id': {1: 1, 2: 1}, 'count': 2}, 'taken': {'docs_id': {1: 1, 6: 1}, 'count': 2}, 'victor': {'docs_id': {1: 1}, 'count': 2}, 'career': {'docs_id': {1: 1}, 'count': 2}, 'win': {'docs_id': {1: 1}, 'count': 2}, 'gain': {'docs_id': {1: 1}, 'count': 2}, 'sponsor': {'docs_id': {1: 1}, 'count': 2}, 'gift': {'docs_id': {1: 1}, 'count': 2}, 'said': {'docs_id': {1: 1, 6: 1}, 'count': 2}, 'televis': {'docs_id': {1: 1}, 'count': 2}, 'half': {'docs_id': {1: 1}, 'count': 2}, 'bare': {'docs_id': {1: 1, 2: 1}, 'count': 2}, 'advic': {'docs_id': {1: 1, 4: 1}, 'count': 2}, 'suppli': {'docs_id': {1: 1}, 'count': 2}, 'cornucopia': {'docs_id': {1: 1}, 'count': 2}, 'allianc': {'docs_id': {1: 1}, 'count': 2}, 'tree': {'docs_id': {1: 1}, 'count': 2}, 'draw': {'docs_id': {1: 1}, 'count': 2}, 'attent': {'docs_id': {1: 1, 3: 1}, 'count': 2}, 'poison': {'docs_id': {1: 1}, 'count': 2}, 'tracker': {'docs_id': {1: 1}, 'count': 2}, 'jacker': {'docs_id': {1: 1}, 'count': 2}, 'drop': {'docs_id': {1: 1, 3: 1}, 'count': 2}, 'sleep': {'docs_id': {1: 1, 4: 1}, 'count': 2}, 'care': {'docs_id': {1: 1, 3: 1}, 'count': 2}, 'coupl': {'docs_id': {1: 1, 4: 1}, 'count': 2}, 'gather': {'docs_id': {1: 1}, 'count': 2}, 'destroy': {'docs_id': {1: 1, 2: 1}, 'count': 2}, 'set': {'docs_id': {1: 1, 3: 1}, 'count': 2}, 'mine': {'docs_id': {1: 1, 3: 1}, 'count': 2}, 'around': {'docs_id': {1: 1}, 'count': 2}, 'furiou': {'docs_id': {1: 1, 3: 1}, 'count': 2}, 'scene': {'docs_id': {1: 1, 9: 1}, 'count': 2}, 'trap': {'docs_id': {1: 1, 9: 1}, 'count': 2}, 'throw': {'docs_id': {1: 1, 5: 1}, 'count': 2}, 'spear': {'docs_id': {1: 1}, 'count': 2}, 'arrow': {'docs_id': {1: 1}, 'count': 2}, 'comfort': {'docs_id': {1: 1, 6: 1}, 'count': 2}, 'riot': {'docs_id': {1: 1}, 'count': 2}, '11': {'docs_id': {1: 1}, 'count': 2}, 'sinc': {'docs_id': {1: 1, 9: 1}, 'count': 2}, 'avoid': {'docs_id': {1: 1, 3: 1}, 'count': 2}, 'pair': {'docs_id': {1: 1, 4: 1}, 'count': 2}, 'upon': {'docs_id': {1: 1, 2: 1}, 'count': 2}, 'wound': {'docs_id': {1: 1}, 'count': 2}, 'proclaim': {'docs_id': {1: 1}, 'count': 2}, 'feast': {'docs_id': {1: 1}, 'count': 2}, 'beg': {'docs_id': {1: 1, 6: 1}, 'count': 2}, 'risk': {'docs_id': {1: 1, 7: 1}, 'count': 2}, 'head': {'docs_id': {1: 1, 5: 1}, 'count': 2}, 'thresh': {'docs_id': {1: 1}, 'count': 2}, 'spare': {'docs_id': {1: 1}, 'count': 2}, 'berri': {'docs_id': {1: 1}, 'count': 2}, 'late': {'docs_id': {1: 1, 3: 1}, 'count': 2}, 'creatur': {'docs_id': {1: 1}, 'count': 2}, 'appar': {'docs_id': {1: 1, 3: 1}, 'count': 2}, 'allow': {'docs_id': {1: 1, 3: 1}, 'count': 2}, 'made': {'docs_id': {1: 1, 8: 1}, 'count': 2}, 'lock': {'docs_id': {1: 1, 6: 1}, 'count': 2}, 'room': {'docs_id': {1: 1, 6: 1}, 'count': 2}, 'pooval': {'docs_id': {2: 1}, 'count': 2}, 'six': {'docs_id': {2: 1}, 'count': 2}, 'madhavan': {'docs_id': {2: 1}, 'count': 2}, 'earlier': {'docs_id': {2: 1, 3: 1}, 'count': 2}, 'given': {'docs_id': {2: 1, 4: 1}, 'count': 2}, 'civil': {'docs_id': {2: 1}, 'count': 2}, 'flashback': {'docs_id': {2: 1, 6: 1}, 'count': 2}, 'funer': {'docs_id': {2: 1}, 'count': 2}, 'mani': {'docs_id': {2: 1, 4: 1}, 'count': 2}, 'follow': {'docs_id': {2: 1, 8: 1}, 'count': 2}, 'anuradha': {'docs_id': {2: 1}, 'count': 2}, 'refus': {'docs_id': {2: 1, 6: 1}, 'count': 2}, 'circumst': {'docs_id': {2: 1, 7: 1}, 'count': 2}, 'help': {'docs_id': {2: 1, 7: 1}, 'count': 2}, 'reluctantli': {'docs_id': {2: 1, 7: 1}, 'count': 2}, 'protest': {'docs_id': {2: 1, 8: 1}, 'count': 2}, 'know': {'docs_id': {2: 1, 5: 1}, 'count': 2}, 'truth': {'docs_id': {2: 1, 4: 1}, 'count': 2}, 'good': {'docs_id': {2: 1, 6: 1}, 'count': 2}, 'goe': {'docs_id': {2: 1, 5: 1}, 'count': 2}, 'next': {'docs_id': {2: 1, 3: 1}, 'count': 2}, 'accus': {'docs_id': {2: 1, 4: 1}, 'count': 2}, 'whole': {'docs_id': {2: 1, 8: 1}, 'count': 2}, 'close': {'docs_id': {2: 1, 7: 1}, 'count': 2}, 'lawyer': {'docs_id': {2: 1, 6: 1}, 'count': 2}, 'hidden': {'docs_id': {2: 1, 3: 1}, 'count': 2}, 'innoc': {'docs_id': {2: 1}, 'count': 2}, 'action': {'docs_id': {2: 1, 3: 1}, 'count': 2}, 'carri': {'docs_id': {2: 1, 4: 1}, 'count': 2}, 'last': {'docs_id': {2: 1, 3: 1}, 'count': 2}, 'sever': {'docs_id': {2: 1, 3: 1}, 'count': 2}, 'injur': {'docs_id': {2: 1, 8: 1}, 'count': 2}, 'swindler': {'docs_id': {3: 1}, 'count': 2}, 'across': {'docs_id': {3: 1, 8: 1}, 'count': 2}, 'intend': {'docs_id': {3: 1, 8: 1}, 'count': 2}, 'bet': {'docs_id': {3: 1}, 'count': 2}, 'switch': {'docs_id': {3: 1}, 'count': 2}, 'employ': {'docs_id': {3: 1}, 'count': 2}, 'gangster': {'docs_id': {3: 1}, 'count': 2}, 'talk': {'docs_id': {3: 1, 8: 1}, 'count': 2}, 'deal': {'docs_id': {3: 1}, 'count': 2}, 'notic': {'docs_id': {3: 1, 6: 1}, 'count': 2}, 'clau': {'docs_id': {3: 1}, 'count': 2}, 'think': {'docs_id': {3: 1, 9: 1}, 'count': 2}, 'previou': {'docs_id': {3: 1, 5: 1}, 'count': 2}, 'activ': {'docs_id': {3: 1}, 'count': 2}, 'convict': {'docs_id': {3: 1, 4: 1}, 'count': 2}, 'chariti': {'docs_id': {3: 1}, 'count': 2}, 'without': {'docs_id': {3: 1, 4: 1}, 'count': 2}, 'short': {'docs_id': {3: 1, 9: 1}, 'count': 2}, 'oper': {'docs_id': {3: 1}, 'count': 2}, 'inspir': {'docs_id': {3: 1, 8: 1}, 'count': 2}, 'surpris': {'docs_id': {3: 1}, 'count': 2}, 'abandon': {'docs_id': {3: 1, 6: 1}, 'count': 2}, 'casino': {'docs_id': {3: 1}, 'count': 2}, 'old': {'docs_id': {3: 1}, 'count': 2}, 'doll': {'docs_id': {3: 1}, 'count': 2}, 'elderli': {'docs_id': {3: 1}, 'count': 2}, 'women': {'docs_id': {3: 1}, 'count': 2}, 'free': {'docs_id': {3: 1}, 'count': 2}, 'job': {'docs_id': {3: 1, 8: 1}, 'count': 2}, 'crew': {'docs_id': {3: 1}, 'count': 2}, 'true': {'docs_id': {3: 1, 4: 1}, 'count': 2}, 'natur': {'docs_id': {3: 1, 8: 1}, 'count': 2}, 'voic': {'docs_id': {3: 1, 6: 1}, 'count': 2}, 'locat': {'docs_id': {3: 1, 5: 1}, 'count': 2}, 'ensu': {'docs_id': {3: 1, 9: 1}, 'count': 2}, 'tabl': {'docs_id': {3: 1}, 'count': 2}, 'hit': {'docs_id': {3: 1, 5: 1}, 'count': 2}, 'hold': {'docs_id': {3: 1, 6: 1}, 'count': 2}, 'arrest': {'docs_id': {3: 1, 6: 1}, 'count': 2}, 'henri': {'docs_id': {3: 1, 8: 1}, 'count': 2}, 'babi': {'docs_id': {4: 1}, 'count': 2}, 'tent': {'docs_id': {4: 1}, 'count': 2}, 'everyon': {'docs_id': {4: 1, 8: 1}, 'count': 2}, 'fact': {'docs_id': {4: 1, 5: 1}, 'count': 2}, 'belief': {'docs_id': {4: 1}, 'count': 2}, 'countri': {'docs_id': {4: 1, 8: 1}, 'count': 2}, 'report': {'docs_id': {4: 1, 5: 1}, 'count': 2}, 'part': {'docs_id': {4: 1, 9: 1}, 'count': 2}, 'reopen': {'docs_id': {4: 1}, 'count': 2}, 'faith': {'docs_id': {4: 1, 7: 1}, 'count': 2}, 'suggest': {'docs_id': {4: 1, 7: 1}, 'count': 2}, 'hard': {'docs_id': {4: 1, 7: 1}, 'count': 2}, 'fell': {'docs_id': {4: 1, 6: 1}, 'count': 2}, 'cloth': {'docs_id': {4: 1, 8: 1}, 'count': 2}, 'insist': {'docs_id': {4: 1, 6: 1}, 'count': 2}, 'camera': {'docs_id': {5: 1}, 'count': 2}, 'ask': {'docs_id': {5: 1}, 'count': 2}, 'member': {'docs_id': {5: 1}, 'count': 2}, 'gun': {'docs_id': {5: 1}, 'count': 2}, 'crawford': {'docs_id': {5: 1}, 'count': 2}, 'thomass': {'docs_id': {5: 1}, 'count': 2}, 'jump': {'docs_id': {5: 1, 8: 1}, 'count': 2}, 'hitmen': {'docs_id': {5: 1}, 'count': 2}, 'link': {'docs_id': {5: 1}, 'count': 2}, 'attack': {'docs_id': {5: 1}, 'count': 2}, 'review': {'docs_id': {5: 1, 8: 1}, 'count': 2}, 'car': {'docs_id': {5: 1}, 'count': 2}, 'ladi': {'docs_id': {5: 1}, 'count': 2}, 'say': {'docs_id': {5: 1, 8: 1}, 'count': 2}, 'closer': {'docs_id': {6: 1}, 'count': 2}, 'jersey': {'docs_id': {6: 1}, 'count': 2}, 'roosevelt': {'docs_id': {6: 1}, 'count': 2}, 'island': {'docs_id': {6: 1}, 'count': 2}, 'threaten': {'docs_id': {6: 1, 8: 1}, 'count': 2}, 'great': {'docs_id': {6: 1, 7: 1}, 'count': 2}, 'complex': {'docs_id': {6: 1}, 'count': 2}, 'mr': {'docs_id': {6: 1}, 'count': 2}, 'hello': {'docs_id': {6: 1}, 'count': 2}, 'kitti': {'docs_id': {6: 1}, 'count': 2}, 'ceil': {'docs_id': {6: 1}, 'count': 2}, 'leak': {'docs_id': {6: 1}, 'count': 2}, 'sourc': {'docs_id': {6: 1, 7: 1}, 'count': 2}, 'rimski': {'docs_id': {6: 1}, 'count': 2}, 'flood': {'docs_id': {6: 1}, 'count': 2}, 'everi': {'docs_id': {6: 1}, 'count': 2}, 'toilet': {'docs_id': {6: 1}, 'count': 2}, 'portrait': {'docs_id': {6: 1}, 'count': 2}, 'dream': {'docs_id': {6: 1}, 'count': 2}, 'like': {'docs_id': {6: 1, 8: 1}, 'count': 2}, 'teacher': {'docs_id': {6: 1, 7: 1}, 'count': 2}, 'cant': {'docs_id': {6: 1}, 'count': 2}, 'thought': {'docs_id': {6: 1}, 'count': 2}, 'share': {'docs_id': {6: 1, 7: 1}, 'count': 2}, 'save': {'docs_id': {6: 1, 7: 1}, 'count': 2}, 'forev': {'docs_id': {6: 1, 7: 1}, 'count': 2}, 'shown': {'docs_id': {6: 1, 8: 1}, 'count': 2}, 'walk': {'docs_id': {6: 1, 7: 1}, 'count': 2}, 'rest': {'docs_id': {6: 1, 9: 1}, 'count': 2}, 'togeth': {'docs_id': {6: 1, 7: 1}, 'count': 2}, 'ghost': {'docs_id': {6: 1, 9: 1}, 'count': 2}, 'braid': {'docs_id': {6: 1}, 'count': 2}, 'hair': {'docs_id': {6: 1}, 'count': 2}, 'tradit': {'docs_id': {7: 1}, 'count': 2}, 'cab': {'docs_id': {7: 1}, 'count': 2}, 'attempt': {'docs_id': {7: 1, 8: 1}, 'count': 2}, 'student': {'docs_id': {7: 1}, 'count': 2}, 'put': {'docs_id': {7: 1}, 'count': 2}, 'elect': {'docs_id': {7: 1}, 'count': 2}, 'cose': {'docs_id': {7: 1}, 'count': 2}, 'product': {'docs_id': {7: 1}, 'count': 2}, 'order': {'docs_id': {7: 1, 9: 1}, 'count': 2}, 'equal': {'docs_id': {7: 1, 8: 1}, 'count': 2}, 'door': {'docs_id': {7: 1, 9: 1}, 'count': 2}, 'even': {'docs_id': {7: 1}, 'count': 2}, 'alreadi': {'docs_id': {7: 1, 8: 1}, 'count': 2}, 'failur': {'docs_id': {7: 1, 8: 1}, 'count': 2}, 'commun': {'docs_id': {7: 1}, 'count': 2}, 'fiction': {'docs_id': {8: 1}, 'count': 2}, 'societi': {'docs_id': {8: 1}, 'count': 2}, 'sensat': {'docs_id': {8: 1}, 'count': 2}, 'paper': {'docs_id': {8: 1}, 'count': 2}, 'editor': {'docs_id': {8: 1}, 'count': 2}, 'fake': {'docs_id': {8: 1}, 'count': 2}, 'pen': {'docs_id': {8: 1}, 'count': 2}, 'connel': {'docs_id': {8: 1}, 'count': 2}, 'hire': {'docs_id': {8: 1}, 'count': 2}, 'tramp': {'docs_id': {8: 1}, 'count': 2}, 'seri': {'docs_id': {8: 1, 9: 1}, 'count': 2}, 'radio': {'docs_id': {8: 1}, 'count': 2}, 'hall': {'docs_id': {8: 1}, 'count': 2}, 'philosophi': {'docs_id': {8: 1}, 'count': 2}, 'polit': {'docs_id': {8: 1}, 'count': 2}, 'expos': {'docs_id': {8: 1}, 'count': 2}, 'invis': {'docs_id': {9: 1}, 'count': 2}, 'ink': {'docs_id': {9: 1}, 'count': 2}, 'shlykov': {'docs_id': {0: 1}, 'count': 1}, 'hardwork': {'docs_id': {0: 1}, 'count': 1}, 'taxi': {'docs_id': {0: 1}, 'count': 1}, 'lyosha': {'docs_id': {0: 1}, 'count': 1}, 'saxophonist': {'docs_id': {0: 1}, 'count': 1}, 'loveh': {'docs_id': {0: 1}, 'count': 1}, 'relationship': {'docs_id': {0: 1}, 'count': 1}, 'prejudic': {'docs_id': {0: 1}, 'count': 1}, 'arent': {'docs_id': {0: 1}, 'count': 1}, 'panem': {'docs_id': {1: 1}, 'count': 1}, 'consist': {'docs_id': {1: 1}, 'count': 1}, 'wealthi': {'docs_id': {1: 1}, 'count': 1}, 'twelv': {'docs_id': {1: 1}, 'count': 1}, 'poorer': {'docs_id': {1: 1}, 'count': 1}, 'punish': {'docs_id': {1: 1}, 'count': 1}, 'rebellion': {'docs_id': {1: 1}, 'count': 1}, '18': {'docs_id': {1: 1}, 'count': 1}, 'select': {'docs_id': {1: 1}, 'count': 1}, 'lotteri': {'docs_id': {1: 1}, 'count': 1}, 'annual': {'docs_id': {1: 1}, 'count': 1}, 'reward': {'docs_id': {1: 1}, 'count': 1}, 'fame': {'docs_id': {1: 1}, 'count': 1}, 'wealth': {'docs_id': {1: 1}, 'count': 1}, 'reap': {'docs_id': {1: 1}, 'count': 1}, '12yearold': {'docs_id': {1: 1}, 'count': 1}, 'primros': {'docs_id': {1: 1}, 'count': 1}, 'everdeen': {'docs_id': {1: 1}, 'count': 1}, 'chosen': {'docs_id': {1: 1}, 'count': 1}, 'older': {'docs_id': {1: 1}, 'count': 1}, 'volunt': {'docs_id': {1: 1}, 'count': 1}, 'place': {'docs_id': {1: 1}, 'count': 1}, 'mellark': {'docs_id': {1: 1}, 'count': 1}, 'baker': {'docs_id': {1: 1}, 'count': 1}, 'gave': {'docs_id': {1: 1}, 'count': 1}, 'bread': {'docs_id': {1: 1}, 'count': 1}, 'starv': {'docs_id': {1: 1}, 'count': 1}, 'frequent': {'docs_id': {1: 1}, 'count': 1}, 'drunk': {'docs_id': {1: 1}, 'count': 1}, 'mentor': {'docs_id': {1: 1}, 'count': 1}, 'abernathi': {'docs_id': {1: 1}, 'count': 1}, 'train': {'docs_id': {1: 1}, 'count': 1}, 'intens': {'docs_id': {1: 1}, 'count': 1}, 'special': {'docs_id': {1: 1}, 'count': 1}, 'academi': {'docs_id': {1: 1}, 'count': 1}, 'almost': {'docs_id': {1: 1}, 'count': 1}, 'tv': {'docs_id': {1: 1}, 'count': 1}, 'interview': {'docs_id': {1: 1}, 'count': 1}, 'caesar': {'docs_id': {1: 1}, 'count': 1}, 'flickerman': {'docs_id': {1: 1}, 'count': 1}, 'unexpectedli': {'docs_id': {1: 1}, 'count': 1}, 'outrag': {'docs_id': {1: 1}, 'count': 1}, 'ploy': {'docs_id': {1: 1}, 'count': 1}, 'may': {'docs_id': {1: 1}, 'count': 1}, 'ingam': {'docs_id': {1: 1}, 'count': 1}, 'food': {'docs_id': {1: 1}, 'count': 1}, 'tool': {'docs_id': {1: 1}, 'count': 1}, 'meant': {'docs_id': {1: 1}, 'count': 1}, 'minut': {'docs_id': {1: 1}, 'count': 1}, 'surviv': {'docs_id': {1: 1}, 'count': 1}, 'mele': {'docs_id': {1: 1}, 'count': 1}, 'tempt': {'docs_id': {1: 1}, 'count': 1}, 'weapon': {'docs_id': {1: 1}, 'count': 1}, 'strewn': {'docs_id': {1: 1}, 'count': 1}, 'front': {'docs_id': {1: 1}, 'count': 1}, 'structur': {'docs_id': {1: 1}, 'count': 1}, 'form': {'docs_id': {1: 1}, 'count': 1}, 'uneasi': {'docs_id': {1: 1}, 'count': 1}, 'four': {'docs_id': {1: 1}, 'count': 1}, 'corner': {'docs_id': {1: 1}, 'count': 1}, 'nearbi': {'docs_id': {1: 1}, 'count': 1}, 'nest': {'docs_id': {1: 1}, 'count': 1}, 'hang': {'docs_id': {1: 1}, 'count': 1}, 'branch': {'docs_id': {1: 1}, 'count': 1}, 'besieg': {'docs_id': {1: 1}, 'count': 1}, 'scatter': {'docs_id': {1: 1}, 'count': 1}, 'except': {'docs_id': {1: 1}, 'count': 1}, 'glimmer': {'docs_id': {1: 1}, 'count': 1}, 'insect': {'docs_id': {1: 1}, 'count': 1}, 'hallucin': {'docs_id': {1: 1}, 'count': 1}, 'venom': {'docs_id': {1: 1}, 'count': 1}, 'meanwhil': {'docs_id': {1: 1}, 'count': 1}, 'pile': {'docs_id': {1: 1}, 'count': 1}, 'stockpil': {'docs_id': {1: 1}, 'count': 1}, 'plant': {'docs_id': {1: 1}, 'count': 1}, 'assign': {'docs_id': {1: 1}, 'count': 1}, 'guard': {'docs_id': {1: 1}, 'count': 1}, 'marvel': {'docs_id': {1: 1}, 'count': 1}, '1': {'docs_id': {1: 1}, 'count': 1}, 'dodg': {'docs_id': {1: 1}, 'count': 1}, 'stab': {'docs_id': {1: 1}, 'count': 1}, 'stomach': {'docs_id': {1: 1}, 'count': 1}, 'song': {'docs_id': {1: 1}, 'count': 1}, 'afterward': {'docs_id': {1: 1}, 'count': 1}, 'arrang': {'docs_id': {1: 1}, 'count': 1}, 'flower': {'docs_id': {1: 1}, 'count': 1}, 'spark': {'docs_id': {1: 1}, 'count': 1}, 'summon': {'docs_id': {1: 1}, 'count': 1}, 'seneca': {'docs_id': {1: 1}, 'count': 1}, 'gamemak': {'docs_id': {1: 1}, 'count': 1}, 'express': {'docs_id': {1: 1}, 'count': 1}, 'displeasur': {'docs_id': {1: 1}, 'count': 1}, 'present': {'docs_id': {1: 1}, 'count': 1}, 'starcross': {'docs_id': {1: 1}, 'count': 1}, 'lover': {'docs_id': {1: 1}, 'count': 1}, 'incit': {'docs_id': {1: 1}, 'count': 1}, 'infect': {'docs_id': {1: 1}, 'count': 1}, 'sword': {'docs_id': {1: 1}, 'count': 1}, 'leg': {'docs_id': {1: 1}, 'count': 1}, 'portray': {'docs_id': {1: 1}, 'count': 1}, 'deepli': {'docs_id': {1: 1}, 'count': 1}, 'soup': {'docs_id': {1: 1}, 'count': 1}, 'asleep': {'docs_id': {1: 1}, 'count': 1}, 'ambush': {'docs_id': {1: 1}, 'count': 1}, 'pin': {'docs_id': {1: 1}, 'count': 1}, 'gloat': {'docs_id': {1: 1}, 'count': 1}, 'overhear': {'docs_id': {1: 1}, 'count': 1}, 'torment': {'docs_id': {1: 1}, 'count': 1}, 'timefor': {'docs_id': {1: 1}, 'count': 1}, 'mobil': {'docs_id': {1: 1}, 'count': 1}, 'foxfac': {'docs_id': {1: 1}, 'count': 1}, '5': {'docs_id': {1: 1}, 'count': 1}, 'eat': {'docs_id': {1: 1}, 'count': 1}, 'stole': {'docs_id': {1: 1}, 'count': 1}, 'neither': {'docs_id': {1: 1}, 'count': 1}, 'knew': {'docs_id': {1: 1}, 'count': 1}, 'highli': {'docs_id': {1: 1}, 'count': 1}, 'unleash': {'docs_id': {1: 1}, 'count': 1}, 'houndlik': {'docs_id': {1: 1}, 'count': 1}, 'speed': {'docs_id': {1: 1}, 'count': 1}, 'flee': {'docs_id': {1: 1}, 'count': 1}, 'encount': {'docs_id': {1: 1}, 'count': 1}, 'battl': {'docs_id': {1: 1}, 'count': 1}, 'hurl': {'docs_id': {1: 1}, 'count': 1}, 'prolong': {'docs_id': {1: 1}, 'count': 1}, 'victori': {'docs_id': {1: 1}, 'count': 1}, 'winner': {'docs_id': {1: 1}, 'count': 1}, 'suddenli': {'docs_id': {1: 1}, 'count': 1}, 'revok': {'docs_id': {1: 1}, 'count': 1}, 'hastili': {'docs_id': {1: 1}, 'count': 1}, '74th': {'docs_id': {1: 1}, 'count': 1}, 'power': {'docs_id': {1: 1}, 'count': 1}, 'enemi': {'docs_id': {1: 1}, 'count': 1}, 'display': {'docs_id': {1: 1}, 'count': 1}, 'defianc': {'docs_id': {1: 1}, 'count': 1}, 'bowl': {'docs_id': {1: 1}, 'count': 1}, 'consid': {'docs_id': {1: 1}, 'count': 1}, 'situat': {'docs_id': {1: 1}, 'count': 1}, 'marancheri': {'docs_id': {2: 1}, 'count': 1}, 'karunakara': {'docs_id': {2: 1}, 'count': 1}, 'frame': {'docs_id': {2: 1}, 'count': 1}, 'croni': {'docs_id': {2: 1}, 'count': 1}, 'dysp': {'docs_id': {2: 1}, 'count': 1}, 'sankaranarayanan': {'docs_id': {2: 1}, 'count': 1}, 'reveng': {'docs_id': {2: 1}, 'count': 1}, 'idealist': {'docs_id': {2: 1}, 'count': 1}, 'corrupt': {'docs_id': {2: 1}, 'count': 1}, 'achiev': {'docs_id': {2: 1}, 'count': 1}, 'top': {'docs_id': {2: 1}, 'count': 1}, 'rank': {'docs_id': {2: 1}, 'count': 1}, 'indian': {'docs_id': {2: 1}, 'count': 1}, 'lose': {'docs_id': {2: 1}, 'count': 1}, 'post': {'docs_id': {2: 1}, 'count': 1}, 'sudheeran': {'docs_id': {2: 1}, 'count': 1}, 'saikumar': {'docs_id': {2: 1}, 'count': 1}, 'list': {'docs_id': {2: 1}, 'count': 1}, 'traine': {'docs_id': {2: 1}, 'count': 1}, 'ramakrishnan': {'docs_id': {2: 1}, 'count': 1}, 'moopil': {'docs_id': {2: 1}, 'count': 1}, 'actual': {'docs_id': {2: 1}, 'count': 1}, 'state': {'docs_id': {2: 1}, 'count': 1}, 'minist': {'docs_id': {2: 1}, 'count': 1}, 'rage': {'docs_id': {2: 1}, 'count': 1}, 'gross': {'docs_id': {2: 1}, 'count': 1}, 'injustic': {'docs_id': {2: 1}, 'count': 1}, 'mete': {'docs_id': {2: 1}, 'count': 1}, 'thu': {'docs_id': {2: 1}, 'count': 1}, 'thwart': {'docs_id': {2: 1}, 'count': 1}, 'bharathapuzha': {'docs_id': {2: 1}, 'count': 1}, 'henchmen': {'docs_id': {2: 1}, 'count': 1}, 'aishwarya': {'docs_id': {2: 1}, 'count': 1}, 'strongwil': {'docs_id': {2: 1}, 'count': 1}, 'independentmind': {'docs_id': {2: 1}, 'count': 1}, 'mooppil': {'docs_id': {2: 1}, 'count': 1}, 'kerala': {'docs_id': {2: 1}, 'count': 1}, 'kanaka': {'docs_id': {2: 1}, 'count': 1}, 'flatli': {'docs_id': {2: 1}, 'count': 1}, 'banish': {'docs_id': {2: 1}, 'count': 1}, 'instig': {'docs_id': {2: 1}, 'count': 1}, 'thrash': {'docs_id': {2: 1}, 'count': 1}, 'chandrabhanu': {'docs_id': {2: 1}, 'count': 1}, 'uncl': {'docs_id': {2: 1}, 'count': 1}, 'task': {'docs_id': {2: 1}, 'count': 1}, 'protect': {'docs_id': {2: 1}, 'count': 1}, 'capac': {'docs_id': {2: 1}, 'count': 1}, 'elder': {'docs_id': {2: 1}, 'count': 1}, 'marri': {'docs_id': {2: 1}, 'count': 1}, 'jayakrishnan': {'docs_id': {2: 1}, 'count': 1}, 'prod': {'docs_id': {2: 1}, 'count': 1}, 'mistak': {'docs_id': {2: 1}, 'count': 1}, 'acknowledg': {'docs_id': {2: 1}, 'count': 1}, 'parentag': {'docs_id': {2: 1}, 'count': 1}, 'ultim': {'docs_id': {2: 1}, 'count': 1}, 'regret': {'docs_id': {2: 1}, 'count': 1}, 'confess': {'docs_id': {2: 1}, 'count': 1}, 'act': {'docs_id': {2: 1}, 'count': 1}, 'raman': {'docs_id': {2: 1}, 'count': 1}, 'testifi': {'docs_id': {2: 1}, 'count': 1}, 'nandagop': {'docs_id': {2: 1}, 'count': 1}, 'maarar': {'docs_id': {2: 1}, 'count': 1}, 'famou': {'docs_id': {2: 1}, 'count': 1}, 'suprem': {'docs_id': {2: 1}, 'count': 1}, 'lay': {'docs_id': {2: 1}, 'count': 1}, 'intent': {'docs_id': {2: 1}, 'count': 1}, 'retribut': {'docs_id': {2: 1}, 'count': 1}, 'remors': {'docs_id': {2: 1}, 'count': 1}, 'includ': {'docs_id': {2: 1}, 'count': 1}, 'speak': {'docs_id': {2: 1}, 'count': 1}, 'suffer': {'docs_id': {2: 1}, 'count': 1}, 'heart': {'docs_id': {2: 1}, 'count': 1}, 'stroke': {'docs_id': {2: 1}, 'count': 1}, 'poke': {'docs_id': {2: 1}, 'count': 1}, 'fun': {'docs_id': {2: 1}, 'count': 1}, 'postpon': {'docs_id': {2: 1}, 'count': 1}, 'interrupt': {'docs_id': {2: 1}, 'count': 1}, 'aveng': {'docs_id': {2: 1}, 'count': 1}, 'peac': {'docs_id': {2: 1}, 'count': 1}, 'partner': {'docs_id': {2: 1}, 'count': 1}, 'lemon': {'docs_id': {3: 1}, 'count': 1}, 'illeg': {'docs_id': {3: 1}, 'count': 1}, 'tout': {'docs_id': {3: 1}, 'count': 1}, 'hors': {'docs_id': {3: 1}, 'count': 1}, 'florida': {'docs_id': {3: 1}, 'count': 1}, 'racetrack': {'docs_id': {3: 1}, 'count': 1}, 'hustl': {'docs_id': {3: 1}, 'count': 1}, 'beauti': {'docs_id': {3: 1}, 'count': 1}, 'gullibl': {'docs_id': {3: 1}, 'count': 1}, 'prefabr': {'docs_id': {3: 1}, 'count': 1}, 'con': {'docs_id': {3: 1}, 'count': 1}, 'unfortun': {'docs_id': {3: 1}, 'count': 1}, 'belong': {'docs_id': {3: 1}, 'count': 1}, 'notori': {'docs_id': {3: 1}, 'count': 1}, 'choic': {'docs_id': {3: 1}, 'count': 1}, 'finish': {'docs_id': {3: 1}, 'count': 1}, '10000': {'docs_id': {3: 1}, 'count': 1}, 'wont': {'docs_id': {3: 1}, 'count': 1}, 'onagain': {'docs_id': {3: 1}, 'count': 1}, 'offagain': {'docs_id': {3: 1}, 'count': 1}, 'girlfriend': {'docs_id': {3: 1}, 'count': 1}, 'baxter': {'docs_id': {3: 1}, 'count': 1}, 'longterm': {'docs_id': {3: 1}, 'count': 1}, 'aris': {'docs_id': {3: 1}, 'count': 1}, 'seriou': {'docs_id': {3: 1}, 'count': 1}, 'tax': {'docs_id': {3: 1}, 'count': 1}, 'troubl': {'docs_id': {3: 1}, 'count': 1}, 'particularli': {'docs_id': {3: 1}, 'count': 1}, 'anyway': {'docs_id': {3: 1}, 'count': 1}, 'establish': {'docs_id': {3: 1}, 'count': 1}, 'hope': {'docs_id': {3: 1}, 'count': 1}, 'cornersid': {'docs_id': {3: 1}, 'count': 1}, 'kettl': {'docs_id': {3: 1}, 'count': 1}, 'fashion': {'docs_id': {3: 1}, 'count': 1}, 'donat': {'docs_id': {3: 1}, 'count': 1}, 'fail': {'docs_id': {3: 1}, 'count': 1}, 'policeman': {'docs_id': {3: 1}, 'count': 1}, 'underhand': {'docs_id': {3: 1}, 'count': 1}, 'well': {'docs_id': {3: 1}, 'count': 1}, 'land': {'docs_id': {3: 1}, 'count': 1}, 'ten': {'docs_id': {3: 1}, 'count': 1}, 'went': {'docs_id': {3: 1}, 'count': 1}, 'wrong': {'docs_id': {3: 1}, 'count': 1}, 'bail': {'docs_id': {3: 1}, 'count': 1}, 'restart': {'docs_id': {3: 1}, 'count': 1}, 'legitim': {'docs_id': {3: 1}, 'count': 1}, 'repres': {'docs_id': {3: 1}, 'count': 1}, 'key': {'docs_id': {3: 1}, 'count': 1}, 'kindli': {'docs_id': {3: 1}, 'count': 1}, 'resid': {'docs_id': {3: 1}, 'count': 1}, 'deni': {'docs_id': {3: 1}, 'count': 1}, 'entri': {'docs_id': {3: 1}, 'count': 1}, 'retir': {'docs_id': {3: 1}, 'count': 1}, 'crimin': {'docs_id': {3: 1}, 'count': 1}, 'safecrack': {'docs_id': {3: 1}, 'count': 1}, 'organ': {'docs_id': {3: 1}, 'count': 1}, 'smalltim': {'docs_id': {3: 1}, 'count': 1}, 'charm': {'docs_id': {3: 1}, 'count': 1}, 'goodwil': {'docs_id': {3: 1}, 'count': 1}, 'convert': {'docs_id': {3: 1}, 'count': 1}, 'group': {'docs_id': {3: 1}, 'count': 1}, 'makeshift': {'docs_id': {3: 1}, 'count': 1}, 'amen': {'docs_id': {3: 1}, 'count': 1}, 'project': {'docs_id': {3: 1}, 'count': 1}, 'allimport': {'docs_id': {3: 1}, 'count': 1}, 'compatriot': {'docs_id': {3: 1}, 'count': 1}, 'dress': {'docs_id': {3: 1}, 'count': 1}, 'posit': {'docs_id': {3: 1}, 'count': 1}, 'throughout': {'docs_id': {3: 1}, 'count': 1}, 'manhattan': {'docs_id': {3: 1}, 'count': 1}, 'unawar': {'docs_id': {3: 1}, 'count': 1}, 'huge': {'docs_id': {3: 1}, 'count': 1}, 'net': {'docs_id': {3: 1}, 'count': 1}, '2000': {'docs_id': {3: 1}, 'count': 1}, 'overjoy': {'docs_id': {3: 1}, 'count': 1}, 'dancer': {'docs_id': {3: 1}, 'count': 1}, 'fulltim': {'docs_id': {3: 1}, 'count': 1}, 'coincident': {'docs_id': {3: 1}, 'count': 1}, 'none': {'docs_id': {3: 1}, 'count': 1}, 'cheer': {'docs_id': {3: 1}, 'count': 1}, 'effort': {'docs_id': {3: 1}, 'count': 1}, 'potenti': {'docs_id': {3: 1}, 'count': 1}, 'gold': {'docs_id': {3: 1}, 'count': 1}, 'muscl': {'docs_id': {3: 1}, 'count': 1}, 'reason': {'docs_id': {3: 1}, 'count': 1}, 'wherev': {'docs_id': {3: 1}, 'count': 1}, 'kidnap': {'docs_id': {3: 1}, 'count': 1}, 'inhabit': {'docs_id': {3: 1}, 'count': 1}, 'mansion': {'docs_id': {3: 1}, 'count': 1}, 'nyack': {'docs_id': {3: 1}, 'count': 1}, 'desert': {'docs_id': {3: 1}, 'count': 1}, 'gone': {'docs_id': {3: 1}, 'count': 1}, 'clu': {'docs_id': {3: 1}, 'count': 1}, 'overs': {'docs_id': {3: 1}, 'count': 1}, 'footprint': {'docs_id': {3: 1}, 'count': 1}, 'phone': {'docs_id': {3: 1}, 'count': 1}, 'convers': {'docs_id': {3: 1}, 'count': 1}, 'accomplic': {'docs_id': {3: 1}, 'count': 1}, 'angri': {'docs_id': {3: 1}, 'count': 1}, 'slip': {'docs_id': {3: 1}, 'count': 1}, 'track': {'docs_id': {3: 1}, 'count': 1}, 'disgust': {'docs_id': {3: 1}, 'count': 1}, 'stew': {'docs_id': {3: 1}, 'count': 1}, 'selfpiti': {'docs_id': {3: 1}, 'count': 1}, 'compound': {'docs_id': {3: 1}, 'count': 1}, 'guis': {'docs_id': {3: 1}, 'count': 1}, 'secur': {'docs_id': {3: 1}, 'count': 1}, 'heighten': {'docs_id': {3: 1}, 'count': 1}, 'advantag': {'docs_id': {3: 1}, 'count': 1}, 'offic': {'docs_id': {3: 1}, 'count': 1}, 'brief': {'docs_id': {3: 1}, 'count': 1}, 'struggl': {'docs_id': {3: 1}, 'count': 1}, 'overpow': {'docs_id': {3: 1}, 'count': 1}, 'narrowli': {'docs_id': {3: 1}, 'count': 1}, 'thug': {'docs_id': {3: 1}, 'count': 1}, 'sent': {'docs_id': {3: 1}, 'count': 1}, 'chao': {'docs_id': {3: 1}, 'count': 1}, 'jeopardi': {'docs_id': {3: 1}, 'count': 1}, 'reimburs': {'docs_id': {3: 1}, 'count': 1}, 'would': {'docs_id': {3: 1}, 'count': 1}, 'occupi': {'docs_id': {3: 1}, 'count': 1}, 'mainli': {'docs_id': {3: 1}, 'count': 1}, 'stillloy': {'docs_id': {3: 1}, 'count': 1}, 'initi': {'docs_id': {3: 1}, 'count': 1}, 'raid': {'docs_id': {3: 1}, 'count': 1}, 'eye': {'docs_id': {3: 1}, 'count': 1}, 'assur': {'docs_id': {3: 1}, 'count': 1}, 'necessari': {'docs_id': {3: 1}, 'count': 1}, 'lie': {'docs_id': {3: 1}, 'count': 1}, 'becom': {'docs_id': {3: 1}, 'count': 1}, 'realiti': {'docs_id': {3: 1}, 'count': 1}, 'parol': {'docs_id': {3: 1}, 'count': 1}, 'joyous': {'docs_id': {3: 1}, 'count': 1}, 'reunit': {'docs_id': {3: 1}, 'count': 1}, 'seventhday': {'docs_id': {4: 1}, 'count': 1}, 'adventist': {'docs_id': {4: 1}, 'count': 1}, 'church': {'docs_id': {4: 1}, 'count': 1}, 'pastor': {'docs_id': {4: 1}, 'count': 1}, 'nineweekold': {'docs_id': {4: 1}, 'count': 1}, 'camp': {'docs_id': {4: 1}, 'count': 1}, 'holiday': {'docs_id': {4: 1}, 'count': 1}, 'outback': {'docs_id': {4: 1}, 'count': 1}, 'enjoy': {'docs_id': {4: 1}, 'count': 1}, 'barbecu': {'docs_id': {4: 1}, 'count': 1}, 'fellow': {'docs_id': {4: 1}, 'count': 1}, 'camper': {'docs_id': {4: 1}, 'count': 1}, 'cri': {'docs_id': {4: 1}, 'count': 1}, 'heard': {'docs_id': {4: 1}, 'count': 1}, 'check': {'docs_id': {4: 1}, 'count': 1}, 'certain': {'docs_id': {4: 1}, 'count': 1}, 'dingo': {'docs_id': {4: 1}, 'count': 1}, 'someth': {'docs_id': {4: 1}, 'count': 1}, 'mouth': {'docs_id': {4: 1}, 'count': 1}, 'approach': {'docs_id': {4: 1}, 'count': 1}, 'infant': {'docs_id': {4: 1}, 'count': 1}, 'join': {'docs_id': {4: 1}, 'count': 1}, 'assum': {'docs_id': {4: 1}, 'count': 1}, 'anim': {'docs_id': {4: 1}, 'count': 1}, 'child': {'docs_id': {4: 1}, 'count': 1}, 'subsequ': {'docs_id': {4: 1}, 'count': 1}, 'inquest': {'docs_id': {4: 1}, 'count': 1}, 'account': {'docs_id': {4: 1}, 'count': 1}, 'tide': {'docs_id': {4: 1}, 'count': 1}, 'opinion': {'docs_id': {4: 1}, 'count': 1}, 'seem': {'docs_id': {4: 1}, 'count': 1}, 'stoic': {'docs_id': {4: 1}, 'count': 1}, 'coldheart': {'docs_id': {4: 1}, 'count': 1}, 'disast': {'docs_id': {4: 1}, 'count': 1}, 'befallen': {'docs_id': {4: 1}, 'count': 1}, 'gossip': {'docs_id': {4: 1}, 'count': 1}, 'swell': {'docs_id': {4: 1}, 'count': 1}, 'statement': {'docs_id': {4: 1}, 'count': 1}, 'wide': {'docs_id': {4: 1}, 'count': 1}, 'practis': {'docs_id': {4: 1}, 'count': 1}, 'media': {'docs_id': {4: 1}, 'count': 1}, 'rumour': {'docs_id': {4: 1}, 'count': 1}, 'mean': {'docs_id': {4: 1}, 'count': 1}, 'sacrific': {'docs_id': {4: 1}, 'count': 1}, 'wilder': {'docs_id': {4: 1}, 'count': 1}, 'quick': {'docs_id': {4: 1}, 'count': 1}, 'decapit': {'docs_id': {4: 1}, 'count': 1}, 'scissor': {'docs_id': {4: 1}, 'count': 1}, 'religi': {'docs_id': {4: 1}, 'count': 1}, 'rite': {'docs_id': {4: 1}, 'count': 1}, 'lawenforc': {'docs_id': {4: 1}, 'count': 1}, 'offici': {'docs_id': {4: 1}, 'count': 1}, 'wit': {'docs_id': {4: 1}, 'count': 1}, 'forens': {'docs_id': {4: 1}, 'count': 1}, 'expert': {'docs_id': {4: 1}, 'count': 1}, 'circumstanti': {'docs_id': {4: 1}, 'count': 1}, 'evidenceinclud': {'docs_id': {4: 1}, 'count': 1}, 'wooden': {'docs_id': {4: 1}, 'count': 1}, 'coffin': {'docs_id': {4: 1}, 'count': 1}, 'receptacl': {'docs_id': {4: 1}, 'count': 1}, 'parishion': {'docs_id': {4: 1}, 'count': 1}, 'unsmok': {'docs_id': {4: 1}, 'count': 1}, 'cigarettesand': {'docs_id': {4: 1}, 'count': 1}, 'eventu': {'docs_id': {4: 1}, 'count': 1}, 'charg': {'docs_id': {4: 1}, 'count': 1}, 'seven': {'docs_id': {4: 1}, 'count': 1}, 'pregnant': {'docs_id': {4: 1}, 'count': 1}, 'attorney': {'docs_id': {4: 1}, 'count': 1}, 'juri': {'docs_id': {4: 1}, 'count': 1}, 'sympathi': {'docs_id': {4: 1}, 'count': 1}, 'emotionless': {'docs_id': {4: 1}, 'count': 1}, 'onlook': {'docs_id': {4: 1}, 'count': 1}, 'trial': {'docs_id': {4: 1}, 'count': 1}, 'progress': {'docs_id': {4: 1}, 'count': 1}, 'religion': {'docs_id': {4: 1}, 'count': 1}, 'disintegr': {'docs_id': {4: 1}, 'count': 1}, 'stumbl': {'docs_id': {4: 1}, 'count': 1}, 'testimoni': {'docs_id': {4: 1}, 'count': 1}, 'conceal': {'docs_id': {4: 1}, 'count': 1}, 'octob': {'docs_id': {4: 1}, 'count': 1}, '1982': {'docs_id': {4: 1}, 'count': 1}, 'imprison': {'docs_id': {4: 1}, 'count': 1}, 'labour': {'docs_id': {4: 1}, 'count': 1}, 'accessori': {'docs_id': {4: 1}, 'count': 1}, '18month': {'docs_id': {4: 1}, 'count': 1}, 'suspend': {'docs_id': {4: 1}, 'count': 1}, 'three': {'docs_id': {4: 1}, 'count': 1}, 'english': {'docs_id': {4: 1}, 'count': 1}, 'tourist': {'docs_id': {4: 1}, 'count': 1}, 'uluru': {'docs_id': {4: 1}, 'count': 1}, 'item': {'docs_id': {4: 1}, 'count': 1}, 'identifi': {'docs_id': {4: 1}, 'count': 1}, 'jacket': {'docs_id': {4: 1}, 'count': 1}, 'wear': {'docs_id': {4: 1}, 'count': 1}, 'jumpsuit': {'docs_id': {4: 1}, 'count': 1}, 'earli': {'docs_id': {4: 1}, 'count': 1}, 'immedi': {'docs_id': {4: 1}, 'count': 1}, 'overturn': {'docs_id': {4: 1}, 'count': 1}, 'travel': {'docs_id': {5: 1}, 'count': 1}, 'shot': {'docs_id': {5: 1}, 'count': 1}, 'bodyguard': {'docs_id': {5: 1}, 'count': 1}, 'graze': {'docs_id': {5: 1}, 'count': 1}, 'bullet': {'docs_id': {5: 1}, 'count': 1}, 'shooter': {'docs_id': {5: 1}, 'count': 1}, 'hospit': {'docs_id': {5: 1}, 'count': 1}, 'journalist': {'docs_id': {5: 1}, 'count': 1}, 'anyon': {'docs_id': {5: 1}, 'count': 1}, 'boat': {'docs_id': {5: 1}, 'count': 1}, 'men': {'docs_id': {5: 1}, 'count': 1}, 'bush': {'docs_id': {5: 1}, 'count': 1}, 'dive': {'docs_id': {5: 1}, 'count': 1}, 'third': {'docs_id': {5: 1}, 'count': 1}, 'hitman': {'docs_id': {5: 1}, 'count': 1}, 'drive': {'docs_id': {5: 1}, 'count': 1}, 'caught': {'docs_id': {5: 1}, 'count': 1}, 'suspici': {'docs_id': {5: 1}, 'count': 1}, 'vaughan': {'docs_id': {5: 1}, 'count': 1}, 'entranc': {'docs_id': {5: 1}, 'count': 1}, 'pull': {'docs_id': {5: 1}, 'count': 1}, 'unfaith': {'docs_id': {5: 1}, 'count': 1}, 'dinner': {'docs_id': {5: 1}, 'count': 1}, 'still': {'docs_id': {5: 1}, 'count': 1}, 'doesnt': {'docs_id': {5: 1}, 'count': 1}, '1974': {'docs_id': {6: 1}, 'count': 1}, 'rain': {'docs_id': {6: 1}, 'count': 1}, 'wait': {'docs_id': {6: 1}, 'count': 1}, 'flash': {'docs_id': {6: 1}, 'count': 1}, 'forward': {'docs_id': {6: 1}, 'count': 1}, '2005': {'docs_id': {6: 1}, 'count': 1}, 'grownup': {'docs_id': {6: 1}, 'count': 1}, 'midst': {'docs_id': {6: 1}, 'count': 1}, 'bitter': {'docs_id': {6: 1}, 'count': 1}, 'mediat': {'docs_id': {6: 1}, 'count': 1}, 'exhusband': {'docs_id': {6: 1}, 'count': 1}, 'sue': {'docs_id': {6: 1}, 'count': 1}, 'full': {'docs_id': {6: 1}, 'count': 1}, 'feel': {'docs_id': {6: 1}, 'count': 1}, 'distanc': {'docs_id': {6: 1}, 'count': 1}, 'mental': {'docs_id': {6: 1}, 'count': 1}, 'unstabl': {'docs_id': {6: 1}, 'count': 1}, 'block': {'docs_id': {6: 1}, 'count': 1}, 'superintend': {'docs_id': {6: 1}, 'count': 1}, 'dilapid': {'docs_id': {6: 1}, 'count': 1}, 'build': {'docs_id': {6: 1}, 'count': 1}, 'tour': {'docs_id': {6: 1}, 'count': 1}, 'near': {'docs_id': {6: 1}, 'count': 1}, 'larg': {'docs_id': {6: 1}, 'count': 1}, 'bag': {'docs_id': {6: 1}, 'count': 1}, 'dislik': {'docs_id': {6: 1}, 'count': 1}, 'desper': {'docs_id': {6: 1}, 'count': 1}, 'shortli': {'docs_id': {6: 1}, 'count': 1}, 'bedroom': {'docs_id': {6: 1}, 'count': 1}, 'ago': {'docs_id': {6: 1}, 'count': 1}, 'flow': {'docs_id': {6: 1}, 'count': 1}, 'faucet': {'docs_id': {6: 1}, 'count': 1}, 'wall': {'docs_id': {6: 1}, 'count': 1}, 'tenantsa': {'docs_id': {6: 1}, 'count': 1}, 'complain': {'docs_id': {6: 1}, 'count': 1}, 'latter': {'docs_id': {6: 1}, 'count': 1}, 'accord': {'docs_id': {6: 1}, 'count': 1}, 'isnt': {'docs_id': {6: 1}, 'count': 1}, 'fit': {'docs_id': {6: 1}, 'count': 1}, 'spend': {'docs_id': {6: 1}, 'count': 1}, 'much': {'docs_id': {6: 1}, 'count': 1}, 'imaginari': {'docs_id': {6: 1}, 'count': 1}, 'psychologist': {'docs_id': {6: 1}, 'count': 1}, 'recommend': {'docs_id': {6: 1}, 'count': 1}, 'declin': {'docs_id': {6: 1}, 'count': 1}, 'although': {'docs_id': {6: 1}, 'count': 1}, 'laundri': {'docs_id': {6: 1}, 'count': 1}, 'garbag': {'docs_id': {6: 1}, 'count': 1}, 'shoddili': {'docs_id': {6: 1}, 'count': 1}, 'patch': {'docs_id': {6: 1}, 'count': 1}, 'control': {'docs_id': {6: 1}, 'count': 1}, 'paint': {'docs_id': {6: 1}, 'count': 1}, 'she': {'docs_id': {6: 1}, 'count': 1}, 'gush': {'docs_id': {6: 1}, 'count': 1}, 'sink': {'docs_id': {6: 1}, 'count': 1}, 'reach': {'docs_id': {6: 1}, 'count': 1}, 'break': {'docs_id': {6: 1}, 'count': 1}, 'strang': {'docs_id': {6: 1}, 'count': 1}, 'lead': {'docs_id': {6: 1}, 'count': 1}, 'ladder': {'docs_id': {6: 1}, 'count': 1}, 'alon': {'docs_id': {6: 1}, 'count': 1}, 'awar': {'docs_id': {6: 1}, 'count': 1}, 'fix': {'docs_id': {6: 1}, 'count': 1}, 'problem': {'docs_id': {6: 1}, 'count': 1}, 'plagu': {'docs_id': {6: 1}, 'count': 1}, 'easier': {'docs_id': {6: 1}, 'count': 1}, 'bath': {'docs_id': {6: 1}, 'count': 1}, 'hood': {'docs_id': {6: 1}, 'count': 1}, 'bathrob': {'docs_id': {6: 1}, 'count': 1}, 'rush': {'docs_id': {6: 1}, 'count': 1}, 'shower': {'docs_id': {6: 1}, 'count': 1}, 'compart': {'docs_id': {6: 1}, 'count': 1}, 'underwat': {'docs_id': {6: 1}, 'count': 1}, 'plead': {'docs_id': {6: 1}, 'count': 1}, 'let': {'docs_id': {6: 1}, 'count': 1}, 'drown': {'docs_id': {6: 1}, 'count': 1}, 'spirit': {'docs_id': {6: 1}, 'count': 1}, 'hallway': {'docs_id': {6: 1}, 'count': 1}, 'station': {'docs_id': {6: 1}, 'count': 1}, 'stuff': {'docs_id': {6: 1}, 'count': 1}, 'pictur': {'docs_id': {6: 1}, 'count': 1}, 'hertel': {'docs_id': {6: 1}, 'count': 1}, 'momentarili': {'docs_id': {6: 1}, 'count': 1}, 'horrifi': {'docs_id': {6: 1}, 'count': 1}, 'malfunct': {'docs_id': {6: 1}, 'count': 1}, 'weird': {'docs_id': {6: 1}, 'count': 1}, 'behavior': {'docs_id': {6: 1}, 'count': 1}, 'perhap': {'docs_id': {6: 1}, 'count': 1}, 'stori': {'docs_id': {7: 1}, 'count': 1}, 'jewish': {'docs_id': {7: 1}, 'count': 1}, 'teen': {'docs_id': {7: 1}, 'count': 1}, 'high': {'docs_id': {7: 1}, 'count': 1}, 'brooklyn': {'docs_id': {7: 1}, 'count': 1}, 'aliv': {'docs_id': {7: 1}, 'count': 1}, 'newli': {'docs_id': {7: 1}, 'count': 1}, 'grew': {'docs_id': {7: 1}, 'count': 1}, 'cold': {'docs_id': {7: 1}, 'count': 1}, 'hail': {'docs_id': {7: 1}, 'count': 1}, 'mug': {'docs_id': {7: 1}, 'count': 1}, 'self': {'docs_id': {7: 1}, 'count': 1}, 'defens': {'docs_id': {7: 1}, 'count': 1}, 'bite': {'docs_id': {7: 1}, 'count': 1}, 'grip': {'docs_id': {7: 1}, 'count': 1}, 'scream': {'docs_id': {7: 1}, 'count': 1}, 'pain': {'docs_id': {7: 1}, 'count': 1}, 'terror': {'docs_id': {7: 1}, 'count': 1}, 'exit': {'docs_id': {7: 1}, 'count': 1}, 'joke': {'docs_id': {7: 1}, 'count': 1}, 'meter': {'docs_id': {7: 1}, 'count': 1}, 'yet': {'docs_id': {7: 1}, 'count': 1}, 'difficulti': {'docs_id': {7: 1}, 'count': 1}, 'uninterest': {'docs_id': {7: 1}, 'count': 1}, 'misbehav': {'docs_id': {7: 1}, 'count': 1}, 'scold': {'docs_id': {7: 1}, 'count': 1}, 'bring': {'docs_id': {7: 1}, 'count': 1}, 'stolen': {'docs_id': {7: 1}, 'count': 1}, 'watch': {'docs_id': {7: 1}, 'count': 1}, 'ground': {'docs_id': {7: 1}, 'count': 1}, 'feet': {'docs_id': {7: 1}, 'count': 1}, 'desk': {'docs_id': {7: 1}, 'count': 1}, 'mugger': {'docs_id': {7: 1}, 'count': 1}, 'bandag': {'docs_id': {7: 1}, 'count': 1}, 'blackmail': {'docs_id': {7: 1}, 'count': 1}, 'class': {'docs_id': {7: 1}, 'count': 1}, 'right': {'docs_id': {7: 1}, 'count': 1}, 'clash': {'docs_id': {7: 1}, 'count': 1}, 'strategi': {'docs_id': {7: 1}, 'count': 1}, 'introduc': {'docs_id': {7: 1}, 'count': 1}, 'flavor': {'docs_id': {7: 1}, 'count': 1}, 'youth': {'docs_id': {7: 1}, 'count': 1}, 'page': {'docs_id': {7: 1}, 'count': 1}, 'hesit': {'docs_id': {7: 1}, 'count': 1}, 'term': {'docs_id': {7: 1}, 'count': 1}, 'date': {'docs_id': {7: 1}, 'count': 1}, 'ex': {'docs_id': {7: 1}, 'count': 1}, 'boyfriend': {'docs_id': {7: 1}, 'count': 1}, 'mickey': {'docs_id': {7: 1}, 'count': 1}, 'jealou': {'docs_id': {7: 1}, 'count': 1}, 'light': {'docs_id': {7: 1}, 'count': 1}, 'romant': {'docs_id': {7: 1}, 'count': 1}, 'kiss': {'docs_id': {7: 1}, 'count': 1}, 'unit': {'docs_id': {7: 1}, 'count': 1}, 'dept': {'docs_id': {7: 1}, 'count': 1}, 'educ': {'docs_id': {7: 1}, 'count': 1}, 'semest': {'docs_id': {7: 1}, 'count': 1}, 'therefor': {'docs_id': {7: 1}, 'count': 1}, 'enough': {'docs_id': {7: 1}, 'count': 1}, 'resourc': {'docs_id': {7: 1}, 'count': 1}, 'fuel': {'docs_id': {7: 1}, 'count': 1}, 'harder': {'docs_id': {7: 1}, 'count': 1}, 'financ': {'docs_id': {7: 1}, 'count': 1}, 'author': {'docs_id': {7: 1}, 'count': 1}, 'ban': {'docs_id': {7: 1}, 'count': 1}, 'iron': {'docs_id': {7: 1}, 'count': 1}, 'robberi': {'docs_id': {7: 1}, 'count': 1}, 'incom': {'docs_id': {7: 1}, 'count': 1}, 'upcom': {'docs_id': {7: 1}, 'count': 1}, 'closur': {'docs_id': {7: 1}, 'count': 1}, 'devast': {'docs_id': {7: 1}, 'count': 1}, 'steal': {'docs_id': {7: 1}, 'count': 1}, 'restor': {'docs_id': {7: 1}, 'count': 1}, 'recent': {'docs_id': {7: 1}, 'count': 1}, 'discourag': {'docs_id': {7: 1}, 'count': 1}, 'fulfil': {'docs_id': {7: 1}, 'count': 1}, 'duti': {'docs_id': {7: 1}, 'count': 1}, 'skip': {'docs_id': {7: 1}, 'count': 1}, 'rehears': {'docs_id': {7: 1}, 'count': 1}, 'moment': {'docs_id': {7: 1}, 'count': 1}, 'unconsci': {'docs_id': {7: 1}, 'count': 1}, 'step': {'docs_id': {7: 1}, 'count': 1}, 'shed': {'docs_id': {7: 1}, 'count': 1}, 'badboy': {'docs_id': {7: 1}, 'count': 1}, 'demeanor': {'docs_id': {7: 1}, 'count': 1}, 'exce': {'docs_id': {7: 1}, 'count': 1}, 'expect': {'docs_id': {7: 1}, 'count': 1}, 'underclassmen': {'docs_id': {7: 1}, 'count': 1}, 'recordhigh': {'docs_id': {7: 1}, 'count': 1}, 'sold': {'docs_id': {7: 1}, 'count': 1}, 'motiv': {'docs_id': {7: 1}, 'count': 1}, 'rejoic': {'docs_id': {7: 1}, 'count': 1}, 'compromis': {'docs_id': {7: 1}, 'count': 1}, 'prove': {'docs_id': {7: 1}, 'count': 1}, 'worth': {'docs_id': {7: 1}, 'count': 1}, 'infuri': {'docs_id': {8: 1}, 'count': 1}, 'told': {'docs_id': {8: 1}, 'count': 1}, 'column': {'docs_id': {8: 1}, 'count': 1}, 'laid': {'docs_id': {8: 1}, 'count': 1}, 'ann': {'docs_id': {8: 1}, 'count': 1}, 'print': {'docs_id': {8: 1}, 'count': 1}, 'unemploy': {'docs_id': {8: 1}, 'count': 1}, 'ill': {'docs_id': {8: 1}, 'count': 1}, 'note': {'docs_id': {8: 1}, 'count': 1}, 'competit': {'docs_id': {8: 1}, 'count': 1}, 'suspect': {'docs_id': {8: 1}, 'count': 1}, 'fraud': {'docs_id': {8: 1}, 'count': 1}, 'rehir': {'docs_id': {8: 1}, 'count': 1}, 'exploit': {'docs_id': {8: 1}, 'count': 1}, 'boost': {'docs_id': {8: 1}, 'count': 1}, 'sale': {'docs_id': {8: 1}, 'count': 1}, 'bonu': {'docs_id': {8: 1}, 'count': 1}, '8': {'docs_id': {8: 1}, 'count': 1}, 'number': {'docs_id': {8: 1}, 'count': 1}, 'derelict': {'docs_id': {8: 1}, 'count': 1}, 'basebal': {'docs_id': {8: 1}, 'count': 1}, 'player': {'docs_id': {8: 1}, 'count': 1}, 'repair': {'docs_id': {8: 1}, 'count': 1}, 'arm': {'docs_id': {8: 1}, 'count': 1}, 'articl': {'docs_id': {8: 1}, 'count': 1}, 'elabor': {'docs_id': {8: 1}, 'count': 1}, 'idea': {'docs_id': {8: 1}, 'count': 1}, 'disregard': {'docs_id': {8: 1}, 'count': 1}, '50': {'docs_id': {8: 1}, 'count': 1}, 'plush': {'docs_id': {8: 1}, 'count': 1}, 'hotel': {'docs_id': {8: 1}, 'count': 1}, 'launch': {'docs_id': {8: 1}, 'count': 1}, 'extend': {'docs_id': {8: 1}, 'count': 1}, 'diatrib': {'docs_id': {8: 1}, 'count': 1}, 'heelot': {'docs_id': {8: 1}, 'count': 1}, 'heel': {'docs_id': {8: 1}, 'count': 1}, 'incessantli': {'docs_id': {8: 1}, 'count': 1}, 'focu': {'docs_id': {8: 1}, 'count': 1}, 'guid': {'docs_id': {8: 1}, 'count': 1}, '100': {'docs_id': {8: 1}, 'count': 1}, 'paid': {'docs_id': {8: 1}, 'count': 1}, 'publish': {'docs_id': {8: 1}, 'count': 1}, 'db': {'docs_id': {8: 1}, 'count': 1}, 'edward': {'docs_id': {8: 1}, 'count': 1}, 'arnold': {'docs_id': {8: 1}, 'count': 1}, '5000': {'docs_id': {8: 1}, 'count': 1}, 'bribe': {'docs_id': {8: 1}, 'count': 1}, 'admit': {'docs_id': {8: 1}, 'count': 1}, 'stunt': {'docs_id': {8: 1}, 'count': 1}, 'dash': {'docs_id': {8: 1}, 'count': 1}, 'countrysid': {'docs_id': {8: 1}, 'count': 1}, 'colonel': {'docs_id': {8: 1}, 'count': 1}, 'ride': {'docs_id': {8: 1}, 'count': 1}, 'rail': {'docs_id': {8: 1}, 'count': 1}, 'harmonica': {'docs_id': {8: 1}, 'count': 1}, 'ocarina': {'docs_id': {8: 1}, 'count': 1}, 'millsvil': {'docs_id': {8: 1}, 'count': 1}, 'brought': {'docs_id': {8: 1}, 'count': 1}, 'met': {'docs_id': {8: 1}, 'count': 1}, 'hanson': {'docs_id': {8: 1}, 'count': 1}, 'fiveminut': {'docs_id': {8: 1}, 'count': 1}, 'monologu': {'docs_id': {8: 1}, 'count': 1}, 'spread': {'docs_id': {8: 1}, 'count': 1}, 'broad': {'docs_id': {8: 1}, 'count': 1}, 'grassroot': {'docs_id': {8: 1}, 'count': 1}, 'movement': {'docs_id': {8: 1}, 'count': 1}, 'whose': {'docs_id': {8: 1}, 'count': 1}, 'simpl': {'docs_id': {8: 1}, 'count': 1}, 'slogan': {'docs_id': {8: 1}, 'count': 1}, 'better': {'docs_id': {8: 1}, 'count': 1}, 'neighbor': {'docs_id': {8: 1}, 'count': 1}, 'far': {'docs_id': {8: 1}, 'count': 1}, 'altruist': {'docs_id': {8: 1}, 'count': 1}, 'philanthropist': {'docs_id': {8: 1}, 'count': 1}, 'channel': {'docs_id': {8: 1}, 'count': 1}, 'ambit': {'docs_id': {8: 1}, 'count': 1}, 'culmin': {'docs_id': {8: 1}, 'count': 1}, 'instruct': {'docs_id': {8: 1}, 'count': 1}, 'foundat': {'docs_id': {8: 1}, 'count': 1}, 'endors': {'docs_id': {8: 1}, 'count': 1}, 'presidenti': {'docs_id': {8: 1}, 'count': 1}, 'candid': {'docs_id': {8: 1}, 'count': 1}, 'stymi': {'docs_id': {8: 1}, 'count': 1}, 'mind': {'docs_id': {8: 1}, 'count': 1}, 'nationwid': {'docs_id': {8: 1}, 'count': 1}, 'ralli': {'docs_id': {8: 1}, 'count': 1}, 'prepar': {'docs_id': {8: 1}, 'count': 1}, 'deceiv': {'docs_id': {8: 1}, 'count': 1}, 'els': {'docs_id': {8: 1}, 'count': 1}, 'staff': {'docs_id': {8: 1}, 'count': 1}, 'frustrat': {'docs_id': {8: 1}, 'count': 1}, 'indic': {'docs_id': {8: 1}, 'count': 1}, 'intervent': {'docs_id': {8: 1}, 'count': 1}, 'persuad': {'docs_id': {8: 1}, 'count': 1}, 'reneg': {'docs_id': {8: 1}, 'count': 1}, 'threat': {'docs_id': {8: 1}, 'count': 1}, 'point': {'docs_id': {8: 1}, 'count': 1}, 'movi': {'docs_id': {8: 1}, 'count': 1}, 'refer': {'docs_id': {8: 1}, 'count': 1}, 'jesu': {'docs_id': {8: 1}, 'count': 1}, 'christ': {'docs_id': {8: 1}, 'count': 1}, 'histor': {'docs_id': {8: 1}, 'count': 1}, 'sake': {'docs_id': {8: 1}, 'count': 1}, 'human': {'docs_id': {8: 1}, 'count': 1}, 'lick': {'docs_id': {8: 1}, 'count': 1}, 'line': {'docs_id': {9: 1}, 'count': 1}, 'drool': {'docs_id': {9: 1}, 'count': 1}, 'window': {'docs_id': {9: 1}, 'count': 1}, 'shop': {'docs_id': {9: 1}, 'count': 1}, 'market': {'docs_id': {9: 1}, 'count': 1}, 'butcher': {'docs_id': {9: 1}, 'count': 1}, 'buzzard': {'docs_id': {9: 1}, 'count': 1}, 'gag': {'docs_id': {9: 1}, 'count': 1}, 'dishonestli': {'docs_id': {9: 1}, 'count': 1}, 'price': {'docs_id': {9: 1}, 'count': 1}, 'broke': {'docs_id': {9: 1}, 'count': 1}, 'usual': {'docs_id': {9: 1}, 'count': 1}, 'thrown': {'docs_id': {9: 1}, 'count': 1}, 'collid': {'docs_id': {9: 1}, 'count': 1}, 'bottl': {'docs_id': {9: 1}, 'count': 1}, 'partial': {'docs_id': {9: 1}, 'count': 1}, 'somewhat': {'docs_id': {9: 1}, 'count': 1}, 'gruesom': {'docs_id': {9: 1}, 'count': 1}, 'dismemb': {'docs_id': {9: 1}, 'count': 1}, 'sweep': {'docs_id': {9: 1}, 'count': 1}, 'rid': {'docs_id': {9: 1}, 'count': 1}, 'awak': {'docs_id': {9: 1}, 'count': 1}, 'dous': {'docs_id': {9: 1}, 'count': 1}, 'pose': {'docs_id': {9: 1}, 'count': 1}}, 'total': 2712}\n"
          ]
        }
      ]
    },
    {
      "cell_type": "code",
      "execution_count": 40,
      "metadata": {
        "id": "0hKHLMoj17QW",
        "colab": {
          "base_uri": "https://localhost:8080/"
        },
        "outputId": "12c6c1a3-c214-4d85-df97-180a3acf02e0"
      },
      "outputs": [
        {
          "output_type": "stream",
          "name": "stdout",
          "text": [
            "{'words': {'shlykov': {'docs_id': {0: 1}, 'count': 1}, 'hardwork': {'docs_id': {0: 1}, 'count': 1}, 'taxi': {'docs_id': {0: 1}, 'count': 1}, 'driver': {'docs_id': {0: 1, 7: 1}, 'count': 2}, 'lyosha': {'docs_id': {0: 1}, 'count': 1}, 'saxophonist': {'docs_id': {0: 1}, 'count': 1}, 'develop': {'docs_id': {0: 1, 8: 1}, 'count': 2}, 'bizarr': {'docs_id': {0: 1, 4: 1}, 'count': 2}, 'loveh': {'docs_id': {0: 1}, 'count': 1}, 'relationship': {'docs_id': {0: 1}, 'count': 1}, 'despit': {'docs_id': {0: 1, 6: 1, 7: 1}, 'count': 4}, 'prejudic': {'docs_id': {0: 1}, 'count': 1}, 'realiz': {'docs_id': {0: 1, 6: 1, 8: 1, 9: 1}, 'count': 4}, 'arent': {'docs_id': {0: 1}, 'count': 1}, 'differ': {'docs_id': {0: 1, 7: 1}, 'count': 2}, 'nation': {'docs_id': {1: 1, 8: 1}, 'count': 2}, 'panem': {'docs_id': {1: 1}, 'count': 1}, 'consist': {'docs_id': {1: 1}, 'count': 1}, 'wealthi': {'docs_id': {1: 1}, 'count': 1}, 'capitol': {'docs_id': {1: 1}, 'count': 2}, 'twelv': {'docs_id': {1: 1}, 'count': 1}, 'poorer': {'docs_id': {1: 1}, 'count': 1}, 'district': {'docs_id': {1: 1}, 'count': 10}, 'punish': {'docs_id': {1: 1}, 'count': 1}, 'past': {'docs_id': {1: 1, 3: 1}, 'count': 4}, 'rebellion': {'docs_id': {1: 1}, 'count': 1}, 'must': {'docs_id': {1: 1}, 'count': 2}, 'provid': {'docs_id': {1: 1, 3: 1}, 'count': 4}, 'boy': {'docs_id': {1: 1}, 'count': 2}, 'girl': {'docs_id': {1: 1, 2: 1, 6: 1}, 'count': 13}, 'age': {'docs_id': {1: 1, 6: 1}, 'count': 2}, '12': {'docs_id': {1: 1}, 'count': 4}, '18': {'docs_id': {1: 1}, 'count': 1}, 'select': {'docs_id': {1: 1}, 'count': 1}, 'lotteri': {'docs_id': {1: 1}, 'count': 1}, 'annual': {'docs_id': {1: 1}, 'count': 1}, 'hunger': {'docs_id': {1: 1}, 'count': 2}, 'game': {'docs_id': {1: 1}, 'count': 4}, 'tribut': {'docs_id': {1: 1}, 'count': 7}, 'fight': {'docs_id': {1: 1, 6: 1}, 'count': 2}, 'death': {'docs_id': {1: 1, 2: 1}, 'count': 3}, 'arena': {'docs_id': {1: 1}, 'count': 2}, 'sole': {'docs_id': {1: 1, 7: 1}, 'count': 2}, 'survivor': {'docs_id': {1: 1}, 'count': 2}, 'reward': {'docs_id': {1: 1}, 'count': 1}, 'fame': {'docs_id': {1: 1}, 'count': 1}, 'wealth': {'docs_id': {1: 1}, 'count': 1}, 'first': {'docs_id': {1: 1, 2: 1, 3: 1, 5: 1, 7: 1, 8: 1}, 'count': 9}, 'reap': {'docs_id': {1: 1}, 'count': 1}, '12yearold': {'docs_id': {1: 1}, 'count': 1}, 'primros': {'docs_id': {1: 1}, 'count': 1}, 'everdeen': {'docs_id': {1: 1}, 'count': 1}, 'chosen': {'docs_id': {1: 1}, 'count': 1}, 'older': {'docs_id': {1: 1}, 'count': 1}, 'sister': {'docs_id': {1: 1, 2: 1}, 'count': 2}, 'katniss': {'docs_id': {1: 1}, 'count': 24}, 'volunt': {'docs_id': {1: 1}, 'count': 1}, 'take': {'docs_id': {1: 1, 2: 1, 6: 1}, 'count': 5}, 'place': {'docs_id': {1: 1}, 'count': 1}, 'peeta': {'docs_id': {1: 1}, 'count': 16}, 'mellark': {'docs_id': {1: 1}, 'count': 1}, 'baker': {'docs_id': {1: 1}, 'count': 1}, 'son': {'docs_id': {1: 1, 2: 1, 4: 1}, 'count': 5}, 'gave': {'docs_id': {1: 1}, 'count': 1}, 'bread': {'docs_id': {1: 1}, 'count': 1}, 'starv': {'docs_id': {1: 1}, 'count': 1}, 'taken': {'docs_id': {1: 1, 6: 1}, 'count': 2}, 'accompani': {'docs_id': {1: 1, 7: 1}, 'count': 4}, 'frequent': {'docs_id': {1: 1}, 'count': 1}, 'drunk': {'docs_id': {1: 1}, 'count': 1}, 'mentor': {'docs_id': {1: 1}, 'count': 1}, 'victor': {'docs_id': {1: 1}, 'count': 2}, 'haymitch': {'docs_id': {1: 1}, 'count': 4}, 'abernathi': {'docs_id': {1: 1}, 'count': 1}, 'warn': {'docs_id': {1: 1, 3: 1}, 'count': 4}, 'career': {'docs_id': {1: 1}, 'count': 2}, 'train': {'docs_id': {1: 1}, 'count': 1}, 'intens': {'docs_id': {1: 1}, 'count': 1}, 'special': {'docs_id': {1: 1}, 'count': 1}, 'academi': {'docs_id': {1: 1}, 'count': 1}, 'almost': {'docs_id': {1: 1}, 'count': 1}, 'alway': {'docs_id': {1: 1, 6: 1, 7: 1}, 'count': 3}, 'win': {'docs_id': {1: 1}, 'count': 2}, 'tv': {'docs_id': {1: 1}, 'count': 1}, 'interview': {'docs_id': {1: 1}, 'count': 1}, 'caesar': {'docs_id': {1: 1}, 'count': 1}, 'flickerman': {'docs_id': {1: 1}, 'count': 1}, 'unexpectedli': {'docs_id': {1: 1}, 'count': 1}, 'reveal': {'docs_id': {1: 1, 3: 1}, 'count': 3}, 'love': {'docs_id': {1: 1, 2: 1}, 'count': 3}, 'outrag': {'docs_id': {1: 1}, 'count': 1}, 'believ': {'docs_id': {1: 1, 2: 1, 4: 1, 8: 1}, 'count': 4}, 'ploy': {'docs_id': {1: 1}, 'count': 1}, 'gain': {'docs_id': {1: 1}, 'count': 2}, 'audienc': {'docs_id': {1: 1, 7: 1, 8: 1}, 'count': 3}, 'support': {'docs_id': {1: 1, 8: 1}, 'count': 3}, 'sponsor': {'docs_id': {1: 1}, 'count': 2}, 'may': {'docs_id': {1: 1}, 'count': 1}, 'ingam': {'docs_id': {1: 1}, 'count': 1}, 'gift': {'docs_id': {1: 1}, 'count': 2}, 'food': {'docs_id': {1: 1}, 'count': 1}, 'medicin': {'docs_id': {1: 1}, 'count': 3}, 'tool': {'docs_id': {1: 1}, 'count': 1}, 'howev': {'docs_id': {1: 1, 3: 1, 7: 1, 8: 1}, 'count': 8}, 'discov': {'docs_id': {1: 1, 4: 1, 5: 1, 6: 1}, 'count': 7}, 'meant': {'docs_id': {1: 1}, 'count': 1}, 'said': {'docs_id': {1: 1, 6: 1}, 'count': 2}, 'televis': {'docs_id': {1: 1}, 'count': 2}, 'begin': {'docs_id': {1: 1, 3: 1, 4: 1, 6: 1, 7: 1}, 'count': 6}, 'half': {'docs_id': {1: 1}, 'count': 2}, 'kill': {'docs_id': {1: 1, 2: 1, 5: 1, 8: 1}, 'count': 14}, 'minut': {'docs_id': {1: 1}, 'count': 1}, 'bare': {'docs_id': {1: 1, 2: 1}, 'count': 2}, 'surviv': {'docs_id': {1: 1}, 'count': 1}, 'ignor': {'docs_id': {1: 1, 4: 1, 6: 1}, 'count': 3}, 'advic': {'docs_id': {1: 1, 4: 1}, 'count': 2}, 'run': {'docs_id': {1: 1, 4: 1, 7: 1}, 'count': 5}, 'away': {'docs_id': {1: 1, 2: 1, 3: 1, 5: 1, 6: 1}, 'count': 6}, 'mele': {'docs_id': {1: 1}, 'count': 1}, 'tempt': {'docs_id': {1: 1}, 'count': 1}, 'suppli': {'docs_id': {1: 1}, 'count': 2}, 'weapon': {'docs_id': {1: 1}, 'count': 1}, 'strewn': {'docs_id': {1: 1}, 'count': 1}, 'front': {'docs_id': {1: 1}, 'count': 1}, 'structur': {'docs_id': {1: 1}, 'count': 1}, 'call': {'docs_id': {1: 1, 5: 1}, 'count': 4}, 'cornucopia': {'docs_id': {1: 1}, 'count': 2}, 'form': {'docs_id': {1: 1}, 'count': 1}, 'uneasi': {'docs_id': {1: 1}, 'count': 1}, 'allianc': {'docs_id': {1: 1}, 'count': 2}, 'four': {'docs_id': {1: 1}, 'count': 1}, 'later': {'docs_id': {1: 1, 3: 1, 4: 1, 5: 1, 6: 1}, 'count': 7}, 'find': {'docs_id': {1: 1, 3: 1, 4: 1, 5: 1, 6: 1}, 'count': 14}, 'corner': {'docs_id': {1: 1}, 'count': 1}, 'tree': {'docs_id': {1: 1}, 'count': 2}, 'rue': {'docs_id': {1: 1}, 'count': 11}, 'hide': {'docs_id': {1: 1, 5: 1, 8: 1}, 'count': 3}, 'nearbi': {'docs_id': {1: 1}, 'count': 1}, 'draw': {'docs_id': {1: 1}, 'count': 2}, 'attent': {'docs_id': {1: 1, 3: 1}, 'count': 2}, 'poison': {'docs_id': {1: 1}, 'count': 2}, 'tracker': {'docs_id': {1: 1}, 'count': 2}, 'jacker': {'docs_id': {1: 1}, 'count': 2}, 'nest': {'docs_id': {1: 1}, 'count': 1}, 'hang': {'docs_id': {1: 1}, 'count': 1}, 'branch': {'docs_id': {1: 1}, 'count': 1}, 'drop': {'docs_id': {1: 1, 3: 1}, 'count': 2}, 'sleep': {'docs_id': {1: 1, 4: 1}, 'count': 2}, 'besieg': {'docs_id': {1: 1}, 'count': 1}, 'scatter': {'docs_id': {1: 1}, 'count': 1}, 'except': {'docs_id': {1: 1}, 'count': 1}, 'glimmer': {'docs_id': {1: 1}, 'count': 1}, 'insect': {'docs_id': {1: 1}, 'count': 1}, 'hallucin': {'docs_id': {1: 1}, 'count': 1}, 'due': {'docs_id': {1: 1, 5: 1, 7: 1}, 'count': 4}, 'venom': {'docs_id': {1: 1}, 'count': 1}, 'care': {'docs_id': {1: 1, 3: 1}, 'count': 2}, 'coupl': {'docs_id': {1: 1, 4: 1}, 'count': 2}, 'day': {'docs_id': {1: 1, 2: 1, 3: 1, 7: 1}, 'count': 8}, 'recov': {'docs_id': {1: 1, 3: 1, 4: 1}, 'count': 3}, 'meanwhil': {'docs_id': {1: 1}, 'count': 1}, 'gather': {'docs_id': {1: 1}, 'count': 2}, 'pile': {'docs_id': {1: 1}, 'count': 1}, 'destroy': {'docs_id': {1: 1, 2: 1}, 'count': 2}, 'stockpil': {'docs_id': {1: 1}, 'count': 1}, 'set': {'docs_id': {1: 1, 3: 1}, 'count': 2}, 'mine': {'docs_id': {1: 1, 3: 1}, 'count': 2}, 'plant': {'docs_id': {1: 1}, 'count': 1}, 'around': {'docs_id': {1: 1}, 'count': 2}, 'furiou': {'docs_id': {1: 1, 3: 1}, 'count': 2}, 'cato': {'docs_id': {1: 1}, 'count': 4}, 'assign': {'docs_id': {1: 1}, 'count': 1}, 'guard': {'docs_id': {1: 1}, 'count': 1}, 'scene': {'docs_id': {1: 1, 9: 1}, 'count': 2}, 'hear': {'docs_id': {1: 1, 6: 1}, 'count': 3}, 'name': {'docs_id': {1: 1, 2: 1, 4: 1, 6: 1, 7: 1, 8: 1}, 'count': 7}, 'trap': {'docs_id': {1: 1, 9: 1}, 'count': 2}, 'releas': {'docs_id': {1: 1, 2: 1, 4: 1, 7: 1}, 'count': 4}, 'marvel': {'docs_id': {1: 1}, 'count': 1}, '1': {'docs_id': {1: 1}, 'count': 1}, 'throw': {'docs_id': {1: 1, 5: 1}, 'count': 2}, 'spear': {'docs_id': {1: 1}, 'count': 2}, 'dodg': {'docs_id': {1: 1}, 'count': 1}, 'caus': {'docs_id': {1: 1, 6: 1, 8: 1}, 'count': 4}, 'stab': {'docs_id': {1: 1}, 'count': 1}, 'stomach': {'docs_id': {1: 1}, 'count': 1}, 'instead': {'docs_id': {1: 1, 8: 1}, 'count': 3}, 'shoot': {'docs_id': {1: 1}, 'count': 3}, 'dead': {'docs_id': {1: 1, 2: 1, 3: 1, 5: 1}, 'count': 6}, 'arrow': {'docs_id': {1: 1}, 'count': 2}, 'comfort': {'docs_id': {1: 1, 6: 1}, 'count': 2}, 'die': {'docs_id': {1: 1, 5: 1, 6: 1, 8: 1}, 'count': 5}, 'song': {'docs_id': {1: 1}, 'count': 1}, 'afterward': {'docs_id': {1: 1}, 'count': 1}, 'arrang': {'docs_id': {1: 1}, 'count': 1}, 'flower': {'docs_id': {1: 1}, 'count': 1}, 'bodi': {'docs_id': {1: 1, 4: 1, 6: 1, 9: 1}, 'count': 5}, 'spark': {'docs_id': {1: 1}, 'count': 1}, 'riot': {'docs_id': {1: 1}, 'count': 2}, '11': {'docs_id': {1: 1}, 'count': 2}, 'presid': {'docs_id': {1: 1, 5: 1}, 'count': 10}, 'snow': {'docs_id': {1: 1, 3: 1}, 'count': 3}, 'summon': {'docs_id': {1: 1}, 'count': 1}, 'seneca': {'docs_id': {1: 1}, 'count': 1}, 'crane': {'docs_id': {1: 1}, 'count': 4}, 'gamemak': {'docs_id': {1: 1}, 'count': 1}, 'express': {'docs_id': {1: 1}, 'count': 1}, 'displeasur': {'docs_id': {1: 1}, 'count': 1}, 'way': {'docs_id': {1: 1, 2: 1, 5: 1, 7: 1, 9: 1}, 'count': 5}, 'turn': {'docs_id': {1: 1, 3: 1, 4: 1, 8: 1, 9: 1}, 'count': 6}, 'sinc': {'docs_id': {1: 1, 9: 1}, 'count': 2}, 'present': {'docs_id': {1: 1}, 'count': 1}, 'public': {'docs_id': {1: 1, 4: 1, 8: 1}, 'count': 4}, 'starcross': {'docs_id': {1: 1}, 'count': 1}, 'lover': {'docs_id': {1: 1}, 'count': 1}, 'abl': {'docs_id': {1: 1, 3: 1, 5: 1}, 'count': 3}, 'convinc': {'docs_id': {1: 1, 3: 1, 4: 1}, 'count': 3}, 'make': {'docs_id': {1: 1, 3: 1, 7: 1}, 'count': 7}, 'rule': {'docs_id': {1: 1, 4: 1}, 'count': 3}, 'chang': {'docs_id': {1: 1, 6: 1}, 'count': 4}, 'avoid': {'docs_id': {1: 1, 3: 1}, 'count': 2}, 'incit': {'docs_id': {1: 1}, 'count': 1}, 'announc': {'docs_id': {1: 1, 8: 1}, 'count': 3}, 'pair': {'docs_id': {1: 1, 4: 1}, 'count': 2}, 'upon': {'docs_id': {1: 1, 2: 1}, 'count': 2}, 'search': {'docs_id': {1: 1, 4: 1}, 'count': 3}, 'infect': {'docs_id': {1: 1}, 'count': 1}, 'sword': {'docs_id': {1: 1}, 'count': 1}, 'wound': {'docs_id': {1: 1}, 'count': 2}, 'leg': {'docs_id': {1: 1}, 'count': 1}, 'portray': {'docs_id': {1: 1}, 'count': 1}, 'deepli': {'docs_id': {1: 1}, 'count': 1}, 'soup': {'docs_id': {1: 1}, 'count': 1}, 'proclaim': {'docs_id': {1: 1}, 'count': 2}, 'feast': {'docs_id': {1: 1}, 'count': 2}, 'thing': {'docs_id': {1: 1, 7: 1, 8: 1}, 'count': 4}, 'need': {'docs_id': {1: 1, 3: 1, 7: 1, 8: 1}, 'count': 5}, 'beg': {'docs_id': {1: 1, 6: 1}, 'count': 2}, 'risk': {'docs_id': {1: 1, 7: 1}, 'count': 2}, 'get': {'docs_id': {1: 1, 6: 1, 7: 1, 8: 1, 9: 1}, 'count': 9}, 'promis': {'docs_id': {1: 1, 2: 1, 6: 1, 7: 1, 8: 1}, 'count': 7}, 'go': {'docs_id': {1: 1, 3: 1, 6: 1}, 'count': 5}, 'fall': {'docs_id': {1: 1, 2: 1, 3: 1, 7: 1}, 'count': 5}, 'asleep': {'docs_id': {1: 1}, 'count': 1}, 'head': {'docs_id': {1: 1, 5: 1}, 'count': 2}, 'clove': {'docs_id': {1: 1}, 'count': 3}, 'ambush': {'docs_id': {1: 1}, 'count': 1}, 'pin': {'docs_id': {1: 1}, 'count': 1}, 'gloat': {'docs_id': {1: 1}, 'count': 1}, 'thresh': {'docs_id': {1: 1}, 'count': 2}, 'overhear': {'docs_id': {1: 1}, 'count': 1}, 'torment': {'docs_id': {1: 1}, 'count': 1}, 'spare': {'docs_id': {1: 1}, 'count': 2}, 'timefor': {'docs_id': {1: 1}, 'count': 1}, 'work': {'docs_id': {1: 1, 7: 1}, 'count': 3}, 'keep': {'docs_id': {1: 1, 3: 1, 7: 1}, 'count': 4}, 'mobil': {'docs_id': {1: 1}, 'count': 1}, 'foxfac': {'docs_id': {1: 1}, 'count': 1}, '5': {'docs_id': {1: 1}, 'count': 1}, 'eat': {'docs_id': {1: 1}, 'count': 1}, 'nightlock': {'docs_id': {1: 1}, 'count': 3}, 'berri': {'docs_id': {1: 1}, 'count': 2}, 'stole': {'docs_id': {1: 1}, 'count': 1}, 'neither': {'docs_id': {1: 1}, 'count': 1}, 'knew': {'docs_id': {1: 1}, 'count': 1}, 'highli': {'docs_id': {1: 1}, 'count': 1}, 'time': {'docs_id': {1: 1, 3: 1, 6: 1, 7: 1}, 'count': 6}, 'late': {'docs_id': {1: 1, 3: 1}, 'count': 2}, 'night': {'docs_id': {1: 1, 3: 1, 7: 1}, 'count': 6}, 'unleash': {'docs_id': {1: 1}, 'count': 1}, 'pack': {'docs_id': {1: 1, 4: 1, 6: 1}, 'count': 3}, 'houndlik': {'docs_id': {1: 1}, 'count': 1}, 'creatur': {'docs_id': {1: 1}, 'count': 2}, 'speed': {'docs_id': {1: 1}, 'count': 1}, 'forc': {'docs_id': {1: 1, 2: 1, 4: 1}, 'count': 4}, 'flee': {'docs_id': {1: 1}, 'count': 1}, 'roof': {'docs_id': {1: 1, 6: 1, 8: 1}, 'count': 4}, 'encount': {'docs_id': {1: 1}, 'count': 1}, 'battl': {'docs_id': {1: 1}, 'count': 1}, 'hurl': {'docs_id': {1: 1}, 'count': 1}, 'prolong': {'docs_id': {1: 1}, 'count': 1}, 'appar': {'docs_id': {1: 1, 3: 1}, 'count': 2}, 'victori': {'docs_id': {1: 1}, 'count': 1}, 'allow': {'docs_id': {1: 1, 3: 1}, 'count': 2}, 'two': {'docs_id': {1: 1, 4: 1, 5: 1, 6: 1, 7: 1}, 'count': 7}, 'winner': {'docs_id': {1: 1}, 'count': 1}, 'suddenli': {'docs_id': {1: 1}, 'count': 1}, 'revok': {'docs_id': {1: 1}, 'count': 1}, 'tell': {'docs_id': {1: 1, 5: 1, 6: 1}, 'count': 3}, 'give': {'docs_id': {1: 1, 3: 1, 5: 1, 8: 1}, 'count': 6}, 'commit': {'docs_id': {1: 1, 3: 1, 8: 1}, 'count': 3}, 'suicid': {'docs_id': {1: 1, 8: 1}, 'count': 4}, 'hastili': {'docs_id': {1: 1}, 'count': 1}, '74th': {'docs_id': {1: 1}, 'count': 1}, 'made': {'docs_id': {1: 1, 8: 1}, 'count': 2}, 'power': {'docs_id': {1: 1}, 'count': 1}, 'enemi': {'docs_id': {1: 1}, 'count': 1}, 'display': {'docs_id': {1: 1}, 'count': 1}, 'defianc': {'docs_id': {1: 1}, 'count': 1}, 'return': {'docs_id': {1: 1, 2: 1, 3: 1, 4: 1, 6: 1, 7: 1}, 'count': 11}, 'lock': {'docs_id': {1: 1, 6: 1}, 'count': 2}, 'room': {'docs_id': {1: 1, 6: 1}, 'count': 2}, 'bowl': {'docs_id': {1: 1}, 'count': 1}, 'consid': {'docs_id': {1: 1}, 'count': 1}, 'situat': {'docs_id': {1: 1}, 'count': 1}, 'pooval': {'docs_id': {2: 1}, 'count': 2}, 'induchoodan': {'docs_id': {2: 1}, 'count': 18}, 'sentenc': {'docs_id': {2: 1, 3: 1, 4: 1}, 'count': 6}, 'six': {'docs_id': {2: 1}, 'count': 2}, 'year': {'docs_id': {2: 1, 3: 1, 4: 1, 7: 1}, 'count': 6}, 'prison': {'docs_id': {2: 1, 4: 1}, 'count': 3}, 'life': {'docs_id': {2: 1, 4: 1}, 'count': 5}, 'murder': {'docs_id': {2: 1, 4: 1}, 'count': 4}, 'classmat': {'docs_id': {2: 1, 7: 1}, 'count': 3}, 'justic': {'docs_id': {2: 1}, 'count': 3}, 'marancheri': {'docs_id': {2: 1}, 'count': 1}, 'karunakara': {'docs_id': {2: 1}, 'count': 1}, 'menon': {'docs_id': {2: 1}, 'count': 12}, 'frame': {'docs_id': {2: 1}, 'count': 1}, 'case': {'docs_id': {2: 1, 4: 1}, 'count': 3}, 'manap': {'docs_id': {2: 1}, 'count': 8}, 'madhavan': {'docs_id': {2: 1}, 'count': 2}, 'nambiar': {'docs_id': {2: 1}, 'count': 3}, 'croni': {'docs_id': {2: 1}, 'count': 1}, 'dysp': {'docs_id': {2: 1}, 'count': 1}, 'sankaranarayanan': {'docs_id': {2: 1}, 'count': 1}, 'reveng': {'docs_id': {2: 1}, 'count': 1}, 'idealist': {'docs_id': {2: 1}, 'count': 1}, 'judg': {'docs_id': {2: 1, 3: 1}, 'count': 3}, 'earlier': {'docs_id': {2: 1, 3: 1}, 'count': 2}, 'given': {'docs_id': {2: 1, 4: 1}, 'count': 2}, 'jail': {'docs_id': {2: 1, 3: 1}, 'count': 3}, 'corrupt': {'docs_id': {2: 1}, 'count': 1}, 'achiev': {'docs_id': {2: 1}, 'count': 1}, 'top': {'docs_id': {2: 1}, 'count': 1}, 'rank': {'docs_id': {2: 1}, 'count': 1}, 'indian': {'docs_id': {2: 1}, 'count': 1}, 'civil': {'docs_id': {2: 1}, 'count': 2}, 'servic': {'docs_id': {2: 1, 5: 1}, 'count': 5}, 'lose': {'docs_id': {2: 1}, 'count': 1}, 'post': {'docs_id': {2: 1}, 'count': 1}, 'sudheeran': {'docs_id': {2: 1}, 'count': 1}, 'saikumar': {'docs_id': {2: 1}, 'count': 1}, 'enter': {'docs_id': {2: 1, 3: 1, 5: 1, 6: 1}, 'count': 5}, 'list': {'docs_id': {2: 1}, 'count': 1}, 'traine': {'docs_id': {2: 1}, 'count': 1}, 'learn': {'docs_id': {2: 1, 3: 1}, 'count': 3}, 'flashback': {'docs_id': {2: 1, 6: 1}, 'count': 2}, 'ramakrishnan': {'docs_id': {2: 1}, 'count': 1}, 'moopil': {'docs_id': {2: 1}, 'count': 1}, 'nair': {'docs_id': {2: 1}, 'count': 3}, 'actual': {'docs_id': {2: 1}, 'count': 1}, 'pass': {'docs_id': {2: 1, 3: 1, 6: 1}, 'count': 4}, 'former': {'docs_id': {2: 1, 6: 1, 8: 1}, 'count': 4}, 'state': {'docs_id': {2: 1}, 'count': 1}, 'minist': {'docs_id': {2: 1}, 'count': 1}, 'rage': {'docs_id': {2: 1}, 'count': 1}, 'gross': {'docs_id': {2: 1}, 'count': 1}, 'injustic': {'docs_id': {2: 1}, 'count': 1}, 'mete': {'docs_id': {2: 1}, 'count': 1}, 'thu': {'docs_id': {2: 1}, 'count': 1}, 'thwart': {'docs_id': {2: 1}, 'count': 1}, 'pavithran': {'docs_id': {2: 1}, 'count': 6}, 'perform': {'docs_id': {2: 1, 7: 1}, 'count': 3}, 'funer': {'docs_id': {2: 1}, 'count': 2}, 'ritual': {'docs_id': {2: 1}, 'count': 3}, 'bharathapuzha': {'docs_id': {2: 1}, 'count': 1}, 'mani': {'docs_id': {2: 1, 4: 1}, 'count': 2}, 'confront': {'docs_id': {2: 1, 3: 1, 7: 1}, 'count': 6}, 'henchmen': {'docs_id': {2: 1}, 'count': 1}, 'follow': {'docs_id': {2: 1, 8: 1}, 'count': 2}, 'also': {'docs_id': {2: 1, 6: 1}, 'count': 3}, 'anuradha': {'docs_id': {2: 1}, 'count': 2}, 'aishwarya': {'docs_id': {2: 1}, 'count': 1}, 'strongwil': {'docs_id': {2: 1}, 'count': 1}, 'independentmind': {'docs_id': {2: 1}, 'count': 1}, 'daughter': {'docs_id': {2: 1, 4: 1, 6: 1}, 'count': 7}, 'mooppil': {'docs_id': {2: 1}, 'count': 1}, 'wife': {'docs_id': {2: 1, 3: 1, 4: 1}, 'count': 4}, 'back': {'docs_id': {2: 1, 3: 1, 6: 1, 7: 1}, 'count': 6}, 'kerala': {'docs_id': {2: 1}, 'count': 1}, 'stay': {'docs_id': {2: 1, 3: 1, 5: 1}, 'count': 3}, 'appear': {'docs_id': {2: 1, 3: 1, 4: 1, 6: 1}, 'count': 8}, 'indulekha': {'docs_id': {2: 1}, 'count': 6}, 'kanaka': {'docs_id': {2: 1}, 'count': 1}, 'claim': {'docs_id': {2: 1, 6: 1, 8: 1}, 'count': 8}, 'flatli': {'docs_id': {2: 1}, 'count': 1}, 'refus': {'docs_id': {2: 1, 6: 1}, 'count': 2}, 'banish': {'docs_id': {2: 1}, 'count': 1}, 'circumst': {'docs_id': {2: 1, 7: 1}, 'count': 2}, 'instig': {'docs_id': {2: 1}, 'count': 1}, 'help': {'docs_id': {2: 1, 7: 1}, 'count': 2}, 'reluctantli': {'docs_id': {2: 1, 7: 1}, 'count': 2}, 'come': {'docs_id': {2: 1, 3: 1, 6: 1, 7: 1, 8: 1}, 'count': 7}, 'open': {'docs_id': {2: 1, 6: 1}, 'count': 3}, 'thrash': {'docs_id': {2: 1}, 'count': 1}, 'protest': {'docs_id': {2: 1, 8: 1}, 'count': 2}, 'know': {'docs_id': {2: 1, 5: 1}, 'count': 2}, 'truth': {'docs_id': {2: 1, 4: 1}, 'count': 2}, 'chandrabhanu': {'docs_id': {2: 1}, 'count': 1}, 'uncl': {'docs_id': {2: 1}, 'count': 1}, 'accept': {'docs_id': {2: 1, 4: 1}, 'count': 5}, 'task': {'docs_id': {2: 1}, 'count': 1}, 'protect': {'docs_id': {2: 1}, 'count': 1}, 'capac': {'docs_id': {2: 1}, 'count': 1}, 'elder': {'docs_id': {2: 1}, 'count': 1}, 'brother': {'docs_id': {2: 1, 7: 1}, 'count': 3}, 'decid': {'docs_id': {2: 1, 3: 1, 7: 1}, 'count': 6}, 'marri': {'docs_id': {2: 1}, 'count': 1}, 'good': {'docs_id': {2: 1, 6: 1}, 'count': 2}, 'friend': {'docs_id': {2: 1, 3: 1, 6: 1, 8: 1}, 'count': 6}, 'jayakrishnan': {'docs_id': {2: 1}, 'count': 1}, 'father': {'docs_id': {2: 1, 6: 1}, 'count': 8}, 'prod': {'docs_id': {2: 1}, 'count': 1}, 'mistak': {'docs_id': {2: 1}, 'count': 1}, 'acknowledg': {'docs_id': {2: 1}, 'count': 1}, 'parentag': {'docs_id': {2: 1}, 'count': 1}, 'ultim': {'docs_id': {2: 1}, 'count': 1}, 'regret': {'docs_id': {2: 1}, 'count': 1}, 'goe': {'docs_id': {2: 1, 5: 1}, 'count': 2}, 'confess': {'docs_id': {2: 1}, 'count': 1}, 'next': {'docs_id': {2: 1, 3: 1}, 'count': 2}, 'found': {'docs_id': {2: 1, 4: 1, 6: 1}, 'count': 4}, 'accus': {'docs_id': {2: 1, 4: 1}, 'count': 2}, 'whole': {'docs_id': {2: 1, 8: 1}, 'count': 2}, 'act': {'docs_id': {2: 1}, 'count': 1}, 'plan': {'docs_id': {2: 1, 3: 1, 7: 1, 8: 1}, 'count': 6}, 'raman': {'docs_id': {2: 1}, 'count': 1}, 'testifi': {'docs_id': {2: 1}, 'count': 1}, 'court': {'docs_id': {2: 1, 3: 1}, 'count': 6}, 'nandagop': {'docs_id': {2: 1}, 'count': 1}, 'maarar': {'docs_id': {2: 1}, 'count': 1}, 'close': {'docs_id': {2: 1, 7: 1}, 'count': 2}, 'famou': {'docs_id': {2: 1}, 'count': 1}, 'suprem': {'docs_id': {2: 1}, 'count': 1}, 'lawyer': {'docs_id': {2: 1, 6: 1}, 'count': 2}, 'manag': {'docs_id': {2: 1, 3: 1, 6: 1}, 'count': 3}, 'lay': {'docs_id': {2: 1}, 'count': 1}, 'plot': {'docs_id': {2: 1, 6: 1, 8: 1}, 'count': 3}, 'hidden': {'docs_id': {2: 1, 3: 1}, 'count': 2}, 'intent': {'docs_id': {2: 1}, 'count': 1}, 'parti': {'docs_id': {2: 1, 7: 1, 8: 1}, 'count': 3}, 'innoc': {'docs_id': {2: 1}, 'count': 2}, 'crime': {'docs_id': {2: 1, 3: 1, 4: 1, 7: 1}, 'count': 5}, 'retribut': {'docs_id': {2: 1}, 'count': 1}, 'show': {'docs_id': {2: 1, 5: 1, 7: 1, 8: 1}, 'count': 6}, 'remors': {'docs_id': {2: 1}, 'count': 1}, 'action': {'docs_id': {2: 1, 3: 1}, 'count': 2}, 'includ': {'docs_id': {2: 1}, 'count': 1}, 'speak': {'docs_id': {2: 1}, 'count': 1}, 'suffer': {'docs_id': {2: 1}, 'count': 1}, 'heart': {'docs_id': {2: 1}, 'count': 1}, 'stroke': {'docs_id': {2: 1}, 'count': 1}, 'arriv': {'docs_id': {2: 1, 3: 1, 5: 1, 6: 1, 7: 1}, 'count': 8}, 'poke': {'docs_id': {2: 1}, 'count': 1}, 'fun': {'docs_id': {2: 1}, 'count': 1}, 'tri': {'docs_id': {2: 1, 3: 1, 5: 1, 8: 1}, 'count': 6}, 'carri': {'docs_id': {2: 1, 4: 1}, 'count': 2}, 'postpon': {'docs_id': {2: 1}, 'count': 1}, 'last': {'docs_id': {2: 1, 3: 1}, 'count': 2}, 'interrupt': {'docs_id': {2: 1}, 'count': 1}, 'aveng': {'docs_id': {2: 1}, 'count': 1}, 'sever': {'docs_id': {2: 1, 3: 1}, 'count': 2}, 'injur': {'docs_id': {2: 1, 8: 1}, 'count': 2}, 'peac': {'docs_id': {2: 1}, 'count': 1}, 'partner': {'docs_id': {2: 1}, 'count': 1}, 'lemon': {'docs_id': {3: 1}, 'count': 1}, 'kid': {'docs_id': {3: 1, 7: 1}, 'count': 36}, 'new': {'docs_id': {3: 1, 4: 1, 6: 1, 8: 1}, 'count': 9}, 'york': {'docs_id': {3: 1}, 'count': 3}, 'citi': {'docs_id': {3: 1, 6: 1, 8: 1}, 'count': 7}, 'swindler': {'docs_id': {3: 1}, 'count': 2}, 'illeg': {'docs_id': {3: 1}, 'count': 1}, 'tout': {'docs_id': {3: 1}, 'count': 1}, 'hors': {'docs_id': {3: 1}, 'count': 1}, 'florida': {'docs_id': {3: 1}, 'count': 1}, 'racetrack': {'docs_id': {3: 1}, 'count': 1}, 'success': {'docs_id': {3: 1, 4: 1, 7: 1}, 'count': 4}, 'hustl': {'docs_id': {3: 1}, 'count': 1}, 'across': {'docs_id': {3: 1, 8: 1}, 'count': 2}, 'beauti': {'docs_id': {3: 1}, 'count': 1}, 'gullibl': {'docs_id': {3: 1}, 'count': 1}, 'woman': {'docs_id': {3: 1}, 'count': 3}, 'intend': {'docs_id': {3: 1, 8: 1}, 'count': 2}, 'bet': {'docs_id': {3: 1}, 'count': 2}, 'lot': {'docs_id': {3: 1, 4: 1, 8: 1}, 'count': 3}, 'money': {'docs_id': {3: 1, 7: 1, 8: 1}, 'count': 11}, 'switch': {'docs_id': {3: 1}, 'count': 2}, 'employ': {'docs_id': {3: 1}, 'count': 2}, 'prefabr': {'docs_id': {3: 1}, 'count': 1}, 'con': {'docs_id': {3: 1}, 'count': 1}, 'unfortun': {'docs_id': {3: 1}, 'count': 1}, 'belong': {'docs_id': {3: 1}, 'count': 1}, 'notori': {'docs_id': {3: 1}, 'count': 1}, 'gangster': {'docs_id': {3: 1}, 'count': 2}, 'moos': {'docs_id': {3: 1}, 'count': 3}, 'moran': {'docs_id': {3: 1}, 'count': 8}, 'choic': {'docs_id': {3: 1}, 'count': 1}, 'finish': {'docs_id': {3: 1}, 'count': 1}, 'demand': {'docs_id': {3: 1, 8: 1}, 'count': 3}, '10000': {'docs_id': {3: 1}, 'count': 1}, 'christma': {'docs_id': {3: 1, 7: 1, 8: 1}, 'count': 5}, 'eve': {'docs_id': {3: 1, 8: 1}, 'count': 3}, 'wont': {'docs_id': {3: 1}, 'count': 1}, 'onagain': {'docs_id': {3: 1}, 'count': 1}, 'offagain': {'docs_id': {3: 1}, 'count': 1}, 'girlfriend': {'docs_id': {3: 1}, 'count': 1}, 'braini': {'docs_id': {3: 1}, 'count': 7}, 'baxter': {'docs_id': {3: 1}, 'count': 1}, 'talk': {'docs_id': {3: 1, 8: 1}, 'count': 2}, 'longterm': {'docs_id': {3: 1}, 'count': 1}, 'aris': {'docs_id': {3: 1}, 'count': 1}, 'quickli': {'docs_id': {3: 1, 7: 1}, 'count': 3}, 'escap': {'docs_id': {3: 1, 5: 1}, 'count': 6}, 'visit': {'docs_id': {3: 1, 6: 1}, 'count': 3}, 'local': {'docs_id': {3: 1, 7: 1, 8: 1}, 'count': 3}, 'boss': {'docs_id': {3: 1, 5: 1}, 'count': 3}, 'oxford': {'docs_id': {3: 1}, 'count': 3}, 'charley': {'docs_id': {3: 1}, 'count': 18}, 'deal': {'docs_id': {3: 1}, 'count': 2}, 'seriou': {'docs_id': {3: 1}, 'count': 1}, 'tax': {'docs_id': {3: 1}, 'count': 1}, 'troubl': {'docs_id': {3: 1}, 'count': 1}, 'particularli': {'docs_id': {3: 1}, 'count': 1}, 'anyway': {'docs_id': {3: 1}, 'count': 1}, 'leav': {'docs_id': {3: 1, 5: 1, 6: 1, 7: 1}, 'count': 8}, 'establish': {'docs_id': {3: 1}, 'count': 1}, 'hope': {'docs_id': {3: 1}, 'count': 1}, 'notic': {'docs_id': {3: 1, 6: 1}, 'count': 2}, 'cornersid': {'docs_id': {3: 1}, 'count': 1}, 'santa': {'docs_id': {3: 1}, 'count': 4}, 'clau': {'docs_id': {3: 1}, 'count': 2}, 'kettl': {'docs_id': {3: 1}, 'count': 1}, 'think': {'docs_id': {3: 1, 9: 1}, 'count': 2}, 'fashion': {'docs_id': {3: 1}, 'count': 1}, 'suit': {'docs_id': {3: 1, 8: 1}, 'count': 3}, 'collect': {'docs_id': {3: 1}, 'count': 3}, 'donat': {'docs_id': {3: 1}, 'count': 1}, 'fail': {'docs_id': {3: 1}, 'count': 1}, 'recogn': {'docs_id': {3: 1, 7: 1, 8: 1}, 'count': 3}, 'policeman': {'docs_id': {3: 1}, 'count': 1}, 'rememb': {'docs_id': {3: 1, 7: 1}, 'count': 3}, 'previou': {'docs_id': {3: 1, 5: 1}, 'count': 2}, 'underhand': {'docs_id': {3: 1}, 'count': 1}, 'activ': {'docs_id': {3: 1}, 'count': 2}, 'well': {'docs_id': {3: 1}, 'count': 1}, 'land': {'docs_id': {3: 1}, 'count': 1}, 'convict': {'docs_id': {3: 1, 4: 1}, 'count': 2}, 'chariti': {'docs_id': {3: 1}, 'count': 2}, 'without': {'docs_id': {3: 1, 4: 1}, 'count': 2}, 'licens': {'docs_id': {3: 1}, 'count': 3}, 'ten': {'docs_id': {3: 1}, 'count': 1}, 'scheme': {'docs_id': {3: 1, 8: 1}, 'count': 4}, 'went': {'docs_id': {3: 1}, 'count': 1}, 'wrong': {'docs_id': {3: 1}, 'count': 1}, 'short': {'docs_id': {3: 1, 9: 1}, 'count': 2}, 'bail': {'docs_id': {3: 1}, 'count': 1}, 'restart': {'docs_id': {3: 1}, 'count': 1}, 'oper': {'docs_id': {3: 1}, 'count': 2}, 'legitim': {'docs_id': {3: 1}, 'count': 1}, 'end': {'docs_id': {3: 1, 7: 1, 8: 1}, 'count': 5}, 'repres': {'docs_id': {3: 1}, 'count': 1}, 'receiv': {'docs_id': {3: 1, 5: 1}, 'count': 3}, 'key': {'docs_id': {3: 1}, 'count': 1}, 'inspir': {'docs_id': {3: 1, 8: 1}, 'count': 2}, 'nelli': {'docs_id': {3: 1}, 'count': 7}, 'thursday': {'docs_id': {3: 1}, 'count': 5}, 'kindli': {'docs_id': {3: 1}, 'count': 1}, 'neighborhood': {'docs_id': {3: 1, 7: 1}, 'count': 7}, 'resid': {'docs_id': {3: 1}, 'count': 1}, 'deni': {'docs_id': {3: 1}, 'count': 1}, 'entri': {'docs_id': {3: 1}, 'count': 1}, 'retir': {'docs_id': {3: 1}, 'count': 1}, 'home': {'docs_id': {3: 1, 5: 1, 6: 1, 7: 1}, 'count': 14}, 'husband': {'docs_id': {3: 1, 5: 1}, 'count': 3}, 'crimin': {'docs_id': {3: 1}, 'count': 1}, 'safecrack': {'docs_id': {3: 1}, 'count': 1}, 'organ': {'docs_id': {3: 1}, 'count': 1}, 'smalltim': {'docs_id': {3: 1}, 'count': 1}, 'surpris': {'docs_id': {3: 1}, 'count': 2}, 'charm': {'docs_id': {3: 1}, 'count': 1}, 'goodwil': {'docs_id': {3: 1}, 'count': 1}, 'convert': {'docs_id': {3: 1}, 'count': 1}, 'abandon': {'docs_id': {3: 1, 6: 1}, 'count': 2}, 'casino': {'docs_id': {3: 1}, 'count': 2}, 'old': {'docs_id': {3: 1}, 'count': 2}, 'doll': {'docs_id': {3: 1}, 'count': 2}, 'small': {'docs_id': {3: 1, 4: 1, 7: 1}, 'count': 4}, 'group': {'docs_id': {3: 1}, 'count': 1}, 'elderli': {'docs_id': {3: 1}, 'count': 2}, 'women': {'docs_id': {3: 1}, 'count': 2}, 'makeshift': {'docs_id': {3: 1}, 'count': 1}, 'amen': {'docs_id': {3: 1}, 'count': 1}, 'complet': {'docs_id': {3: 1, 7: 1}, 'count': 4}, 'project': {'docs_id': {3: 1}, 'count': 1}, 'allimport': {'docs_id': {3: 1}, 'count': 1}, 'free': {'docs_id': {3: 1}, 'count': 2}, 'compatriot': {'docs_id': {3: 1}, 'count': 1}, 'dress': {'docs_id': {3: 1}, 'count': 1}, 'posit': {'docs_id': {3: 1}, 'count': 1}, 'throughout': {'docs_id': {3: 1}, 'count': 1}, 'manhattan': {'docs_id': {3: 1}, 'count': 1}, 'other': {'docs_id': {3: 1, 8: 1}, 'count': 3}, 'unawar': {'docs_id': {3: 1}, 'count': 1}, 'pay': {'docs_id': {3: 1, 8: 1}, 'count': 3}, 'huge': {'docs_id': {3: 1}, 'count': 1}, 'net': {'docs_id': {3: 1}, 'count': 1}, '2000': {'docs_id': {3: 1}, 'count': 1}, 'overjoy': {'docs_id': {3: 1}, 'count': 1}, 'job': {'docs_id': {3: 1, 8: 1}, 'count': 2}, 'dancer': {'docs_id': {3: 1}, 'count': 1}, 'look': {'docs_id': {3: 1, 6: 1, 7: 1}, 'count': 5}, 'fulltim': {'docs_id': {3: 1}, 'count': 1}, 'coincident': {'docs_id': {3: 1}, 'count': 1}, 'none': {'docs_id': {3: 1}, 'count': 1}, 'cheer': {'docs_id': {3: 1}, 'count': 1}, 'inform': {'docs_id': {3: 1, 5: 1, 7: 1}, 'count': 4}, 'effort': {'docs_id': {3: 1}, 'count': 1}, 'see': {'docs_id': {3: 1, 4: 1, 5: 1, 6: 1, 7: 1, 9: 1}, 'count': 9}, 'potenti': {'docs_id': {3: 1}, 'count': 1}, 'gold': {'docs_id': {3: 1}, 'count': 1}, 'muscl': {'docs_id': {3: 1}, 'count': 1}, 'reason': {'docs_id': {3: 1}, 'count': 1}, 'wherev': {'docs_id': {3: 1}, 'count': 1}, 'crew': {'docs_id': {3: 1}, 'count': 2}, 'kidnap': {'docs_id': {3: 1}, 'count': 1}, 'inhabit': {'docs_id': {3: 1}, 'count': 1}, 'move': {'docs_id': {3: 1, 6: 1, 7: 1}, 'count': 7}, 'mansion': {'docs_id': {3: 1}, 'count': 1}, 'nyack': {'docs_id': {3: 1}, 'count': 1}, 'desert': {'docs_id': {3: 1}, 'count': 1}, 'gone': {'docs_id': {3: 1}, 'count': 1}, 'clu': {'docs_id': {3: 1}, 'count': 1}, 'overs': {'docs_id': {3: 1}, 'count': 1}, 'footprint': {'docs_id': {3: 1}, 'count': 1}, 'true': {'docs_id': {3: 1, 4: 1}, 'count': 2}, 'natur': {'docs_id': {3: 1, 8: 1}, 'count': 2}, 'phone': {'docs_id': {3: 1}, 'count': 1}, 'convers': {'docs_id': {3: 1}, 'count': 1}, 'accomplic': {'docs_id': {3: 1}, 'count': 1}, 'angri': {'docs_id': {3: 1}, 'count': 1}, 'slip': {'docs_id': {3: 1}, 'count': 1}, 'track': {'docs_id': {3: 1}, 'count': 1}, 'outsid': {'docs_id': {3: 1, 6: 1, 7: 1}, 'count': 3}, 'voic': {'docs_id': {3: 1, 6: 1}, 'count': 2}, 'disgust': {'docs_id': {3: 1}, 'count': 1}, 'stew': {'docs_id': {3: 1}, 'count': 1}, 'selfpiti': {'docs_id': {3: 1}, 'count': 1}, 'meet': {'docs_id': {3: 1, 6: 1}, 'count': 3}, 'compound': {'docs_id': {3: 1}, 'count': 1}, 'sneak': {'docs_id': {3: 1, 6: 1, 9: 1}, 'count': 3}, 'guis': {'docs_id': {3: 1}, 'count': 1}, 'secur': {'docs_id': {3: 1}, 'count': 1}, 'locat': {'docs_id': {3: 1, 5: 1}, 'count': 2}, 'use': {'docs_id': {3: 1, 4: 1, 7: 1, 8: 1}, 'count': 5}, 'heighten': {'docs_id': {3: 1}, 'count': 1}, 'advantag': {'docs_id': {3: 1}, 'count': 1}, 'offic': {'docs_id': {3: 1}, 'count': 1}, 'brief': {'docs_id': {3: 1}, 'count': 1}, 'struggl': {'docs_id': {3: 1}, 'count': 1}, 'overpow': {'docs_id': {3: 1}, 'count': 1}, 'narrowli': {'docs_id': {3: 1}, 'count': 1}, 'thug': {'docs_id': {3: 1}, 'count': 1}, 'sent': {'docs_id': {3: 1}, 'count': 1}, 'ensu': {'docs_id': {3: 1, 9: 1}, 'count': 2}, 'chao': {'docs_id': {3: 1}, 'count': 1}, 'origin': {'docs_id': {3: 1, 8: 1}, 'count': 3}, 'jeopardi': {'docs_id': {3: 1}, 'count': 1}, 'reimburs': {'docs_id': {3: 1}, 'count': 1}, 'would': {'docs_id': {3: 1}, 'count': 1}, 'littl': {'docs_id': {3: 1, 6: 1}, 'count': 3}, 'tabl': {'docs_id': {3: 1}, 'count': 2}, 'hit': {'docs_id': {3: 1, 5: 1}, 'count': 2}, 'occupi': {'docs_id': {3: 1}, 'count': 1}, 'mainli': {'docs_id': {3: 1}, 'count': 1}, 'stillloy': {'docs_id': {3: 1}, 'count': 1}, 'hold': {'docs_id': {3: 1, 6: 1}, 'count': 2}, 'polic': {'docs_id': {3: 1, 4: 1, 6: 1}, 'count': 4}, 'initi': {'docs_id': {3: 1}, 'count': 1}, 'raid': {'docs_id': {3: 1}, 'count': 1}, 'arrest': {'docs_id': {3: 1, 6: 1}, 'count': 2}, 'eye': {'docs_id': {3: 1}, 'count': 1}, 'assur': {'docs_id': {3: 1}, 'count': 1}, 'necessari': {'docs_id': {3: 1}, 'count': 1}, 'lie': {'docs_id': {3: 1}, 'count': 1}, 'becom': {'docs_id': {3: 1}, 'count': 1}, 'realiti': {'docs_id': {3: 1}, 'count': 1}, 'main': {'docs_id': {3: 1, 5: 1, 7: 1}, 'count': 3}, 'event': {'docs_id': {3: 1, 4: 1, 7: 1}, 'count': 3}, 'henri': {'docs_id': {3: 1, 8: 1}, 'count': 2}, 'parol': {'docs_id': {3: 1}, 'count': 1}, 'joyous': {'docs_id': {3: 1}, 'count': 1}, 'reunit': {'docs_id': {3: 1}, 'count': 1}, 'seventhday': {'docs_id': {4: 1}, 'count': 1}, 'adventist': {'docs_id': {4: 1}, 'count': 1}, 'church': {'docs_id': {4: 1}, 'count': 1}, 'pastor': {'docs_id': {4: 1}, 'count': 1}, 'michael': {'docs_id': {4: 1}, 'count': 4}, 'chamberlain': {'docs_id': {4: 1}, 'count': 3}, 'lindi': {'docs_id': {4: 1}, 'count': 7}, 'nineweekold': {'docs_id': {4: 1}, 'count': 1}, 'azaria': {'docs_id': {4: 1}, 'count': 4}, 'camp': {'docs_id': {4: 1}, 'count': 1}, 'holiday': {'docs_id': {4: 1}, 'count': 1}, 'outback': {'docs_id': {4: 1}, 'count': 1}, 'babi': {'docs_id': {4: 1}, 'count': 2}, 'tent': {'docs_id': {4: 1}, 'count': 2}, 'famili': {'docs_id': {4: 1, 6: 1}, 'count': 3}, 'enjoy': {'docs_id': {4: 1}, 'count': 1}, 'barbecu': {'docs_id': {4: 1}, 'count': 1}, 'fellow': {'docs_id': {4: 1}, 'count': 1}, 'camper': {'docs_id': {4: 1}, 'count': 1}, 'cri': {'docs_id': {4: 1}, 'count': 1}, 'heard': {'docs_id': {4: 1}, 'count': 1}, 'check': {'docs_id': {4: 1}, 'count': 1}, 'certain': {'docs_id': {4: 1}, 'count': 1}, 'dingo': {'docs_id': {4: 1}, 'count': 1}, 'someth': {'docs_id': {4: 1}, 'count': 1}, 'mouth': {'docs_id': {4: 1}, 'count': 1}, 'approach': {'docs_id': {4: 1}, 'count': 1}, 'infant': {'docs_id': {4: 1}, 'count': 1}, 'miss': {'docs_id': {4: 1, 7: 1}, 'count': 6}, 'everyon': {'docs_id': {4: 1, 8: 1}, 'count': 2}, 'join': {'docs_id': {4: 1}, 'count': 1}, 'assum': {'docs_id': {4: 1}, 'count': 1}, 'saw': {'docs_id': {4: 1, 7: 1}, 'count': 3}, 'anim': {'docs_id': {4: 1}, 'count': 1}, 'child': {'docs_id': {4: 1}, 'count': 1}, 'subsequ': {'docs_id': {4: 1}, 'count': 1}, 'inquest': {'docs_id': {4: 1}, 'count': 1}, 'account': {'docs_id': {4: 1}, 'count': 1}, 'tide': {'docs_id': {4: 1}, 'count': 1}, 'opinion': {'docs_id': {4: 1}, 'count': 1}, 'soon': {'docs_id': {4: 1, 6: 1}, 'count': 3}, 'seem': {'docs_id': {4: 1}, 'count': 1}, 'stoic': {'docs_id': {4: 1}, 'count': 1}, 'coldheart': {'docs_id': {4: 1}, 'count': 1}, 'disast': {'docs_id': {4: 1}, 'count': 1}, 'befallen': {'docs_id': {4: 1}, 'count': 1}, 'gossip': {'docs_id': {4: 1}, 'count': 1}, 'swell': {'docs_id': {4: 1}, 'count': 1}, 'statement': {'docs_id': {4: 1}, 'count': 1}, 'fact': {'docs_id': {4: 1, 5: 1}, 'count': 2}, 'belief': {'docs_id': {4: 1}, 'count': 2}, 'wide': {'docs_id': {4: 1}, 'count': 1}, 'practis': {'docs_id': {4: 1}, 'count': 1}, 'countri': {'docs_id': {4: 1, 8: 1}, 'count': 2}, 'media': {'docs_id': {4: 1}, 'count': 1}, 'report': {'docs_id': {4: 1, 5: 1}, 'count': 2}, 'rumour': {'docs_id': {4: 1}, 'count': 1}, 'mean': {'docs_id': {4: 1}, 'count': 1}, 'sacrific': {'docs_id': {4: 1}, 'count': 1}, 'wilder': {'docs_id': {4: 1}, 'count': 1}, 'quick': {'docs_id': {4: 1}, 'count': 1}, 'decapit': {'docs_id': {4: 1}, 'count': 1}, 'scissor': {'docs_id': {4: 1}, 'count': 1}, 'part': {'docs_id': {4: 1, 9: 1}, 'count': 2}, 'religi': {'docs_id': {4: 1}, 'count': 1}, 'rite': {'docs_id': {4: 1}, 'count': 1}, 'lawenforc': {'docs_id': {4: 1}, 'count': 1}, 'offici': {'docs_id': {4: 1}, 'count': 1}, 'wit': {'docs_id': {4: 1}, 'count': 1}, 'forens': {'docs_id': {4: 1}, 'count': 1}, 'expert': {'docs_id': {4: 1}, 'count': 1}, 'circumstanti': {'docs_id': {4: 1}, 'count': 1}, 'evidenceinclud': {'docs_id': {4: 1}, 'count': 1}, 'wooden': {'docs_id': {4: 1}, 'count': 1}, 'coffin': {'docs_id': {4: 1}, 'count': 1}, 'receptacl': {'docs_id': {4: 1}, 'count': 1}, 'parishion': {'docs_id': {4: 1}, 'count': 1}, 'unsmok': {'docs_id': {4: 1}, 'count': 1}, 'cigarettesand': {'docs_id': {4: 1}, 'count': 1}, 'reopen': {'docs_id': {4: 1}, 'count': 2}, 'investig': {'docs_id': {4: 1, 5: 1, 8: 1}, 'count': 4}, 'eventu': {'docs_id': {4: 1}, 'count': 1}, 'charg': {'docs_id': {4: 1}, 'count': 1}, 'seven': {'docs_id': {4: 1}, 'count': 1}, 'month': {'docs_id': {4: 1, 6: 1, 8: 1}, 'count': 3}, 'pregnant': {'docs_id': {4: 1}, 'count': 1}, 'attorney': {'docs_id': {4: 1}, 'count': 1}, 'play': {'docs_id': {4: 1, 8: 1}, 'count': 3}, 'juri': {'docs_id': {4: 1}, 'count': 1}, 'sympathi': {'docs_id': {4: 1}, 'count': 1}, 'emotionless': {'docs_id': {4: 1}, 'count': 1}, 'stand': {'docs_id': {4: 1, 6: 1, 7: 1}, 'count': 3}, 'onlook': {'docs_id': {4: 1}, 'count': 1}, 'guilti': {'docs_id': {4: 1}, 'count': 3}, 'trial': {'docs_id': {4: 1}, 'count': 1}, 'progress': {'docs_id': {4: 1}, 'count': 1}, 'faith': {'docs_id': {4: 1, 7: 1}, 'count': 2}, 'religion': {'docs_id': {4: 1}, 'count': 1}, 'disintegr': {'docs_id': {4: 1}, 'count': 1}, 'stumbl': {'docs_id': {4: 1}, 'count': 1}, 'testimoni': {'docs_id': {4: 1}, 'count': 1}, 'suggest': {'docs_id': {4: 1, 7: 1}, 'count': 2}, 'conceal': {'docs_id': {4: 1}, 'count': 1}, 'octob': {'docs_id': {4: 1}, 'count': 1}, '1982': {'docs_id': {4: 1}, 'count': 1}, 'imprison': {'docs_id': {4: 1}, 'count': 1}, 'hard': {'docs_id': {4: 1, 7: 1}, 'count': 2}, 'labour': {'docs_id': {4: 1}, 'count': 1}, 'accessori': {'docs_id': {4: 1}, 'count': 1}, '18month': {'docs_id': {4: 1}, 'count': 1}, 'suspend': {'docs_id': {4: 1}, 'count': 1}, 'three': {'docs_id': {4: 1}, 'count': 1}, 'english': {'docs_id': {4: 1}, 'count': 1}, 'tourist': {'docs_id': {4: 1}, 'count': 1}, 'fell': {'docs_id': {4: 1, 6: 1}, 'count': 2}, 'uluru': {'docs_id': {4: 1}, 'count': 1}, 'item': {'docs_id': {4: 1}, 'count': 1}, 'cloth': {'docs_id': {4: 1, 8: 1}, 'count': 2}, 'identifi': {'docs_id': {4: 1}, 'count': 1}, 'jacket': {'docs_id': {4: 1}, 'count': 1}, 'insist': {'docs_id': {4: 1, 6: 1}, 'count': 2}, 'wear': {'docs_id': {4: 1}, 'count': 1}, 'jumpsuit': {'docs_id': {4: 1}, 'count': 1}, 'earli': {'docs_id': {4: 1}, 'count': 1}, 'immedi': {'docs_id': {4: 1}, 'count': 1}, 'overturn': {'docs_id': {4: 1}, 'count': 1}, 'speech': {'docs_id': {5: 1, 7: 1, 8: 1}, 'count': 7}, 'travel': {'docs_id': {5: 1}, 'count': 1}, 'man': {'docs_id': {5: 1, 7: 1}, 'count': 4}, 'camera': {'docs_id': {5: 1}, 'count': 2}, 'ask': {'docs_id': {5: 1}, 'count': 2}, 'member': {'docs_id': {5: 1}, 'count': 2}, 'secret': {'docs_id': {5: 1}, 'count': 3}, 'question': {'docs_id': {5: 1, 6: 1}, 'count': 4}, 'shot': {'docs_id': {5: 1}, 'count': 1}, 'bodyguard': {'docs_id': {5: 1}, 'count': 1}, 'alex': {'docs_id': {5: 1}, 'count': 3}, 'thoma': {'docs_id': {5: 1}, 'count': 15}, 'graze': {'docs_id': {5: 1}, 'count': 1}, 'bullet': {'docs_id': {5: 1}, 'count': 1}, 'shooter': {'docs_id': {5: 1}, 'count': 1}, 'gun': {'docs_id': {5: 1}, 'count': 2}, 'agent': {'docs_id': {5: 1}, 'count': 3}, 'hospit': {'docs_id': {5: 1}, 'count': 1}, 'kate': {'docs_id': {5: 1}, 'count': 5}, 'crawford': {'docs_id': {5: 1}, 'count': 2}, 'journalist': {'docs_id': {5: 1}, 'count': 1}, 'start': {'docs_id': {5: 1, 6: 1, 7: 1, 8: 1}, 'count': 8}, 'assassin': {'docs_id': {5: 1}, 'count': 3}, 'anyon': {'docs_id': {5: 1}, 'count': 1}, 'thomass': {'docs_id': {5: 1}, 'count': 2}, 'hous': {'docs_id': {5: 1}, 'count': 5}, 'happen': {'docs_id': {5: 1, 9: 1}, 'count': 3}, 'boat': {'docs_id': {5: 1}, 'count': 1}, 'men': {'docs_id': {5: 1}, 'count': 1}, 'bush': {'docs_id': {5: 1}, 'count': 1}, 'water': {'docs_id': {5: 1, 6: 1}, 'count': 10}, 'dive': {'docs_id': {5: 1}, 'count': 1}, 'jump': {'docs_id': {5: 1, 8: 1}, 'count': 2}, 'hitmen': {'docs_id': {5: 1}, 'count': 2}, 'third': {'docs_id': {5: 1}, 'count': 1}, 'hitman': {'docs_id': {5: 1}, 'count': 1}, 'drive': {'docs_id': {5: 1}, 'count': 1}, 'link': {'docs_id': {5: 1}, 'count': 2}, 'jack': {'docs_id': {5: 1, 9: 1}, 'count': 3}, 'baldwin': {'docs_id': {5: 1}, 'count': 7}, 'attack': {'docs_id': {5: 1}, 'count': 2}, 'caught': {'docs_id': {5: 1}, 'count': 1}, 'suspici': {'docs_id': {5: 1}, 'count': 1}, 'vaughan': {'docs_id': {5: 1}, 'count': 1}, 'steven': {'docs_id': {5: 1}, 'count': 5}, 'review': {'docs_id': {5: 1, 8: 1}, 'count': 2}, 'film': {'docs_id': {5: 1, 6: 1, 8: 1}, 'count': 3}, 'hand': {'docs_id': {5: 1, 6: 1, 7: 1}, 'count': 4}, 'entranc': {'docs_id': {5: 1}, 'count': 1}, 'car': {'docs_id': {5: 1}, 'count': 2}, 'ladi': {'docs_id': {5: 1}, 'count': 2}, 'left': {'docs_id': {5: 1, 6: 1}, 'count': 3}, 'pull': {'docs_id': {5: 1}, 'count': 1}, 'want': {'docs_id': {5: 1, 6: 1, 7: 1}, 'count': 7}, 'unfaith': {'docs_id': {5: 1}, 'count': 1}, 'week': {'docs_id': {5: 1, 6: 1, 8: 1}, 'count': 3}, 'dinner': {'docs_id': {5: 1}, 'count': 1}, 'say': {'docs_id': {5: 1, 8: 1}, 'count': 2}, 'still': {'docs_id': {5: 1}, 'count': 1}, 'doesnt': {'docs_id': {5: 1}, 'count': 1}, '1974': {'docs_id': {6: 1}, 'count': 1}, 'young': {'docs_id': {6: 1, 7: 1}, 'count': 3}, 'dahlia': {'docs_id': {6: 1}, 'count': 21}, 'school': {'docs_id': {6: 1, 7: 1}, 'count': 12}, 'rain': {'docs_id': {6: 1}, 'count': 1}, 'wait': {'docs_id': {6: 1}, 'count': 1}, 'mother': {'docs_id': {6: 1, 7: 1}, 'count': 8}, 'flash': {'docs_id': {6: 1}, 'count': 1}, 'forward': {'docs_id': {6: 1}, 'count': 1}, '2005': {'docs_id': {6: 1}, 'count': 1}, 'grownup': {'docs_id': {6: 1}, 'count': 1}, 'midst': {'docs_id': {6: 1}, 'count': 1}, 'bitter': {'docs_id': {6: 1}, 'count': 1}, 'mediat': {'docs_id': {6: 1}, 'count': 1}, 'exhusband': {'docs_id': {6: 1}, 'count': 1}, 'kyle': {'docs_id': {6: 1}, 'count': 7}, 'custodi': {'docs_id': {6: 1}, 'count': 3}, 'cecilia': {'docs_id': {6: 1}, 'count': 19}, 'live': {'docs_id': {6: 1}, 'count': 3}, 'closer': {'docs_id': {6: 1}, 'count': 2}, 'apart': {'docs_id': {6: 1, 7: 1}, 'count': 9}, 'jersey': {'docs_id': {6: 1}, 'count': 2}, 'roosevelt': {'docs_id': {6: 1}, 'count': 2}, 'island': {'docs_id': {6: 1}, 'count': 2}, 'threaten': {'docs_id': {6: 1, 8: 1}, 'count': 2}, 'sue': {'docs_id': {6: 1}, 'count': 1}, 'full': {'docs_id': {6: 1}, 'count': 1}, 'feel': {'docs_id': {6: 1}, 'count': 1}, 'distanc': {'docs_id': {6: 1}, 'count': 1}, 'great': {'docs_id': {6: 1, 7: 1}, 'count': 2}, 'mental': {'docs_id': {6: 1}, 'count': 1}, 'unstabl': {'docs_id': {6: 1}, 'count': 1}, 'complex': {'docs_id': {6: 1}, 'count': 2}, 'block': {'docs_id': {6: 1}, 'count': 1}, 'superintend': {'docs_id': {6: 1}, 'count': 1}, 'dilapid': {'docs_id': {6: 1}, 'count': 1}, 'build': {'docs_id': {6: 1}, 'count': 1}, 'mr': {'docs_id': {6: 1}, 'count': 2}, 'veeck': {'docs_id': {6: 1}, 'count': 7}, 'murray': {'docs_id': {6: 1}, 'count': 4}, 'tour': {'docs_id': {6: 1}, 'count': 1}, 'hello': {'docs_id': {6: 1}, 'count': 2}, 'kitti': {'docs_id': {6: 1}, 'count': 2}, 'backpack': {'docs_id': {6: 1}, 'count': 3}, 'near': {'docs_id': {6: 1}, 'count': 1}, 'larg': {'docs_id': {6: 1}, 'count': 1}, 'tank': {'docs_id': {6: 1}, 'count': 3}, 'bag': {'docs_id': {6: 1}, 'count': 1}, 'one': {'docs_id': {6: 1, 7: 1, 8: 1}, 'count': 5}, 'dislik': {'docs_id': {6: 1}, 'count': 1}, 'desper': {'docs_id': {6: 1}, 'count': 1}, 'agre': {'docs_id': {6: 1, 7: 1}, 'count': 3}, 'shortli': {'docs_id': {6: 1}, 'count': 1}, 'bedroom': {'docs_id': {6: 1}, 'count': 1}, 'ceil': {'docs_id': {6: 1}, 'count': 2}, 'leak': {'docs_id': {6: 1}, 'count': 2}, 'dark': {'docs_id': {6: 1}, 'count': 3}, 'sourc': {'docs_id': {6: 1, 7: 1}, 'count': 2}, '10f': {'docs_id': {6: 1}, 'count': 3}, 'rimski': {'docs_id': {6: 1}, 'count': 2}, 'ago': {'docs_id': {6: 1}, 'count': 1}, 'flood': {'docs_id': {6: 1}, 'count': 2}, 'flow': {'docs_id': {6: 1}, 'count': 1}, 'everi': {'docs_id': {6: 1}, 'count': 2}, 'faucet': {'docs_id': {6: 1}, 'count': 1}, 'wall': {'docs_id': {6: 1}, 'count': 1}, 'toilet': {'docs_id': {6: 1}, 'count': 2}, 'portrait': {'docs_id': {6: 1}, 'count': 2}, 'tenantsa': {'docs_id': {6: 1}, 'count': 1}, 'complain': {'docs_id': {6: 1}, 'count': 1}, 'latter': {'docs_id': {6: 1}, 'count': 1}, 'dream': {'docs_id': {6: 1}, 'count': 2}, 'like': {'docs_id': {6: 1, 8: 1}, 'count': 2}, 'accord': {'docs_id': {6: 1}, 'count': 1}, 'teacher': {'docs_id': {6: 1, 7: 1}, 'count': 2}, 'isnt': {'docs_id': {6: 1}, 'count': 1}, 'fit': {'docs_id': {6: 1}, 'count': 1}, 'spend': {'docs_id': {6: 1}, 'count': 1}, 'much': {'docs_id': {6: 1}, 'count': 1}, 'imaginari': {'docs_id': {6: 1}, 'count': 1}, 'natasha': {'docs_id': {6: 1}, 'count': 12}, 'psychologist': {'docs_id': {6: 1}, 'count': 1}, 'recommend': {'docs_id': {6: 1}, 'count': 1}, 'declin': {'docs_id': {6: 1}, 'count': 1}, 'although': {'docs_id': {6: 1}, 'count': 1}, 'laundri': {'docs_id': {6: 1}, 'count': 1}, 'garbag': {'docs_id': {6: 1}, 'count': 1}, 'elev': {'docs_id': {6: 1}, 'count': 3}, 'read': {'docs_id': {6: 1, 8: 1}, 'count': 3}, 'shoddili': {'docs_id': {6: 1}, 'count': 1}, 'patch': {'docs_id': {6: 1}, 'count': 1}, 'control': {'docs_id': {6: 1}, 'count': 1}, 'paint': {'docs_id': {6: 1}, 'count': 1}, 'she': {'docs_id': {6: 1}, 'count': 1}, 'bathroom': {'docs_id': {6: 1}, 'count': 4}, 'gush': {'docs_id': {6: 1}, 'count': 1}, 'sink': {'docs_id': {6: 1}, 'count': 1}, 'cant': {'docs_id': {6: 1}, 'count': 2}, 'reach': {'docs_id': {6: 1}, 'count': 1}, 'pick': {'docs_id': {6: 1}, 'count': 3}, 'break': {'docs_id': {6: 1}, 'count': 1}, 'strang': {'docs_id': {6: 1}, 'count': 1}, 'lead': {'docs_id': {6: 1}, 'count': 1}, 'ladder': {'docs_id': {6: 1}, 'count': 1}, 'thought': {'docs_id': {6: 1}, 'count': 2}, 'alon': {'docs_id': {6: 1}, 'count': 1}, 'awar': {'docs_id': {6: 1}, 'count': 1}, 'fix': {'docs_id': {6: 1}, 'count': 1}, 'problem': {'docs_id': {6: 1}, 'count': 1}, 'plagu': {'docs_id': {6: 1}, 'count': 1}, 'share': {'docs_id': {6: 1, 7: 1}, 'count': 2}, 'easier': {'docs_id': {6: 1}, 'count': 1}, 'bath': {'docs_id': {6: 1}, 'count': 1}, 'hood': {'docs_id': {6: 1}, 'count': 1}, 'bathrob': {'docs_id': {6: 1}, 'count': 1}, 'rush': {'docs_id': {6: 1}, 'count': 1}, 'save': {'docs_id': {6: 1, 7: 1}, 'count': 2}, 'shower': {'docs_id': {6: 1}, 'count': 1}, 'compart': {'docs_id': {6: 1}, 'count': 1}, 'underwat': {'docs_id': {6: 1}, 'count': 1}, 'plead': {'docs_id': {6: 1}, 'count': 1}, 'forev': {'docs_id': {6: 1, 7: 1}, 'count': 2}, 'let': {'docs_id': {6: 1}, 'count': 1}, 'drown': {'docs_id': {6: 1}, 'count': 1}, 'spirit': {'docs_id': {6: 1}, 'count': 1}, 'shown': {'docs_id': {6: 1, 8: 1}, 'count': 2}, 'walk': {'docs_id': {6: 1, 7: 1}, 'count': 2}, 'hallway': {'docs_id': {6: 1}, 'count': 1}, 'station': {'docs_id': {6: 1}, 'count': 1}, 'rest': {'docs_id': {6: 1, 9: 1}, 'count': 2}, 'stuff': {'docs_id': {6: 1}, 'count': 1}, 'pictur': {'docs_id': {6: 1}, 'count': 1}, 'togeth': {'docs_id': {6: 1, 7: 1}, 'count': 2}, 'ghost': {'docs_id': {6: 1, 9: 1}, 'count': 2}, 'braid': {'docs_id': {6: 1}, 'count': 2}, 'hair': {'docs_id': {6: 1}, 'count': 2}, 'hertel': {'docs_id': {6: 1}, 'count': 1}, 'momentarili': {'docs_id': {6: 1}, 'count': 1}, 'horrifi': {'docs_id': {6: 1}, 'count': 1}, 'malfunct': {'docs_id': {6: 1}, 'count': 1}, 'weird': {'docs_id': {6: 1}, 'count': 1}, 'behavior': {'docs_id': {6: 1}, 'count': 1}, 'perhap': {'docs_id': {6: 1}, 'count': 1}, 'final': {'docs_id': {6: 1, 7: 1, 8: 1}, 'count': 3}, 'stori': {'docs_id': {7: 1}, 'count': 1}, 'hannah': {'docs_id': {7: 1}, 'count': 15}, 'jewish': {'docs_id': {7: 1}, 'count': 1}, 'teen': {'docs_id': {7: 1}, 'count': 1}, 'senior': {'docs_id': {7: 1}, 'count': 4}, 'high': {'docs_id': {7: 1}, 'count': 1}, 'brooklyn': {'docs_id': {7: 1}, 'count': 1}, 'sing': {'docs_id': {7: 1}, 'count': 7}, 'tradit': {'docs_id': {7: 1}, 'count': 2}, 'aliv': {'docs_id': {7: 1}, 'count': 1}, 'newli': {'docs_id': {7: 1}, 'count': 1}, 'lombardo': {'docs_id': {7: 1}, 'count': 5}, 'grew': {'docs_id': {7: 1}, 'count': 1}, 'leader': {'docs_id': {7: 1}, 'count': 4}, 'cold': {'docs_id': {7: 1}, 'count': 1}, 'hail': {'docs_id': {7: 1}, 'count': 1}, 'cab': {'docs_id': {7: 1}, 'count': 2}, 'attempt': {'docs_id': {7: 1, 8: 1}, 'count': 2}, 'mug': {'docs_id': {7: 1}, 'count': 1}, 'self': {'docs_id': {7: 1}, 'count': 1}, 'defens': {'docs_id': {7: 1}, 'count': 1}, 'bite': {'docs_id': {7: 1}, 'count': 1}, 'grip': {'docs_id': {7: 1}, 'count': 1}, 'scream': {'docs_id': {7: 1}, 'count': 1}, 'pain': {'docs_id': {7: 1}, 'count': 1}, 'terror': {'docs_id': {7: 1}, 'count': 1}, 'exit': {'docs_id': {7: 1}, 'count': 1}, 'joke': {'docs_id': {7: 1}, 'count': 1}, 'meter': {'docs_id': {7: 1}, 'count': 1}, 'yet': {'docs_id': {7: 1}, 'count': 1}, 'difficulti': {'docs_id': {7: 1}, 'count': 1}, 'student': {'docs_id': {7: 1}, 'count': 2}, 'uninterest': {'docs_id': {7: 1}, 'count': 1}, 'misbehav': {'docs_id': {7: 1}, 'count': 1}, 'domin': {'docs_id': {7: 1}, 'count': 14}, 'scold': {'docs_id': {7: 1}, 'count': 1}, 'bring': {'docs_id': {7: 1}, 'count': 1}, 'stolen': {'docs_id': {7: 1}, 'count': 1}, 'watch': {'docs_id': {7: 1}, 'count': 1}, 'ground': {'docs_id': {7: 1}, 'count': 1}, 'put': {'docs_id': {7: 1}, 'count': 2}, 'feet': {'docs_id': {7: 1}, 'count': 1}, 'desk': {'docs_id': {7: 1}, 'count': 1}, 'elect': {'docs_id': {7: 1}, 'count': 2}, 'mugger': {'docs_id': {7: 1}, 'count': 1}, 'bandag': {'docs_id': {7: 1}, 'count': 1}, 'blackmail': {'docs_id': {7: 1}, 'count': 1}, 'cose': {'docs_id': {7: 1}, 'count': 2}, 'class': {'docs_id': {7: 1}, 'count': 1}, 'along': {'docs_id': {7: 1}, 'count': 3}, 'right': {'docs_id': {7: 1}, 'count': 1}, 'product': {'docs_id': {7: 1}, 'count': 2}, 'clash': {'docs_id': {7: 1}, 'count': 1}, 'strategi': {'docs_id': {7: 1}, 'count': 1}, 'introduc': {'docs_id': {7: 1}, 'count': 1}, 'flavor': {'docs_id': {7: 1}, 'count': 1}, 'youth': {'docs_id': {7: 1}, 'count': 1}, 'order': {'docs_id': {7: 1, 9: 1}, 'count': 2}, 'page': {'docs_id': {7: 1}, 'count': 1}, 'club': {'docs_id': {7: 1, 8: 1}, 'count': 3}, 'equal': {'docs_id': {7: 1, 8: 1}, 'count': 2}, 'hesit': {'docs_id': {7: 1}, 'count': 1}, 'term': {'docs_id': {7: 1}, 'count': 1}, 'date': {'docs_id': {7: 1}, 'count': 1}, 'ex': {'docs_id': {7: 1}, 'count': 1}, 'boyfriend': {'docs_id': {7: 1}, 'count': 1}, 'mickey': {'docs_id': {7: 1}, 'count': 1}, 'jealou': {'docs_id': {7: 1}, 'count': 1}, 'light': {'docs_id': {7: 1}, 'count': 1}, 'romant': {'docs_id': {7: 1}, 'count': 1}, 'kiss': {'docs_id': {7: 1}, 'count': 1}, 'unit': {'docs_id': {7: 1}, 'count': 1}, 'dept': {'docs_id': {7: 1}, 'count': 1}, 'educ': {'docs_id': {7: 1}, 'count': 1}, 'door': {'docs_id': {7: 1, 9: 1}, 'count': 2}, 'semest': {'docs_id': {7: 1}, 'count': 1}, 'therefor': {'docs_id': {7: 1}, 'count': 1}, 'enough': {'docs_id': {7: 1}, 'count': 1}, 'resourc': {'docs_id': {7: 1}, 'count': 1}, 'fuel': {'docs_id': {7: 1}, 'count': 1}, 'even': {'docs_id': {7: 1}, 'count': 2}, 'harder': {'docs_id': {7: 1}, 'count': 1}, 'financ': {'docs_id': {7: 1}, 'count': 1}, 'author': {'docs_id': {7: 1}, 'count': 1}, 'ban': {'docs_id': {7: 1}, 'count': 1}, 'iron': {'docs_id': {7: 1}, 'count': 1}, 'robberi': {'docs_id': {7: 1}, 'count': 1}, 'diner': {'docs_id': {7: 1, 8: 1}, 'count': 4}, 'incom': {'docs_id': {7: 1}, 'count': 1}, 'alreadi': {'docs_id': {7: 1, 8: 1}, 'count': 2}, 'failur': {'docs_id': {7: 1, 8: 1}, 'count': 2}, 'upcom': {'docs_id': {7: 1}, 'count': 1}, 'closur': {'docs_id': {7: 1}, 'count': 1}, 'devast': {'docs_id': {7: 1}, 'count': 1}, 'steal': {'docs_id': {7: 1}, 'count': 1}, 'restor': {'docs_id': {7: 1}, 'count': 1}, 'recent': {'docs_id': {7: 1}, 'count': 1}, 'discourag': {'docs_id': {7: 1}, 'count': 1}, 'fulfil': {'docs_id': {7: 1}, 'count': 1}, 'duti': {'docs_id': {7: 1}, 'count': 1}, 'skip': {'docs_id': {7: 1}, 'count': 1}, 'rehears': {'docs_id': {7: 1}, 'count': 1}, 'moment': {'docs_id': {7: 1}, 'count': 1}, 'unconsci': {'docs_id': {7: 1}, 'count': 1}, 'step': {'docs_id': {7: 1}, 'count': 1}, 'shed': {'docs_id': {7: 1}, 'count': 1}, 'badboy': {'docs_id': {7: 1}, 'count': 1}, 'demeanor': {'docs_id': {7: 1}, 'count': 1}, 'exce': {'docs_id': {7: 1}, 'count': 1}, 'expect': {'docs_id': {7: 1}, 'count': 1}, 'underclassmen': {'docs_id': {7: 1}, 'count': 1}, 'recordhigh': {'docs_id': {7: 1}, 'count': 1}, 'sold': {'docs_id': {7: 1}, 'count': 1}, 'motiv': {'docs_id': {7: 1}, 'count': 1}, 'commun': {'docs_id': {7: 1}, 'count': 2}, 'rejoic': {'docs_id': {7: 1}, 'count': 1}, 'compromis': {'docs_id': {7: 1}, 'count': 1}, 'prove': {'docs_id': {7: 1}, 'count': 1}, 'worth': {'docs_id': {7: 1}, 'count': 1}, 'infuri': {'docs_id': {8: 1}, 'count': 1}, 'told': {'docs_id': {8: 1}, 'count': 1}, 'write': {'docs_id': {8: 1}, 'count': 3}, 'column': {'docs_id': {8: 1}, 'count': 1}, 'laid': {'docs_id': {8: 1}, 'count': 1}, 'newspap': {'docs_id': {8: 1}, 'count': 5}, 'ann': {'docs_id': {8: 1}, 'count': 1}, 'mitchel': {'docs_id': {8: 1}, 'count': 8}, 'print': {'docs_id': {8: 1}, 'count': 1}, 'letter': {'docs_id': {8: 1}, 'count': 5}, 'fiction': {'docs_id': {8: 1}, 'count': 2}, 'unemploy': {'docs_id': {8: 1}, 'count': 1}, 'john': {'docs_id': {8: 1}, 'count': 11}, 'doe': {'docs_id': {8: 1}, 'count': 11}, 'societi': {'docs_id': {8: 1}, 'count': 2}, 'ill': {'docs_id': {8: 1}, 'count': 1}, 'note': {'docs_id': {8: 1}, 'count': 1}, 'sensat': {'docs_id': {8: 1}, 'count': 2}, 'paper': {'docs_id': {8: 1}, 'count': 2}, 'competit': {'docs_id': {8: 1}, 'count': 1}, 'suspect': {'docs_id': {8: 1}, 'count': 1}, 'fraud': {'docs_id': {8: 1}, 'count': 1}, 'editor': {'docs_id': {8: 1}, 'count': 2}, 'rehir': {'docs_id': {8: 1}, 'count': 1}, 'exploit': {'docs_id': {8: 1}, 'count': 1}, 'fake': {'docs_id': {8: 1}, 'count': 2}, 'boost': {'docs_id': {8: 1}, 'count': 1}, 'sale': {'docs_id': {8: 1}, 'count': 1}, 'bonu': {'docs_id': {8: 1}, 'count': 1}, '8': {'docs_id': {8: 1}, 'count': 1}, 'number': {'docs_id': {8: 1}, 'count': 1}, 'derelict': {'docs_id': {8: 1}, 'count': 1}, 'pen': {'docs_id': {8: 1}, 'count': 2}, 'connel': {'docs_id': {8: 1}, 'count': 2}, 'hire': {'docs_id': {8: 1}, 'count': 2}, 'willoughbi': {'docs_id': {8: 1}, 'count': 7}, 'basebal': {'docs_id': {8: 1}, 'count': 1}, 'player': {'docs_id': {8: 1}, 'count': 1}, 'tramp': {'docs_id': {8: 1}, 'count': 2}, 'repair': {'docs_id': {8: 1}, 'count': 1}, 'arm': {'docs_id': {8: 1}, 'count': 1}, 'articl': {'docs_id': {8: 1}, 'count': 1}, 'seri': {'docs_id': {8: 1, 9: 1}, 'count': 2}, 'elabor': {'docs_id': {8: 1}, 'count': 1}, 'idea': {'docs_id': {8: 1}, 'count': 1}, 'disregard': {'docs_id': {8: 1}, 'count': 1}, 'peopl': {'docs_id': {8: 1, 9: 1}, 'count': 3}, '50': {'docs_id': {8: 1}, 'count': 1}, 'plush': {'docs_id': {8: 1}, 'count': 1}, 'hotel': {'docs_id': {8: 1}, 'count': 1}, 'launch': {'docs_id': {8: 1}, 'count': 1}, 'extend': {'docs_id': {8: 1}, 'count': 1}, 'diatrib': {'docs_id': {8: 1}, 'count': 1}, 'heelot': {'docs_id': {8: 1}, 'count': 1}, 'heel': {'docs_id': {8: 1}, 'count': 1}, 'incessantli': {'docs_id': {8: 1}, 'count': 1}, 'focu': {'docs_id': {8: 1}, 'count': 1}, 'radio': {'docs_id': {8: 1}, 'count': 2}, 'guid': {'docs_id': {8: 1}, 'count': 1}, '100': {'docs_id': {8: 1}, 'count': 1}, 'paid': {'docs_id': {8: 1}, 'count': 1}, 'publish': {'docs_id': {8: 1}, 'count': 1}, 'db': {'docs_id': {8: 1}, 'count': 1}, 'norton': {'docs_id': {8: 1}, 'count': 7}, 'edward': {'docs_id': {8: 1}, 'count': 1}, 'arnold': {'docs_id': {8: 1}, 'count': 1}, '5000': {'docs_id': {8: 1}, 'count': 1}, 'bribe': {'docs_id': {8: 1}, 'count': 1}, 'admit': {'docs_id': {8: 1}, 'count': 1}, 'stunt': {'docs_id': {8: 1}, 'count': 1}, 'dash': {'docs_id': {8: 1}, 'count': 1}, 'countrysid': {'docs_id': {8: 1}, 'count': 1}, 'colonel': {'docs_id': {8: 1}, 'count': 1}, 'ride': {'docs_id': {8: 1}, 'count': 1}, 'rail': {'docs_id': {8: 1}, 'count': 1}, 'harmonica': {'docs_id': {8: 1}, 'count': 1}, 'ocarina': {'docs_id': {8: 1}, 'count': 1}, 'millsvil': {'docs_id': {8: 1}, 'count': 1}, 'he': {'docs_id': {8: 1, 9: 1}, 'count': 3}, 'brought': {'docs_id': {8: 1}, 'count': 1}, 'hall': {'docs_id': {8: 1}, 'count': 2}, 'met': {'docs_id': {8: 1}, 'count': 1}, 'hanson': {'docs_id': {8: 1}, 'count': 1}, 'fiveminut': {'docs_id': {8: 1}, 'count': 1}, 'monologu': {'docs_id': {8: 1}, 'count': 1}, 'philosophi': {'docs_id': {8: 1}, 'count': 2}, 'spread': {'docs_id': {8: 1}, 'count': 1}, 'broad': {'docs_id': {8: 1}, 'count': 1}, 'grassroot': {'docs_id': {8: 1}, 'count': 1}, 'movement': {'docs_id': {8: 1}, 'count': 1}, 'whose': {'docs_id': {8: 1}, 'count': 1}, 'simpl': {'docs_id': {8: 1}, 'count': 1}, 'slogan': {'docs_id': {8: 1}, 'count': 1}, 'better': {'docs_id': {8: 1}, 'count': 1}, 'neighbor': {'docs_id': {8: 1}, 'count': 1}, 'far': {'docs_id': {8: 1}, 'count': 1}, 'altruist': {'docs_id': {8: 1}, 'count': 1}, 'philanthropist': {'docs_id': {8: 1}, 'count': 1}, 'channel': {'docs_id': {8: 1}, 'count': 1}, 'polit': {'docs_id': {8: 1}, 'count': 2}, 'ambit': {'docs_id': {8: 1}, 'count': 1}, 'culmin': {'docs_id': {8: 1}, 'count': 1}, 'instruct': {'docs_id': {8: 1}, 'count': 1}, 'foundat': {'docs_id': {8: 1}, 'count': 1}, 'endors': {'docs_id': {8: 1}, 'count': 1}, 'presidenti': {'docs_id': {8: 1}, 'count': 1}, 'candid': {'docs_id': {8: 1}, 'count': 1}, 'expos': {'docs_id': {8: 1}, 'count': 2}, 'stymi': {'docs_id': {8: 1}, 'count': 1}, 'mind': {'docs_id': {8: 1}, 'count': 1}, 'nationwid': {'docs_id': {8: 1}, 'count': 1}, 'ralli': {'docs_id': {8: 1}, 'count': 1}, 'prepar': {'docs_id': {8: 1}, 'count': 1}, 'deceiv': {'docs_id': {8: 1}, 'count': 1}, 'els': {'docs_id': {8: 1}, 'count': 1}, 'staff': {'docs_id': {8: 1}, 'count': 1}, 'frustrat': {'docs_id': {8: 1}, 'count': 1}, 'indic': {'docs_id': {8: 1}, 'count': 1}, 'intervent': {'docs_id': {8: 1}, 'count': 1}, 'persuad': {'docs_id': {8: 1}, 'count': 1}, 'reneg': {'docs_id': {8: 1}, 'count': 1}, 'threat': {'docs_id': {8: 1}, 'count': 1}, 'point': {'docs_id': {8: 1}, 'count': 1}, 'movi': {'docs_id': {8: 1}, 'count': 1}, 'refer': {'docs_id': {8: 1}, 'count': 1}, 'jesu': {'docs_id': {8: 1}, 'count': 1}, 'christ': {'docs_id': {8: 1}, 'count': 1}, 'histor': {'docs_id': {8: 1}, 'count': 1}, 'sake': {'docs_id': {8: 1}, 'count': 1}, 'human': {'docs_id': {8: 1}, 'count': 1}, 'lick': {'docs_id': {8: 1}, 'count': 1}, 'line': {'docs_id': {9: 1}, 'count': 1}, 'drool': {'docs_id': {9: 1}, 'count': 1}, 'window': {'docs_id': {9: 1}, 'count': 1}, 'shop': {'docs_id': {9: 1}, 'count': 1}, 'market': {'docs_id': {9: 1}, 'count': 1}, 'butcher': {'docs_id': {9: 1}, 'count': 1}, 'buzz': {'docs_id': {9: 1}, 'count': 4}, 'buzzard': {'docs_id': {9: 1}, 'count': 1}, 'gag': {'docs_id': {9: 1}, 'count': 1}, 'dishonestli': {'docs_id': {9: 1}, 'count': 1}, 'price': {'docs_id': {9: 1}, 'count': 1}, 'woodi': {'docs_id': {9: 1}, 'count': 4}, 'broke': {'docs_id': {9: 1}, 'count': 1}, 'usual': {'docs_id': {9: 1}, 'count': 1}, 'thrown': {'docs_id': {9: 1}, 'count': 1}, 'collid': {'docs_id': {9: 1}, 'count': 1}, 'bottl': {'docs_id': {9: 1}, 'count': 1}, 'invis': {'docs_id': {9: 1}, 'count': 2}, 'ink': {'docs_id': {9: 1}, 'count': 2}, 'partial': {'docs_id': {9: 1}, 'count': 1}, 'somewhat': {'docs_id': {9: 1}, 'count': 1}, 'gruesom': {'docs_id': {9: 1}, 'count': 1}, 'dismemb': {'docs_id': {9: 1}, 'count': 1}, 'sweep': {'docs_id': {9: 1}, 'count': 1}, 'rid': {'docs_id': {9: 1}, 'count': 1}, 'awak': {'docs_id': {9: 1}, 'count': 1}, 'dous': {'docs_id': {9: 1}, 'count': 1}, 'pose': {'docs_id': {9: 1}, 'count': 1}}, 'total': 2712}\n"
          ]
        }
      ],
      "source": [
        "print(englishPostingList)"
      ]
    },
    {
      "cell_type": "code",
      "source": [
        "#Save Persian data frame after the preprocess\n",
        "df2.to_csv('english.csv')"
      ],
      "metadata": {
        "id": "SYpLIuZB5fPJ"
      },
      "execution_count": 41,
      "outputs": []
    },
    {
      "cell_type": "code",
      "source": [
        "#Save Posting List\n",
        "with open(\"/content/english_outputPosting.txt\", \"w\") as txt_file:\n",
        "        txt_file.write(str(sorted_englishPostingList))"
      ],
      "metadata": {
        "id": "sL4gV-3b-Uu8"
      },
      "execution_count": 42,
      "outputs": []
    },
    {
      "cell_type": "code",
      "source": [
        "!ls -l --block-size=MB"
      ],
      "metadata": {
        "id": "aZpRPq-70CWT",
        "colab": {
          "base_uri": "https://localhost:8080/"
        },
        "outputId": "be14b6df-baea-43ed-d895-4414cf46b1d1"
      },
      "execution_count": 43,
      "outputs": [
        {
          "output_type": "stream",
          "name": "stdout",
          "text": [
            "total 183MB\n",
            "-rw-r--r-- 1 root  root  78MB Nov 12 20:27 english.csv\n",
            "-rw-r--r-- 1 root  root   1MB Nov 12 20:27 english_outputPosting.txt\n",
            "-rw-r--r-- 1 root  root   2MB Nov 12 17:57 final_books.xlsx\n",
            "-rw-r--r-- 1 root  root   2MB Nov 12 19:43 final_books.xlsx.1\n",
            "-rw-r--r-- 1 root  root   2MB Nov 12 20:25 final_books.xlsx.2\n",
            "-rw-r--r-- 1 root  root   2MB Nov 12 20:26 final_books.xlsx.3\n",
            "drwxrwxr-x 2 14584 14584  1MB May  6  2013 MovieSummaries\n",
            "-rw-r--r-- 1 root  root  49MB Jun 11  2015 MovieSummaries.tar.gz\n",
            "-rw-r--r-- 1 root  root  49MB Jun 11  2015 MovieSummaries.tar.gz.1\n",
            "-rw-r--r-- 1 root  root   4MB Nov 12 20:27 persian.csv\n",
            "-rw-r--r-- 1 root  root   1MB Nov 12 20:27 persian_outputPosting.txt\n",
            "drwxr-xr-x 1 root  root   1MB Nov  9 14:25 sample_data\n"
          ]
        }
      ]
    },
    {
      "cell_type": "markdown",
      "metadata": {
        "id": "hp8IoAVDCKtQ"
      },
      "source": [
        "#Boolean model"
      ]
    },
    {
      "cell_type": "code",
      "execution_count": 44,
      "metadata": {
        "id": "kjPhKjgLCNTM"
      },
      "outputs": [],
      "source": [
        "def getBooleanModel(start_doc, end_doc, postingList):\n",
        "    boolean_model_all = {}\n",
        "    for i in range(start_doc, end_doc):\n",
        "        boolean_model_all.setdefault(i, {})\n",
        "        for word in postingList[\"words\"]:\n",
        "            if i in postingList[\"words\"][word][\"docs_id\"]:\n",
        "                boolean_model_all[i][word] = 1\n",
        "            else:\n",
        "                boolean_model_all[i][word] = 0\n",
        "    return boolean_model_all"
      ]
    },
    {
      "cell_type": "code",
      "execution_count": 45,
      "metadata": {
        "id": "kmPpF1wZcUzu"
      },
      "outputs": [],
      "source": [
        "def queryStemmer(word):\n",
        "  norm = convertToLowerCase(word)\n",
        "  stemmer = Stemmer()\n",
        "  stem_word = stemmer.stem(norm)\n",
        "  return stem_word"
      ]
    },
    {
      "cell_type": "code",
      "execution_count": 46,
      "metadata": {
        "id": "-dDbZAuHcn4Z"
      },
      "outputs": [],
      "source": [
        "def ready_query(query, postingList, booleanModel):\n",
        "  query_dict = {}\n",
        "  for word in query:\n",
        "    if \"!\" in word:\n",
        "      word = word.replace('!','')\n",
        "    norm_word = queryStemmer(word)\n",
        "    query_dict[norm_word] = []\n",
        "    for i in range(start_doc, end_doc):\n",
        "      if ((word in postingList[\"words\"].keys()) and (booleanModel[i][word] == 1)):\n",
        "        query_dict[norm_word].append(i)\n",
        "      if ((norm_word in postingList[\"words\"]) and (booleanModel[i][norm_word] == 1)):\n",
        "        query_dict[norm_word].append(i)\n",
        "  return query_dict"
      ]
    },
    {
      "cell_type": "code",
      "execution_count": 47,
      "metadata": {
        "id": "aPjjxiTqcrf4"
      },
      "outputs": [],
      "source": [
        "def and_find_docs(query, start_doc, end_doc, query_dict):\n",
        "  doc_ids = {i for i in range(start_doc, end_doc)}\n",
        "  for word in query:\n",
        "    if \"!\" in word:\n",
        "      word = word.replace('!','')\n",
        "      word = queryStemmer(word)\n",
        "      doc_ids = doc_ids - set(query_dict[word])\n",
        "\n",
        "    else:\n",
        "      word = queryStemmer(word)\n",
        "      doc_ids = doc_ids & set(query_dict[word])\n",
        "\n",
        "  return doc_ids"
      ]
    },
    {
      "cell_type": "code",
      "execution_count": 48,
      "metadata": {
        "id": "kaTTLXarCLWS"
      },
      "outputs": [],
      "source": [
        "def or_find_docs(query, start_doc, end_doc, query_dict):\n",
        "  final_doc_id = set()\n",
        "  doc_ids = {i for i in range(start_doc, end_doc)}\n",
        "  for word in query:\n",
        "    if \"!\" in word:\n",
        "      word = word.replace('!','')\n",
        "      word = queryStemmer(word)\n",
        "      final_doc_id.update(list(doc_ids - set(query_dict[word])))\n",
        "\n",
        "    else:\n",
        "      word = queryStemmer(word)\n",
        "      final_doc_id.update(list(doc_ids & set(query_dict[word])))\n",
        "\n",
        "  return final_doc_id"
      ]
    },
    {
      "cell_type": "code",
      "execution_count": 49,
      "metadata": {
        "id": "Z1y6LthUd6o6"
      },
      "outputs": [],
      "source": [
        "persianBooleanModel = getBooleanModel(start_doc, end_doc, sorted_persianPostingList)\n",
        "englishBooleanModel = getBooleanModel(start_doc, end_doc, sorted_englishPostingList)"
      ]
    },
    {
      "cell_type": "code",
      "execution_count": null,
      "metadata": {
        "id": "a5UxgWXvch62",
        "colab": {
          "base_uri": "https://localhost:8080/"
        },
        "outputId": "acd09280-d972-4931-a4aa-8b75d0a80b7f"
      },
      "outputs": [
        {
          "output_type": "stream",
          "name": "stdout",
          "text": [
            "1:Persian 2:English\n"
          ]
        }
      ],
      "source": [
        "print(\"1:Persian 2:English\")\n",
        "l=str(input())\n",
        "\n",
        "query = str(input(\"enter query:\"))\n",
        "\n",
        "docs = []\n",
        "allDocs = []\n",
        "\n",
        "if l=='1':\n",
        "  if \"+\" in query:\n",
        "    query = query.split(\"+\")\n",
        "    allDocs = ready_query(query, sorted_persianPostingList, persianBooleanModel)\n",
        "    docs = or_find_docs(query, start_doc, end_doc, allDocs)\n",
        "  elif \".\" in query:\n",
        "    query = query.split(\".\")\n",
        "    allDocs = ready_query(query, sorted_persianPostingList, persianBooleanModel)\n",
        "    docs = and_find_docs(query, start_doc, end_doc, allDocs)\n",
        "else:\n",
        "  if \"+\" in query:\n",
        "    query = query.split(\"+\")\n",
        "    allDocs = ready_query(query, sorted_englishPostingList, englishBooleanModel)\n",
        "    docs = or_find_docs(query, start_doc, end_doc, allDocs)\n",
        "  elif \".\" in query:\n",
        "    query = query.split(\".\")\n",
        "    allDocs = ready_query(query, sorted_englishPostingList, englishBooleanModel)\n",
        "    docs = and_find_docs(query, start_doc, end_doc, allDocs)\n",
        "\n",
        "print(docs)"
      ]
    }
  ],
  "metadata": {
    "colab": {
      "provenance": []
    },
    "kernelspec": {
      "display_name": "Python 3",
      "name": "python3"
    },
    "language_info": {
      "name": "python"
    }
  },
  "nbformat": 4,
  "nbformat_minor": 0
}